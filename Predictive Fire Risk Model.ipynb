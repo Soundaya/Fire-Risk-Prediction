{
 "cells": [
  {
   "cell_type": "markdown",
   "metadata": {
    "collapsed": true
   },
   "source": [
    "# Predictive Modeling for Risk Score calculation"
   ]
  },
  {
   "cell_type": "markdown",
   "metadata": {},
   "source": [
    "### Imports"
   ]
  },
  {
   "cell_type": "code",
   "execution_count": 1,
   "metadata": {
    "collapsed": true
   },
   "outputs": [],
   "source": [
    "## Import relevant libraries\n",
    "\n",
    "import numpy as np\n",
    "import pandas as pd\n",
    "import math\n",
    "import matplotlib.pyplot as plt\n",
    "%matplotlib inline\n",
    "import seaborn as sns\n",
    "\n",
    "from datetime import datetime "
   ]
  },
  {
   "cell_type": "code",
   "execution_count": 2,
   "metadata": {
    "collapsed": true
   },
   "outputs": [],
   "source": [
    "# Stop deprecation warnings from being printed\n",
    "import warnings\n",
    "warnings.filterwarnings(\"ignore\")"
   ]
  },
  {
   "cell_type": "code",
   "execution_count": 3,
   "metadata": {},
   "outputs": [
    {
     "name": "stderr",
     "output_type": "stream",
     "text": [
      "C:\\Users\\96926\\AppData\\Local\\Continuum\\anaconda3\\lib\\site-packages\\sklearn\\cross_validation.py:41: DeprecationWarning: This module was deprecated in version 0.18 in favor of the model_selection module into which all the refactored classes and functions are moved. Also note that the interface of the new CV iterators are different from that of this module. This module will be removed in 0.20.\n",
      "  \"This module will be removed in 0.20.\", DeprecationWarning)\n"
     ]
    }
   ],
   "source": [
    "# packages for logistic regression, naivebayes, KNN, decision tree, random forest\n",
    "\n",
    "from sklearn.cross_validation import train_test_split\n",
    "\n",
    "from sklearn import metrics\n",
    "from sklearn.metrics import r2_score, mean_squared_error\n",
    "from sklearn.metrics import confusion_matrix,accuracy_score,classification_report,roc_curve,auc\n",
    "\n",
    "from sklearn.model_selection import cross_val_score,GridSearchCV, learning_curve, StratifiedShuffleSplit\n",
    "\n",
    "from sklearn import neighbors, tree, naive_bayes\n",
    "from sklearn.linear_model import LogisticRegression\n",
    "from sklearn.svm import SVC\n",
    "from xgboost.sklearn import XGBClassifier\n",
    "from sklearn.naive_bayes import GaussianNB\n",
    "from sklearn.neighbors import KNeighborsClassifier\n",
    "from sklearn.tree import DecisionTreeClassifier\n",
    "from sklearn.ensemble import RandomForestClassifier,AdaBoostClassifier, ExtraTreesClassifier, GradientBoostingClassifier\n"
   ]
  },
  {
   "cell_type": "markdown",
   "metadata": {},
   "source": [
    "### Read File"
   ]
  },
  {
   "cell_type": "code",
   "execution_count": 4,
   "metadata": {
    "collapsed": true
   },
   "outputs": [],
   "source": [
    "df = pd.read_excel(\"C:/Users/96926/Desktop/incidents.xlsx\",sheetname='Query')"
   ]
  },
  {
   "cell_type": "code",
   "execution_count": 5,
   "metadata": {
    "scrolled": true
   },
   "outputs": [
    {
     "data": {
      "text/html": [
       "<div>\n",
       "<style>\n",
       "    .dataframe thead tr:only-child th {\n",
       "        text-align: right;\n",
       "    }\n",
       "\n",
       "    .dataframe thead th {\n",
       "        text-align: left;\n",
       "    }\n",
       "\n",
       "    .dataframe tbody tr th {\n",
       "        vertical-align: top;\n",
       "    }\n",
       "</style>\n",
       "<table border=\"1\" class=\"dataframe\">\n",
       "  <thead>\n",
       "    <tr style=\"text-align: right;\">\n",
       "      <th></th>\n",
       "      <th>id</th>\n",
       "      <th>prfid</th>\n",
       "      <th>fireorigin</th>\n",
       "      <th>heatsource</th>\n",
       "      <th>ignitioncause</th>\n",
       "      <th>ignitionfactor</th>\n",
       "      <th>incdate</th>\n",
       "      <th>incend</th>\n",
       "      <th>incref</th>\n",
       "      <th>inccode</th>\n",
       "      <th>...</th>\n",
       "      <th>bldggrade_desc</th>\n",
       "      <th>foundation_desc</th>\n",
       "      <th>heatfuel_desc</th>\n",
       "      <th>cnt_fullbaths_rm</th>\n",
       "      <th>cnt_addlbaths</th>\n",
       "      <th>cnt_threeqtrbaths</th>\n",
       "      <th>cnt_halfbaths_rm</th>\n",
       "      <th>cnt_otherfixtures</th>\n",
       "      <th>propertyuse_desc</th>\n",
       "      <th>num_bedrooms_rm</th>\n",
       "    </tr>\n",
       "  </thead>\n",
       "  <tbody>\n",
       "    <tr>\n",
       "      <th>0</th>\n",
       "      <td>124674776</td>\n",
       "      <td>0</td>\n",
       "      <td>NaN</td>\n",
       "      <td>NaN</td>\n",
       "      <td>NaN</td>\n",
       "      <td>NaN</td>\n",
       "      <td>2017-04-26 06:03:22</td>\n",
       "      <td>2017-04-26 06:15:55</td>\n",
       "      <td>NaN</td>\n",
       "      <td>NaN</td>\n",
       "      <td>...</td>\n",
       "      <td>AVERAGE 04</td>\n",
       "      <td>SLAB-RES</td>\n",
       "      <td>ELECTRIC</td>\n",
       "      <td>0.0</td>\n",
       "      <td>0.0</td>\n",
       "      <td>0.0</td>\n",
       "      <td>0.0</td>\n",
       "      <td>32.0</td>\n",
       "      <td>Multi-Family</td>\n",
       "      <td>0.0</td>\n",
       "    </tr>\n",
       "    <tr>\n",
       "      <th>1</th>\n",
       "      <td>123169075</td>\n",
       "      <td>0</td>\n",
       "      <td>NaN</td>\n",
       "      <td>NaN</td>\n",
       "      <td>NaN</td>\n",
       "      <td>NaN</td>\n",
       "      <td>2017-03-20 23:23:51</td>\n",
       "      <td>2017-03-20 23:50:16</td>\n",
       "      <td>NaN</td>\n",
       "      <td>NaN</td>\n",
       "      <td>...</td>\n",
       "      <td>AVERAGE 04</td>\n",
       "      <td>SLAB-RES</td>\n",
       "      <td>ELECTRIC</td>\n",
       "      <td>0.0</td>\n",
       "      <td>0.0</td>\n",
       "      <td>0.0</td>\n",
       "      <td>0.0</td>\n",
       "      <td>32.0</td>\n",
       "      <td>Multi-Family</td>\n",
       "      <td>0.0</td>\n",
       "    </tr>\n",
       "    <tr>\n",
       "      <th>2</th>\n",
       "      <td>105064764</td>\n",
       "      <td>0</td>\n",
       "      <td>NaN</td>\n",
       "      <td>NaN</td>\n",
       "      <td>NaN</td>\n",
       "      <td>NaN</td>\n",
       "      <td>2016-01-01 00:49:01</td>\n",
       "      <td>2016-01-01 00:56:40</td>\n",
       "      <td>NaN</td>\n",
       "      <td>321.0</td>\n",
       "      <td>...</td>\n",
       "      <td>AVERAGE 04</td>\n",
       "      <td>SLAB-RES</td>\n",
       "      <td>ELECTRIC</td>\n",
       "      <td>0.0</td>\n",
       "      <td>0.0</td>\n",
       "      <td>0.0</td>\n",
       "      <td>0.0</td>\n",
       "      <td>32.0</td>\n",
       "      <td>Multi-Family</td>\n",
       "      <td>0.0</td>\n",
       "    </tr>\n",
       "    <tr>\n",
       "      <th>3</th>\n",
       "      <td>114477824</td>\n",
       "      <td>4647860</td>\n",
       "      <td>NaN</td>\n",
       "      <td>NaN</td>\n",
       "      <td>NaN</td>\n",
       "      <td>NaN</td>\n",
       "      <td>2016-09-06 08:51:49</td>\n",
       "      <td>2016-09-06 09:04:23</td>\n",
       "      <td>NaN</td>\n",
       "      <td>NaN</td>\n",
       "      <td>...</td>\n",
       "      <td>AVERAGE 04</td>\n",
       "      <td>SLAB-RES</td>\n",
       "      <td>ELECTRIC</td>\n",
       "      <td>0.0</td>\n",
       "      <td>0.0</td>\n",
       "      <td>0.0</td>\n",
       "      <td>0.0</td>\n",
       "      <td>32.0</td>\n",
       "      <td>Multi-Family</td>\n",
       "      <td>0.0</td>\n",
       "    </tr>\n",
       "    <tr>\n",
       "      <th>4</th>\n",
       "      <td>85807147</td>\n",
       "      <td>0</td>\n",
       "      <td>NaN</td>\n",
       "      <td>NaN</td>\n",
       "      <td>NaN</td>\n",
       "      <td>NaN</td>\n",
       "      <td>2014-06-11 17:41:01</td>\n",
       "      <td>2014-06-11 17:52:41</td>\n",
       "      <td>NaN</td>\n",
       "      <td>321.0</td>\n",
       "      <td>...</td>\n",
       "      <td>AVERAGE 01</td>\n",
       "      <td>SLAB-ABV GRD</td>\n",
       "      <td>GAS</td>\n",
       "      <td>0.0</td>\n",
       "      <td>0.0</td>\n",
       "      <td>0.0</td>\n",
       "      <td>0.0</td>\n",
       "      <td>2.0</td>\n",
       "      <td>Commercial</td>\n",
       "      <td>0.0</td>\n",
       "    </tr>\n",
       "  </tbody>\n",
       "</table>\n",
       "<p>5 rows × 140 columns</p>\n",
       "</div>"
      ],
      "text/plain": [
       "          id    prfid fireorigin heatsource ignitioncause ignitionfactor  \\\n",
       "0  124674776        0        NaN        NaN           NaN            NaN   \n",
       "1  123169075        0        NaN        NaN           NaN            NaN   \n",
       "2  105064764        0        NaN        NaN           NaN            NaN   \n",
       "3  114477824  4647860        NaN        NaN           NaN            NaN   \n",
       "4   85807147        0        NaN        NaN           NaN            NaN   \n",
       "\n",
       "               incdate               incend  incref  inccode       ...        \\\n",
       "0  2017-04-26 06:03:22  2017-04-26 06:15:55     NaN      NaN       ...         \n",
       "1  2017-03-20 23:23:51  2017-03-20 23:50:16     NaN      NaN       ...         \n",
       "2  2016-01-01 00:49:01  2016-01-01 00:56:40     NaN    321.0       ...         \n",
       "3  2016-09-06 08:51:49  2016-09-06 09:04:23     NaN      NaN       ...         \n",
       "4  2014-06-11 17:41:01  2014-06-11 17:52:41     NaN    321.0       ...         \n",
       "\n",
       "  bldggrade_desc foundation_desc heatfuel_desc cnt_fullbaths_rm cnt_addlbaths  \\\n",
       "0     AVERAGE 04        SLAB-RES      ELECTRIC              0.0           0.0   \n",
       "1     AVERAGE 04        SLAB-RES      ELECTRIC              0.0           0.0   \n",
       "2     AVERAGE 04        SLAB-RES      ELECTRIC              0.0           0.0   \n",
       "3     AVERAGE 04        SLAB-RES      ELECTRIC              0.0           0.0   \n",
       "4     AVERAGE 01    SLAB-ABV GRD           GAS              0.0           0.0   \n",
       "\n",
       "  cnt_threeqtrbaths  cnt_halfbaths_rm  cnt_otherfixtures  propertyuse_desc  \\\n",
       "0               0.0               0.0               32.0      Multi-Family   \n",
       "1               0.0               0.0               32.0      Multi-Family   \n",
       "2               0.0               0.0               32.0      Multi-Family   \n",
       "3               0.0               0.0               32.0      Multi-Family   \n",
       "4               0.0               0.0                2.0        Commercial   \n",
       "\n",
       "  num_bedrooms_rm  \n",
       "0             0.0  \n",
       "1             0.0  \n",
       "2             0.0  \n",
       "3             0.0  \n",
       "4             0.0  \n",
       "\n",
       "[5 rows x 140 columns]"
      ]
     },
     "execution_count": 5,
     "metadata": {},
     "output_type": "execute_result"
    }
   ],
   "source": [
    "df.iloc[0:5,]"
   ]
  },
  {
   "cell_type": "code",
   "execution_count": 6,
   "metadata": {},
   "outputs": [
    {
     "data": {
      "text/plain": [
       "id                               0\n",
       "prfid                            0\n",
       "fireorigin                  171806\n",
       "heatsource                  171806\n",
       "ignitioncause               171806\n",
       "ignitionfactor              171807\n",
       "incdate                          0\n",
       "incend                           0\n",
       "incref                      172991\n",
       "inccode                      64879\n",
       "incidenttype                 64879\n",
       "incidenttype_rm              64879\n",
       "incidentdate                     0\n",
       "itemfirstignited            171806\n",
       "materialtypefirstignited    172414\n",
       "propertyuse                  73062\n",
       "respzonetype                     0\n",
       "streetcity                       0\n",
       "strno                            0\n",
       "structuretype               172732\n",
       "inctype                          0\n",
       "buildingloss                     0\n",
       "contloss                         0\n",
       "shift                            0\n",
       "addresszip                       0\n",
       "bldname                       1257\n",
       "locationid                       0\n",
       "pcode                        21373\n",
       "bldphone                     66547\n",
       "deptid                           0\n",
       "                             ...  \n",
       "halfbaths                        0\n",
       "bedrooms                         0\n",
       "units                            0\n",
       "vacantorim                   44810\n",
       "taxfire                       1371\n",
       "taxmun                        1371\n",
       "taxspecdis                   48000\n",
       "landusecod                    1371\n",
       "propertyus                   28086\n",
       "descproper                   28086\n",
       "storyheight                  21301\n",
       "extwall                      21300\n",
       "secwall                     121380\n",
       "yearbuilt_rm                 18226\n",
       "num_fireplaces_rm            18226\n",
       "fireplaces                  171228\n",
       "amt_netbldgvalue             18226\n",
       "heatedarea_rm                18226\n",
       "grossarea                    18226\n",
       "cnt_units                    18226\n",
       "bldggrade_desc               21300\n",
       "foundation_desc              21464\n",
       "heatfuel_desc                21472\n",
       "cnt_fullbaths_rm             18226\n",
       "cnt_addlbaths                18226\n",
       "cnt_threeqtrbaths            18226\n",
       "cnt_halfbaths_rm             18226\n",
       "cnt_otherfixtures            18226\n",
       "propertyuse_desc             21308\n",
       "num_bedrooms_rm              18226\n",
       "Length: 140, dtype: int64"
      ]
     },
     "execution_count": 6,
     "metadata": {},
     "output_type": "execute_result"
    }
   ],
   "source": [
    "# Check how many null values are present in each column and list the aggregated sum\n",
    "df.isnull().sum()"
   ]
  },
  {
   "cell_type": "code",
   "execution_count": 7,
   "metadata": {
    "collapsed": true
   },
   "outputs": [],
   "source": [
    "# Take a copy of the dataset for later use\n",
    "dfcopy = df.copy()\n",
    "dfcopy1 = df.copy()\n",
    "dfcopy2 = df.copy()\n",
    "dfcopy3 = df.copy()"
   ]
  },
  {
   "cell_type": "code",
   "execution_count": 8,
   "metadata": {},
   "outputs": [
    {
     "data": {
      "text/html": [
       "<div>\n",
       "<style>\n",
       "    .dataframe thead tr:only-child th {\n",
       "        text-align: right;\n",
       "    }\n",
       "\n",
       "    .dataframe thead th {\n",
       "        text-align: left;\n",
       "    }\n",
       "\n",
       "    .dataframe tbody tr th {\n",
       "        vertical-align: top;\n",
       "    }\n",
       "</style>\n",
       "<table border=\"1\" class=\"dataframe\">\n",
       "  <thead>\n",
       "    <tr style=\"text-align: right;\">\n",
       "      <th></th>\n",
       "      <th>Column Type</th>\n",
       "      <th>Count</th>\n",
       "    </tr>\n",
       "  </thead>\n",
       "  <tbody>\n",
       "    <tr>\n",
       "      <th>0</th>\n",
       "      <td>int64</td>\n",
       "      <td>58</td>\n",
       "    </tr>\n",
       "    <tr>\n",
       "      <th>1</th>\n",
       "      <td>float64</td>\n",
       "      <td>21</td>\n",
       "    </tr>\n",
       "    <tr>\n",
       "      <th>2</th>\n",
       "      <td>object</td>\n",
       "      <td>61</td>\n",
       "    </tr>\n",
       "  </tbody>\n",
       "</table>\n",
       "</div>"
      ],
      "text/plain": [
       "  Column Type  Count\n",
       "0       int64     58\n",
       "1     float64     21\n",
       "2      object     61"
      ]
     },
     "execution_count": 8,
     "metadata": {},
     "output_type": "execute_result"
    }
   ],
   "source": [
    "# Count of different data types\n",
    "dtype_df = df.dtypes.reset_index()\n",
    "dtype_df.columns = [\"Count\", \"Column Type\"]\n",
    "dtype_df\n",
    "dtype_df.groupby(\"Column Type\").aggregate('count').reset_index()"
   ]
  },
  {
   "cell_type": "markdown",
   "metadata": {},
   "source": [
    "### Missing Value Imputation"
   ]
  },
  {
   "cell_type": "code",
   "execution_count": 9,
   "metadata": {},
   "outputs": [
    {
     "data": {
      "text/plain": [
       "Index(['fireorigin', 'heatsource', 'ignitioncause', 'ignitionfactor', 'incref',\n",
       "       'itemfirstignited', 'materialtypefirstignited', 'structuretype',\n",
       "       'propclassnfpa', 'other704', 'streetsuffix', 'stsuff', 'fireplaces_rm',\n",
       "       'secwall', 'fireplaces'],\n",
       "      dtype='object')"
      ]
     },
     "execution_count": 9,
     "metadata": {},
     "output_type": "execute_result"
    }
   ],
   "source": [
    "#Remove columns with greater than 70% missing values   \n",
    "df.columns[df.isnull().mean() > 0.70]"
   ]
  },
  {
   "cell_type": "code",
   "execution_count": 10,
   "metadata": {
    "collapsed": true
   },
   "outputs": [],
   "source": [
    "pct_null = df.isnull().sum() / len(df)\n",
    "missing_features = pct_null[pct_null > 0.70].index"
   ]
  },
  {
   "cell_type": "code",
   "execution_count": 11,
   "metadata": {},
   "outputs": [
    {
     "name": "stdout",
     "output_type": "stream",
     "text": [
      "Index(['fireorigin', 'heatsource', 'ignitioncause', 'ignitionfactor', 'incref',\n",
      "       'itemfirstignited', 'materialtypefirstignited', 'structuretype',\n",
      "       'propclassnfpa', 'other704', 'streetsuffix', 'stsuff', 'fireplaces_rm',\n",
      "       'secwall', 'fireplaces'],\n",
      "      dtype='object')\n"
     ]
    }
   ],
   "source": [
    "# Below columns which have more than 70% missing or null values will be removed from the dataframe\n",
    "print(missing_features)\n",
    "df.drop(missing_features, axis=1, inplace=True)"
   ]
  },
  {
   "cell_type": "code",
   "execution_count": 12,
   "metadata": {
    "scrolled": true
   },
   "outputs": [
    {
     "name": "stdout",
     "output_type": "stream",
     "text": [
      "<class 'pandas.core.frame.DataFrame'>\n",
      "RangeIndex: 172991 entries, 0 to 172990\n",
      "Columns: 125 entries, id to num_bedrooms_rm\n",
      "dtypes: float64(18), int64(58), object(49)\n",
      "memory usage: 165.0+ MB\n"
     ]
    }
   ],
   "source": [
    "# Check dataframe size to make sure columns are removed (becomes 125 from 140)\n",
    "df.info()"
   ]
  },
  {
   "cell_type": "markdown",
   "metadata": {},
   "source": [
    "#### Drop rows where there is no incident type"
   ]
  },
  {
   "cell_type": "code",
   "execution_count": 13,
   "metadata": {
    "collapsed": true
   },
   "outputs": [],
   "source": [
    "# Since incident type is the main feature to determine whether there was a prior fire accident, missing rows are removed from the dataframe.\n",
    "df.dropna(subset = ['incidenttype_rm'],axis = 0, how = 'all',inplace=True)"
   ]
  },
  {
   "cell_type": "markdown",
   "metadata": {},
   "source": [
    "### Imputing numeric variables"
   ]
  },
  {
   "cell_type": "markdown",
   "metadata": {},
   "source": [
    "For gross area, count of other fixtures, count of units and net building value of an amount it will be appropriate to fill missing values with the mean value from data rather than removing the rows."
   ]
  },
  {
   "cell_type": "code",
   "execution_count": 14,
   "metadata": {
    "collapsed": true
   },
   "outputs": [],
   "source": [
    "df['cnt_otherfixtures'] = df['cnt_otherfixtures'].fillna((df['cnt_otherfixtures'].mean()))"
   ]
  },
  {
   "cell_type": "code",
   "execution_count": 15,
   "metadata": {
    "collapsed": true
   },
   "outputs": [],
   "source": [
    "df['cnt_units']= df['cnt_units'].fillna((df['cnt_units'].mean()))"
   ]
  },
  {
   "cell_type": "code",
   "execution_count": 16,
   "metadata": {
    "collapsed": true
   },
   "outputs": [],
   "source": [
    "df['grossarea'] = df['grossarea'].fillna((df['grossarea'].mean()))"
   ]
  },
  {
   "cell_type": "code",
   "execution_count": 17,
   "metadata": {
    "collapsed": true
   },
   "outputs": [],
   "source": [
    "df['amt_netbldgvalue'] = df['amt_netbldgvalue'].fillna((df['amt_netbldgvalue'].mean()))"
   ]
  },
  {
   "cell_type": "markdown",
   "metadata": {},
   "source": [
    "### Imputing categorical variables"
   ]
  },
  {
   "cell_type": "markdown",
   "metadata": {},
   "source": [
    "For story height, heating type, heatedfuel - fill missing values with specific types to adjust different categories\n",
    "\n",
    "For exterior wall and taxspecdis - fill with UNKNOWN cos other classes are fairly balanced\n",
    "\n",
    "For descriptions - heatfuel, building grade, foundation, fill in with most appropriate after viewing the counts of other descriptions\n",
    "\n",
    "For property use, fill in with values from code use description, if available as they convey a similar meaning"
   ]
  },
  {
   "cell_type": "code",
   "execution_count": 18,
   "metadata": {
    "collapsed": true
   },
   "outputs": [],
   "source": [
    "df = df.fillna({'storyheight':'2.0 STORY'})"
   ]
  },
  {
   "cell_type": "code",
   "execution_count": 19,
   "metadata": {
    "collapsed": true
   },
   "outputs": [],
   "source": [
    "df = df.fillna({'aheatingty':'AC-PCKD ROOF'})"
   ]
  },
  {
   "cell_type": "code",
   "execution_count": 20,
   "metadata": {
    "collapsed": true
   },
   "outputs": [],
   "source": [
    "df = df.fillna({'heatedfuel':'OIL/WD/COAL'})"
   ]
  },
  {
   "cell_type": "code",
   "execution_count": 21,
   "metadata": {
    "collapsed": true
   },
   "outputs": [],
   "source": [
    "df = df.fillna({'extwall':'UNKNOWN'})"
   ]
  },
  {
   "cell_type": "code",
   "execution_count": 22,
   "metadata": {
    "collapsed": true
   },
   "outputs": [],
   "source": [
    "# for missing value imputation of some categorical values using most frequent\n",
    "df = df.fillna({'vacantorim':df['vacantorim'].value_counts().index[1]})"
   ]
  },
  {
   "cell_type": "code",
   "execution_count": 23,
   "metadata": {
    "collapsed": true
   },
   "outputs": [],
   "source": [
    "df = df.fillna({'heatfuel_desc':df['heatfuel_desc'].value_counts().index[3]})"
   ]
  },
  {
   "cell_type": "code",
   "execution_count": 24,
   "metadata": {
    "collapsed": true
   },
   "outputs": [],
   "source": [
    "df = df.fillna({'bldggrade_desc':df['bldggrade_desc'].value_counts().index[5]})"
   ]
  },
  {
   "cell_type": "code",
   "execution_count": 25,
   "metadata": {
    "collapsed": true
   },
   "outputs": [],
   "source": [
    "df = df.fillna({'foundation_desc': df['foundation_desc'].value_counts().index[6]})"
   ]
  },
  {
   "cell_type": "code",
   "execution_count": 26,
   "metadata": {
    "collapsed": true
   },
   "outputs": [],
   "source": [
    "df = df.fillna({'taxspecdis': 'UNKNOWN'})"
   ]
  },
  {
   "cell_type": "code",
   "execution_count": 27,
   "metadata": {
    "collapsed": true
   },
   "outputs": [],
   "source": [
    "df['propertyuse_desc'] = np.where(pd.isnull(df['propertyuse_desc']), df['codeuse'], df['propertyuse_desc'])"
   ]
  },
  {
   "cell_type": "markdown",
   "metadata": {},
   "source": [
    "### Drop unwanted variables"
   ]
  },
  {
   "cell_type": "markdown",
   "metadata": {},
   "source": [
    "ID fields, mapx and mapy (has many missing values), street addresses, names and city / state (has unary value - cos its mainly Charlotte or NC) can be dropped as they dont add value to the model."
   ]
  },
  {
   "cell_type": "code",
   "execution_count": 28,
   "metadata": {
    "collapsed": true
   },
   "outputs": [],
   "source": [
    "# drop fields\n",
    "df.drop([\n",
    "'blduseid',\n",
    "'occuseid',\n",
    "'mapx','mapy',\n",
    "'streetid',\n",
    "'streetprefix',             \n",
    "'strname',                  \n",
    "'streettype',              \n",
    "'city',                     \n",
    "'state',                    \n",
    "'fulladdress',            \n",
    "'stdir',                    \n",
    "'stname',\n",
    "'stype2',\n",
    "'price'\n",
    "],axis = 1, inplace = True)"
   ]
  },
  {
   "cell_type": "markdown",
   "metadata": {},
   "source": [
    "Dropping the below fields as they are repeated in County data as well as Property data"
   ]
  },
  {
   "cell_type": "code",
   "execution_count": 29,
   "metadata": {
    "collapsed": true
   },
   "outputs": [],
   "source": [
    "# drop fields\n",
    "df.drop([\n",
    "    'propertyuse',\n",
    "    'descbuildi',  \n",
    "    'storyheigh_rm',\n",
    "    'extwall_rm',\n",
    "    'actype',\n",
    "    'foundation',\n",
    "    'bldggrade',\n",
    "    'taxfire',\n",
    "    'taxmun',\n",
    "    'landusecod'\n",
    "    ],axis = 1, inplace = True)"
   ]
  },
  {
   "cell_type": "markdown",
   "metadata": {},
   "source": [
    "Dropping ID and address fields and columns with many missing values which cannot be imputed from data extracted from Property master"
   ]
  },
  {
   "cell_type": "code",
   "execution_count": 30,
   "metadata": {
    "collapsed": true
   },
   "outputs": [],
   "source": [
    "# drop fields\n",
    "df.drop([\n",
    "'id',\n",
    "'prfid',\n",
    "'incidentdate',\n",
    "'respzonetype',\n",
    "'streetcity',\n",
    "'strno',\n",
    "'inctype',\n",
    "'buildingloss',\n",
    "'contloss',\n",
    "'addresszip',\n",
    "'bldname',\n",
    "'locationid',\n",
    "'pcode',\n",
    "'bldphone',\n",
    "'deptid',\n",
    "'subarea',\n",
    "'classid'\n",
    "],axis = 1, inplace = True)"
   ]
  },
  {
   "cell_type": "markdown",
   "metadata": {},
   "source": [
    "Below fields are repeated in County as well as Property master and those from Property data are used as it had lesser missing information"
   ]
  },
  {
   "cell_type": "code",
   "execution_count": 31,
   "metadata": {
    "collapsed": true
   },
   "outputs": [],
   "source": [
    "# drop fields\n",
    "df.drop([\n",
    "'yearbuilt_rm',\n",
    "    'num_fireplaces_rm',\n",
    "    'heatedarea_rm',\n",
    "    'cnt_fullbaths_rm',\n",
    "    'cnt_addlbaths',\n",
    "    'cnt_threeqtrbaths',\n",
    "    'cnt_halfbaths_rm',\n",
    "    'num_bedrooms_rm'\n",
    "],axis = 1, inplace = True)"
   ]
  },
  {
   "cell_type": "markdown",
   "metadata": {},
   "source": [
    "### Calculate Incident Time"
   ]
  },
  {
   "cell_type": "code",
   "execution_count": 32,
   "metadata": {
    "scrolled": true
   },
   "outputs": [
    {
     "data": {
      "text/plain": [
       "2           7.650000\n",
       "4          11.666667\n",
       "5          13.800000\n",
       "6          13.800000\n",
       "7           7.266667\n",
       "8           7.266667\n",
       "9         575.966667\n",
       "10        575.966667\n",
       "23         34.483333\n",
       "24         11.600000\n",
       "25         26.850000\n",
       "26        215.366667\n",
       "27         23.450000\n",
       "31         22.283333\n",
       "32         20.850000\n",
       "33         15.566667\n",
       "34          9.916667\n",
       "35         12.583333\n",
       "36         13.716667\n",
       "37         14.000000\n",
       "38         13.183333\n",
       "40         15.150000\n",
       "41         11.283333\n",
       "44         13.050000\n",
       "45         25.250000\n",
       "46         15.033333\n",
       "47          7.733333\n",
       "48         22.066667\n",
       "49         12.816667\n",
       "50         19.016667\n",
       "             ...    \n",
       "172961      9.333333\n",
       "172962      6.533333\n",
       "172963      6.533333\n",
       "172964     11.766667\n",
       "172965     10.750000\n",
       "172966     14.766667\n",
       "172967     14.766667\n",
       "172968     14.766667\n",
       "172969     11.816667\n",
       "172970     11.816667\n",
       "172971     11.816667\n",
       "172972     11.816667\n",
       "172973     11.816667\n",
       "172974     11.816667\n",
       "172975     11.816667\n",
       "172976     11.816667\n",
       "172977     11.816667\n",
       "172978     11.816667\n",
       "172979     11.816667\n",
       "172980     11.816667\n",
       "172981     11.816667\n",
       "172982     11.816667\n",
       "172983     11.816667\n",
       "172984     11.816667\n",
       "172985     11.816667\n",
       "172986     11.816667\n",
       "172987     11.816667\n",
       "172988     11.816667\n",
       "172989     11.816667\n",
       "172990     11.816667\n",
       "Name: incidtime, Length: 108112, dtype: float64"
      ]
     },
     "execution_count": 32,
     "metadata": {},
     "output_type": "execute_result"
    }
   ],
   "source": [
    "# Calculate Incident Time = Inc End - Inc Start to see how many minutes were spent on an average per incident\n",
    "import time\n",
    "\n",
    "fmt = '%Y-%m-%d %H:%M:%S'\n",
    "df['incidtime'] = pd.to_datetime(df['incend'], format = fmt) - pd.to_datetime(df['incdate'], format = fmt)\n",
    "df['incidtime'].dt.total_seconds()/60.0"
   ]
  },
  {
   "cell_type": "code",
   "execution_count": 33,
   "metadata": {},
   "outputs": [
    {
     "data": {
      "text/plain": [
       "<matplotlib.axes._subplots.AxesSubplot at 0x14fe7c38898>"
      ]
     },
     "execution_count": 33,
     "metadata": {},
     "output_type": "execute_result"
    },
    {
     "data": {
      "image/png": "[encoded data removed]",
      "text/plain": [
       "<matplotlib.figure.Figure at 0x14fe7c28128>"
      ]
     },
     "metadata": {},
     "output_type": "display_data"
    }
   ],
   "source": [
    "# Plot data as bins to see normality. slight skewness is still acceptable if feature is not very critical\n",
    "df['incidtime'].astype('timedelta64[m]').hist(bins = range(0,100,10))"
   ]
  },
  {
   "cell_type": "code",
   "execution_count": 34,
   "metadata": {
    "collapsed": true
   },
   "outputs": [],
   "source": [
    "#pd.DataFrame(df['incidtime']).apply(np.float64)"
   ]
  },
  {
   "cell_type": "markdown",
   "metadata": {},
   "source": [
    "### Incident Type"
   ]
  },
  {
   "cell_type": "code",
   "execution_count": 35,
   "metadata": {},
   "outputs": [
    {
     "data": {
      "text/plain": [
       "321 EMS call, excluding vehicle accident with inju    43831\n",
       "300 Rescue, EMS incident, other                       12160\n",
       "611 Dispatched & canceled en route                     8748\n",
       "311 Medical assist, assist EMS crew                    6479\n",
       "311 Medical assist, EMS crew                           4532\n",
       "353 Removal of victim(s) from stalled elevator         3630\n",
       "745 Alarm system activation,no fire,unintentional      3237\n",
       "743 Smoke detector activation, no fire - unintenti     2316\n",
       "600 Good intent call, other                            1906\n",
       "622  No incident found on arrival at dispatch addr     1772\n",
       "740 Unintentional transmission of alarm, other         1747\n",
       "322 Motor vehicle accident with injuries               1514\n",
       "324 Motor vehicle accident with no injuries            1430\n",
       "733 Smoke detector activation due to malfunction       1137\n",
       "735 Alarm system sounded due to malfunction             926\n",
       "744 Detector activation, no fire - unintentional        894\n",
       "500 Service Call, other                                 793\n",
       "710 Malicious, mischievous false call, other            746\n",
       "700 False alarm or false call, other                    737\n",
       "251 Excessive heat, scorch burns with no ignition       644\n",
       "730 System malfunction, other                           639\n",
       "741 Sprinkler activation, no fire - unintentional       536\n",
       "531 Smoke or odor removal                               522\n",
       "552 Police matter                                       494\n",
       "511 Lock-out                                            376\n",
       "554 Assist invalid                                      370\n",
       "551 Assist police or other governmental agency          317\n",
       "131 Passenger vehicle fire                              291\n",
       "510 Person in distress, other                           284\n",
       "522 Water or steam leak                                 267\n",
       "                                                      ...  \n",
       "460 Accident, potential accident, other                  11\n",
       "352 Extrication of victim(s) from vehicle                10\n",
       "422 Chemical spill or leak                               10\n",
       "742 Extinguishing system activation                       9\n",
       "300 Rescue, EMS incident, othe                            9\n",
       "734 Heat detector activation due to malfunction           9\n",
       "160 Special outside fire, other                           9\n",
       "471 Explosive, bomb removal (for bomb scare, use 7        8\n",
       "650 Steam, other gas mistaken for smoke, other            7\n",
       "341 Search for person on land                             7\n",
       "651 Smoke scare, odor of smoke                            7\n",
       "815 Severe weather or natural disaster standby            6\n",
       "542 Animal rescue                                         6\n",
       "461 Building or structure weakened or collapsed           4\n",
       "220 Overpressure rupture from air or gas, other           4\n",
       "712 Direct tie to FD, malicious/false alarm               3\n",
       "713 Telephone, malicious false alarm                      3\n",
       "114 Chimney or flue fire, confined to chimney or f        3\n",
       "800 Severe weather or natural disaster, other             3\n",
       "521 Water evacuation                                      2\n",
       "130 Mobile property (vehicle) fire, other                 2\n",
       "163 Outside gas or vapor combustion explosion             2\n",
       "210 Overpressure rupture from steam, other                2\n",
       "541 Animal problem                                        2\n",
       "480 Attempted burning, illegal action, other              2\n",
       "423 Refrigeration leak                                    1\n",
       "117 Commercial Compactor fire, confined to rubbish        1\n",
       "540 Animal problem, other                                 1\n",
       "357 Extrication of victim(s) from machinery               1\n",
       "138 Off-road vehicle or heavy equipment fire              1\n",
       "Name: incidenttype_rm, Length: 118, dtype: int64"
      ]
     },
     "execution_count": 35,
     "metadata": {},
     "output_type": "execute_result"
    }
   ],
   "source": [
    "df['incidenttype_rm'].value_counts()"
   ]
  },
  {
   "cell_type": "markdown",
   "metadata": {},
   "source": [
    "Combining incidents by their code value to minimize the different classes of incidents. Also combining some of the other incident codes to add up some rows for code 100 to adjust class imbalance."
   ]
  },
  {
   "cell_type": "code",
   "execution_count": 36,
   "metadata": {
    "collapsed": true
   },
   "outputs": [],
   "source": [
    "df['inccode'] = np.where(df['inccode'].gt(100) & df['inccode'].lt(200), 100, df['inccode'])\n",
    "df['inccode'] = np.where(df['inccode'].gt(200) & df['inccode'].lt(300), 200, df['inccode'])\n",
    "df['inccode'] = np.where(df['inccode'].gt(400) & df['inccode'].lt(500), 400, df['inccode'])\n",
    "df['inccode'] = np.where(df['inccode'].gt(500) & df['inccode'].lt(600), 500, df['inccode'])\n",
    "df['inccode'] = np.where(df['inccode'].gt(600) & df['inccode'].lt(700), 600, df['inccode'])\n",
    "df['inccode'] = np.where(df['inccode'].gt(700) & df['inccode'].lt(800), 700, df['inccode'])\n",
    "df['inccode'] = np.where(df['inccode'].isin([311,353,322,324,331,323,354,351,350,352,341,357]), 100, df['inccode'])\n",
    "df['inccode'] = np.where(df['inccode'].isin([800,815,911,900,200,400,500]), 100, df['inccode'])"
   ]
  },
  {
   "cell_type": "code",
   "execution_count": 37,
   "metadata": {},
   "outputs": [
    {
     "data": {
      "text/plain": [
       "321.0    43831\n",
       "100.0    25603\n",
       "700.0    13748\n",
       "600.0    12761\n",
       "300.0    12169\n",
       "Name: inccode, dtype: int64"
      ]
     },
     "execution_count": 37,
     "metadata": {},
     "output_type": "execute_result"
    }
   ],
   "source": [
    "df['inccode'].value_counts()"
   ]
  },
  {
   "cell_type": "markdown",
   "metadata": {},
   "source": [
    "Assigning names to incident codes to classify them into 5 broad categories"
   ]
  },
  {
   "cell_type": "code",
   "execution_count": 38,
   "metadata": {
    "collapsed": true
   },
   "outputs": [],
   "source": [
    "df['incidenttype_rm'] = np.where(df['inccode'].isin([100]), '100 Fire', df['incidenttype_rm'])\n",
    "df['incidenttype_rm'] = np.where(df['inccode'].isin([321]), '321 EMSCall', df['incidenttype_rm'])\n",
    "df['incidenttype_rm'] = np.where(df['inccode'].isin([700]), '700 Sprinkler_Alarm_Issues', df['incidenttype_rm'])\n",
    "df['incidenttype_rm'] = np.where(df['inccode'].isin([600]), '600 Miscellaneous', df['incidenttype_rm'])\n",
    "df['incidenttype_rm'] = np.where(df['inccode'].isin([300]), '300 EMS Rescue_Other', df['incidenttype_rm'])"
   ]
  },
  {
   "cell_type": "code",
   "execution_count": 39,
   "metadata": {},
   "outputs": [
    {
     "data": {
      "image/png": "[encoded data removed]",
      "text/plain": [
       "<matplotlib.figure.Figure at 0x14febb1cdd8>"
      ]
     },
     "metadata": {},
     "output_type": "display_data"
    }
   ],
   "source": [
    "# Frequency of incident types\n",
    "axs = sns.countplot(x='incidenttype_rm',data=df)\n",
    "axs.set_title(\"Frequency of incident types\")\n",
    "# Rotate x-labels\n",
    "plt.xticks(rotation=-90)\n",
    "plt.show()"
   ]
  },
  {
   "cell_type": "code",
   "execution_count": 40,
   "metadata": {},
   "outputs": [
    {
     "data": {
      "text/plain": [
       "GAS            62208\n",
       "ELECTRIC       17902\n",
       "NONE           14113\n",
       "OIL/WD/COAL    13889\n",
       "Name: heatfuel_desc, dtype: int64"
      ]
     },
     "execution_count": 40,
     "metadata": {},
     "output_type": "execute_result"
    }
   ],
   "source": [
    "df['heatfuel_desc'].value_counts()"
   ]
  },
  {
   "cell_type": "markdown",
   "metadata": {},
   "source": [
    "Municipali - has only one value, date fields like dateofsale, sprinklertestdate,firealarmtestdate (dont add value to the model),\n",
    "shift is not needed, heatfuel_desc is repeated, inccode and incidenttype have been merged together as incident_type for further modeling."
   ]
  },
  {
   "cell_type": "code",
   "execution_count": 41,
   "metadata": {
    "collapsed": true
   },
   "outputs": [],
   "source": [
    "# drop fields\n",
    "df.drop([\n",
    "    'municipali',\n",
    "    'dateofsale',\n",
    "    'unit',\n",
    "    'propertyus',\n",
    "    'descproper',    \n",
    "    'shift',\n",
    "    'builtdate',\n",
    "    'sprinklertestdate',\n",
    "    'firealarmtestdate',\n",
    "    'codestatus',\n",
    "    'heatfuel_desc',\n",
    "    'inccode',\n",
    "    'incidenttype'\n",
    "],axis = 1, inplace = True)"
   ]
  },
  {
   "cell_type": "markdown",
   "metadata": {},
   "source": [
    "### PropertyUse Description "
   ]
  },
  {
   "cell_type": "code",
   "execution_count": 42,
   "metadata": {
    "scrolled": false
   },
   "outputs": [
    {
     "data": {
      "text/plain": [
       "Office                       34350\n",
       "Commercial                   13942\n",
       "Hotel/Motel                  13633\n",
       "Govt-Inst                    13513\n",
       "Warehouse Lg                  5171\n",
       "COMMERCIAL                    5095\n",
       "Warehouse                     4927\n",
       "Multi-Family                  4631\n",
       "Attached Res                  4161\n",
       "MEDICAL BUILDING              3053\n",
       "OFFICE                        2333\n",
       "HOTEL/MOTEL HIGH RISE         1260\n",
       "OFFICE HIGH RISE              1216\n",
       "CONDO                          552\n",
       "StadiumArena                    80\n",
       "LIGHT MANUFACTURING             26\n",
       "OTHER MUNICIPAL                 26\n",
       "SERVICE STATION                 18\n",
       "RESTAURANTS                     17\n",
       "INDUSTRIAL                      13\n",
       "BANKS                           12\n",
       "SHOPPING CENTER-STRIP           12\n",
       "GARDEN APARTMENT                 9\n",
       "MORTUARY-CEMETERY                7\n",
       "PARK SHELTER                     6\n",
       "PREFAB WAREHOUSE                 6\n",
       "FAST FOODS                       5\n",
       "LOUNGE/NIGHTCLUB                 5\n",
       "WAREHOUSE                        5\n",
       "Single-Fam                       4\n",
       "METER                            4\n",
       "CONVENIENCE STORE                3\n",
       "CELL TOWER                       3\n",
       "SHOPPING CENTER-MALL             2\n",
       "GREENWAY ENTRANCE                1\n",
       "THEATER                          1\n",
       "SINGLE FAMILY RESIDENTIAL        1\n",
       "SINGLE FAMILY RESORT             1\n",
       "CONSTRUCTION TRAILER             1\n",
       "HIGH-RISE APARTMENT              1\n",
       "COMMERCIAL/SERVICE               1\n",
       "AUTO SALES/SERVICE               1\n",
       "CLUB-LODGE                       1\n",
       "PUBLIC COLLEGE                   1\n",
       "SEASONAL SALES                   1\n",
       "UTILITY                          1\n",
       "Name: propertyuse_desc, dtype: int64"
      ]
     },
     "execution_count": 42,
     "metadata": {},
     "output_type": "execute_result"
    }
   ],
   "source": [
    "df.propertyuse_desc.value_counts()"
   ]
  },
  {
   "cell_type": "code",
   "execution_count": 43,
   "metadata": {
    "collapsed": true
   },
   "outputs": [],
   "source": [
    "df = df[~df['propertyuse_desc'].isin(['CONSTRUCTION TRAILER','SEASONAL SALES','THEATER','GREENWAY ENTRANCE',\n",
    "'CELL TOWER','METER'])]"
   ]
  },
  {
   "cell_type": "code",
   "execution_count": 44,
   "metadata": {
    "collapsed": true
   },
   "outputs": [],
   "source": [
    "# Check and combine multiple property uses into common bins as these many cannot be forced into the model\n",
    "\n",
    "cleanup_nums = {\"propertyuse_desc\":     {\"Warehouse Lg\": \"Warehouse\",\n",
    "                                         \"SERVICE STATION\": \"Warehouse\",\n",
    "                                         \"PREFAB WAREHOUSE\" : \"Warehouse\",\n",
    "                                         \"WAREHOUSE\" : \"Warehouse\",\n",
    "                                         \"UTILITY\" : \"Warehouse\",\n",
    "                                         \"AUTO SALES/SERVICE\" : \"Warehouse\",\n",
    "                                         \"COMMERCIAL\" : \"Commercial\",\n",
    "                                         \"Multi-Family\" : \"Residential\",\n",
    "                                         \"Attached Res\" : \"Residential\",\n",
    "                                         \"GARDEN APARTMENT\":\"Residential\",\n",
    "                                         \"Single-Fam\" : \"Residential\",\n",
    "                                         \"HIGH-RISE APARTMENT\" : \"Residential\",\n",
    "                                         \"SINGLE FAMILY RESORT\" : \"Residential\",\n",
    "                                         \"SINGLE FAMILY RESIDENTIAL\":\"Residential\",\n",
    "                                         \"OFFICE\" : \"Office\", \"HOTEL/MOTEL HIGH RISE\" : \"Hotel/Motel\",\n",
    "                                         \"OFFICE HIGH RISE\":\"Office\",\n",
    "                                         \"MEDICAL BUILDING\" : \"Govt-Inst\",\n",
    "                                         \"StadiumArena\" : \"Govt-Inst\",\n",
    "                                         \"OTHER MUNICIPAL\":\"Govt-Inst\", \"PUBLIC COLLEGE\" : \"Govt-Inst\",\n",
    "                                         \"CONVENIENCE STORE\": \"Commercial\",\n",
    "                                         \"SHOPPING CENTER-MALL\": \"Commercial\",\n",
    "                                         \"MORTUARY-CEMETERY\" : \"Govt-Inst\",\n",
    "                                         \"SHOPPING CENTER-STRIP\" : \"Commercial\",\n",
    "                                         \"BANKS\" : \"Office\",\n",
    "                                         \"LIGHT MANUFACTURING\" : \"Commercial\",\n",
    "                                         \"INDUSTRIAL\" : \"Commercial\",\n",
    "                                         \"COMMERCIAL/SERVICE\" : \"Commercial\",\n",
    "                                         \"CONDO\" : \"Residential\",\n",
    "                                         \"RESTAURANTS\" : \"Hotel/Motel\",\n",
    "                                         \"FAST FOODS\":\"Hotel/Motel\",\n",
    "                                         \"LOUNGE/NIGHTCLUB\" : \"Hotel/Motel\",\n",
    "                                         \"CLUB-LODGE\":\"Hotel/Motel\",\n",
    "                                         \"PARK SHELTER\":\"Residential\"                       \n",
    "                                        }}\n",
    "df.replace(cleanup_nums, inplace=True)"
   ]
  },
  {
   "cell_type": "code",
   "execution_count": 45,
   "metadata": {},
   "outputs": [
    {
     "data": {
      "text/plain": [
       "<matplotlib.axes._subplots.AxesSubplot at 0x14febb2b128>"
      ]
     },
     "execution_count": 45,
     "metadata": {},
     "output_type": "execute_result"
    },
    {
     "data": {
      "image/png": "[encoded data removed]",
      "text/plain": [
       "<matplotlib.figure.Figure at 0x14f967b3710>"
      ]
     },
     "metadata": {},
     "output_type": "display_data"
    }
   ],
   "source": [
    "# Histogram of property use description\n",
    "df.groupby('propertyuse_desc')['propertyuse_desc'].count().plot(kind='bar',title ='Categories of Property Uses')"
   ]
  },
  {
   "cell_type": "markdown",
   "metadata": {},
   "source": [
    "### Heating Type "
   ]
  },
  {
   "cell_type": "code",
   "execution_count": 46,
   "metadata": {},
   "outputs": [
    {
     "data": {
      "text/plain": [
       "AIR-DUCTED      55723\n",
       "AC-PCKD ROOF    23625\n",
       "HEAT - NONE     19593\n",
       "HOT WATER        6086\n",
       "HEAT PUMP        1473\n",
       "AIR-NO-DUCT      1254\n",
       "AC-CHLD WAT       250\n",
       "AC-CENTRAL         65\n",
       "BASEBOARD          32\n",
       "Name: aheatingty, dtype: int64"
      ]
     },
     "execution_count": 46,
     "metadata": {},
     "output_type": "execute_result"
    }
   ],
   "source": [
    "df.aheatingty.value_counts()"
   ]
  },
  {
   "cell_type": "code",
   "execution_count": 47,
   "metadata": {
    "collapsed": true
   },
   "outputs": [],
   "source": [
    "cleanup_nums = {\"aheatingty\":     {\"AIR-NO-DUCT\": \"HEAT MISC\",\n",
    "                                   \"AC-CHLD WAT\": \"HEAT MISC\",\n",
    "                                   \"AC-CENTRAL\" : \"HEAT MISC\",\n",
    "                                   \"BASEBOARD\"  : \"HEAT MISC\",\n",
    "                                   \"HEAT PUMP\"  : \"HEAT MISC\",\n",
    "                                   \"HOT WATER\"  : \"HEAT MISC\",\n",
    "                                   \"HEAT - NONE\": \"HEAT MISC\"}}\n",
    "df.replace(cleanup_nums, inplace=True)"
   ]
  },
  {
   "cell_type": "markdown",
   "metadata": {},
   "source": [
    "#### Any of the frequency plots like the below are to understand the data distribution visually and determine if further categorization is needed or if any categories have to be combined for ease of modeling."
   ]
  },
  {
   "cell_type": "code",
   "execution_count": 48,
   "metadata": {},
   "outputs": [
    {
     "data": {
      "image/png": "[encoded data removed]",
      "text/plain": [
       "<matplotlib.figure.Figure at 0x14fe4d08fd0>"
      ]
     },
     "metadata": {},
     "output_type": "display_data"
    }
   ],
   "source": [
    "# Frequency of heating type\n",
    "axs = sns.countplot(x='aheatingty',data=df)\n",
    "axs.set_title(\"Frequency of heating types\")\n",
    "# Rotate x-labels\n",
    "plt.xticks(rotation=-45)\n",
    "plt.show()"
   ]
  },
  {
   "cell_type": "markdown",
   "metadata": {},
   "source": [
    "### Heated Fuel"
   ]
  },
  {
   "cell_type": "code",
   "execution_count": 49,
   "metadata": {},
   "outputs": [
    {
     "data": {
      "text/plain": [
       "GAS            55193\n",
       "NONE           19568\n",
       "OIL/WD/COAL    18835\n",
       "ELECTRIC       14505\n",
       "Name: heatedfuel, dtype: int64"
      ]
     },
     "execution_count": 49,
     "metadata": {},
     "output_type": "execute_result"
    }
   ],
   "source": [
    "df.heatedfuel.value_counts()"
   ]
  },
  {
   "cell_type": "code",
   "execution_count": 50,
   "metadata": {
    "scrolled": true
   },
   "outputs": [
    {
     "data": {
      "text/plain": [
       "<matplotlib.axes._subplots.AxesSubplot at 0x14fe7c19550>"
      ]
     },
     "execution_count": 50,
     "metadata": {},
     "output_type": "execute_result"
    },
    {
     "data": {
      "image/png": "[encoded data removed]",
      "text/plain": [
       "<matplotlib.figure.Figure at 0x14fe4d9fa58>"
      ]
     },
     "metadata": {},
     "output_type": "display_data"
    }
   ],
   "source": [
    "# Histogram of Heat Fuel\n",
    "# Although Gas is the predominant heat fuel type, others are retained for understanding the usage in model\n",
    "\n",
    "df.groupby('heatedfuel')['heatedfuel'].count().plot(kind='bar',title ='Categories of Heat Fuel')"
   ]
  },
  {
   "cell_type": "markdown",
   "metadata": {},
   "source": [
    "### Building Grade Description"
   ]
  },
  {
   "cell_type": "code",
   "execution_count": 51,
   "metadata": {},
   "outputs": [
    {
     "data": {
      "text/plain": [
       "CUSTOM 03       20716\n",
       "EXCELLENT 03    18458\n",
       "GOOD 03         16251\n",
       "AVERAGE 03      11572\n",
       "VERY GOOD 05     9898\n",
       "VERY GOOD 03     9773\n",
       "VERY GOOD 06     6091\n",
       "EXCELLENT 01     2864\n",
       "AVERAGE 05       2076\n",
       "GOOD 02          2033\n",
       "GOOD 01          1801\n",
       "GOOD 06          1318\n",
       "VERY GOOD 02     1209\n",
       "GOOD 04           751\n",
       "VERY GOOD 01      513\n",
       "AVERAGE 01        467\n",
       "EXCELLENT 06      437\n",
       "AVERAGE 04        404\n",
       "CUSTOM 04         288\n",
       "AVERAGE 06        276\n",
       "VERY GOOD 04      268\n",
       "AVERAGE 02        267\n",
       "GOOD 05           145\n",
       "BELOW AVG 06      105\n",
       "BELOW AVG 03       64\n",
       "CUSTOM 02          24\n",
       "EXCELLENT 02       13\n",
       "BELOW AVG 01        7\n",
       "BELOW AVG 02        6\n",
       "CUSTOM 06           3\n",
       "EXCELLENT 04        2\n",
       "EXCELLENT 05        1\n",
       "Name: bldggrade_desc, dtype: int64"
      ]
     },
     "execution_count": 51,
     "metadata": {},
     "output_type": "execute_result"
    }
   ],
   "source": [
    "df.bldggrade_desc.value_counts()"
   ]
  },
  {
   "cell_type": "markdown",
   "metadata": {},
   "source": [
    "Building Grades are combined into 6 broad categories - EXCELLENT, VERY GOOD, GOOD, AVERAGE, BELOW AVG and CUSTOM"
   ]
  },
  {
   "cell_type": "code",
   "execution_count": 52,
   "metadata": {
    "collapsed": true
   },
   "outputs": [],
   "source": [
    "cleanup_nums = {\"bldggrade_desc\":     {\"EXCELLENT 01\": \"EXCELLENT\", \"EXCELLENT 02\": \"EXCELLENT\",\n",
    "                               \"EXCELLENT 03\": \"EXCELLENT\",\"EXCELLENT 04\": \"EXCELLENT\",\n",
    "                              \"EXCELLENT 05\": \"EXCELLENT\",\"EXCELLENT 06\": \"EXCELLENT\",\n",
    "                               \"VERY GOOD 01\" : \"VERY GOOD\",\"VERY GOOD 02\" : \"VERY GOOD\",\n",
    "                               \"VERY GOOD 03\" : \"VERY GOOD\",\"VERY GOOD 04\" : \"VERY GOOD\",\n",
    "                               \"VERY GOOD 05\" : \"VERY GOOD\",\"VERY GOOD 06\" : \"VERY GOOD\",\n",
    "                               \"GOOD 01\" : \"GOOD\",\"GOOD 02\" : \"GOOD\",\n",
    "                               \"GOOD 03\" : \"GOOD\",\"GOOD 04\" : \"GOOD\",\n",
    "                               \"GOOD 05\" : \"GOOD\",\"GOOD 06\" : \"GOOD\",\n",
    "                               \"AVERAGE 01\" : \"AVERAGE\",\"AVERAGE 02\" : \"AVERAGE\",\n",
    "                               \"AVERAGE 03\" : \"AVERAGE\",\"AVERAGE 04\" : \"AVERAGE\",\n",
    "                               \"AVERAGE 05\" : \"AVERAGE\",\"AVERAGE 06\" : \"AVERAGE\",\n",
    "                               \"BELOW AVG 01\" : \"AVERAGE\" ,\"BELOW AVG 02\" : \"AVERAGE\" ,\n",
    "                               \"BELOW AVG 03\" : \"AVERAGE\" ,\"BELOW AVG 04\" : \"AVERAGE\" ,\n",
    "                               \"BELOW AVG 05\" : \"AVERAGE\" ,\"BELOW AVG 06\" : \"AVERAGE\" ,                            \n",
    "                               \"CUSTOM 01\" : \"CUSTOM\" ,\"CUSTOM 02\" : \"CUSTOM\" ,\n",
    "                               \"CUSTOM 03\" : \"CUSTOM\" ,\"CUSTOM 04\" : \"CUSTOM\" ,\n",
    "                               \"CUSTOM 05\" : \"CUSTOM\" ,\"CUSTOM 06\" : \"CUSTOM\"     \n",
    "                               }}\n",
    "df.replace(cleanup_nums, inplace=True)"
   ]
  },
  {
   "cell_type": "code",
   "execution_count": 53,
   "metadata": {},
   "outputs": [
    {
     "data": {
      "image/png": "[encoded data removed]",
      "text/plain": [
       "<matplotlib.figure.Figure at 0x14f967e88d0>"
      ]
     },
     "metadata": {},
     "output_type": "display_data"
    }
   ],
   "source": [
    "# Frequency of building description\n",
    "axs = sns.countplot(x='bldggrade_desc',data=df)\n",
    "axs.set_title(\"Frequency of building description\")\n",
    "# Rotate x-labels\n",
    "plt.xticks(rotation=-45)\n",
    "plt.show()"
   ]
  },
  {
   "cell_type": "markdown",
   "metadata": {},
   "source": [
    "### Story Height"
   ]
  },
  {
   "cell_type": "code",
   "execution_count": 54,
   "metadata": {},
   "outputs": [
    {
     "data": {
      "text/plain": [
       "1 STORY        46417\n",
       ">= 2.5 STY     41446\n",
       "2.0 STORY      19844\n",
       "1.5 STORY        257\n",
       "SPLIT LEVEL      137\n",
       "Name: storyheight, dtype: int64"
      ]
     },
     "execution_count": 54,
     "metadata": {},
     "output_type": "execute_result"
    }
   ],
   "source": [
    "df.storyheight.value_counts()"
   ]
  },
  {
   "cell_type": "code",
   "execution_count": 55,
   "metadata": {
    "collapsed": true
   },
   "outputs": [],
   "source": [
    "# Split levels and 1.5 Story are combined as 2.0 STORY as they were less in number and had to be grouped for modeling\n",
    "cleanup_nums = {\"storyheight\":  {\"1.5 STORY\": \"2.0 STORY\", \"SPLIT LEVEL\":\"2.0 STORY\" }}\n",
    "df.replace(cleanup_nums, inplace=True)"
   ]
  },
  {
   "cell_type": "code",
   "execution_count": 56,
   "metadata": {},
   "outputs": [
    {
     "data": {
      "image/png": "[encoded data removed]",
      "text/plain": [
       "<matplotlib.figure.Figure at 0x14fe4d8cf98>"
      ]
     },
     "metadata": {},
     "output_type": "display_data"
    }
   ],
   "source": [
    "import seaborn as sns\n",
    "ax = sns.countplot(x=\"storyheight\", data=df, palette=\"Set2\")\n",
    "total = float(len(df.index))\n",
    "for p in ax.patches:\n",
    "    height = p.get_height()\n",
    "    ax.text(p.get_x(), height+18, '%2.1f'%(height*100/total))\n",
    "plt.xticks(rotation=60)\n",
    "plt.title('Distribution of Story Height')\n",
    "plt.show()"
   ]
  },
  {
   "cell_type": "markdown",
   "metadata": {},
   "source": [
    "### Foundation Description"
   ]
  },
  {
   "cell_type": "code",
   "execution_count": 57,
   "metadata": {},
   "outputs": [
    {
     "data": {
      "text/plain": [
       "HIGH RISE       37423\n",
       "SLAB-COM        27284\n",
       "SLAB-RES        17980\n",
       "CRAWL SPACE     14282\n",
       "SLAB-HEAVY       4987\n",
       "SLAB-ABV GRD     4748\n",
       "SLAB-STRUCT      1095\n",
       "SLAB-PLFM HT      254\n",
       "PIER               48\n",
       "Name: foundation_desc, dtype: int64"
      ]
     },
     "execution_count": 57,
     "metadata": {},
     "output_type": "execute_result"
    }
   ],
   "source": [
    "df.foundation_desc.value_counts()"
   ]
  },
  {
   "cell_type": "code",
   "execution_count": 58,
   "metadata": {
    "collapsed": true
   },
   "outputs": [],
   "source": [
    "# Combining various foundation descriptions of lesser count to manageable bins\n",
    "cleanup_nums = {\"foundation_desc\":  {\"CRAWL SPACE\": \"SLAB-OTHERS\", \"SLAB-PLFM HT\":\"SLAB-OTHERS\",\n",
    "                                    \"PIER\": \"SLAB-OTHERS\", \"SLAB-HEAVY\":\"SLAB-OTHERS\",\n",
    "                                     \"SLAB-STRUCT\": \"SLAB-OTHERS\",\n",
    "                                    \"SLAB-ABV GRD\": \"SLAB-OTHERS\"}}\n",
    "df.replace(cleanup_nums, inplace=True)"
   ]
  },
  {
   "cell_type": "code",
   "execution_count": 59,
   "metadata": {
    "scrolled": true
   },
   "outputs": [
    {
     "data": {
      "image/png": "[encoded data removed]",
      "text/plain": [
       "<matplotlib.figure.Figure at 0x14fe4e18eb8>"
      ]
     },
     "metadata": {},
     "output_type": "display_data"
    }
   ],
   "source": [
    "import seaborn as sns\n",
    "ax = sns.countplot(x=\"foundation_desc\", data=df, palette=\"Set2\")\n",
    "total = float(len(df.index))\n",
    "for p in ax.patches:\n",
    "    height = p.get_height()\n",
    "    ax.text(p.get_x(), height+18, '%2.1f'%(height*100/total))\n",
    "plt.xticks(rotation=60)\n",
    "plt.title('Distribution of Foundation Description')\n",
    "plt.show()"
   ]
  },
  {
   "cell_type": "markdown",
   "metadata": {},
   "source": [
    "### Exterior Wall"
   ]
  },
  {
   "cell_type": "code",
   "execution_count": 60,
   "metadata": {},
   "outputs": [
    {
     "data": {
      "text/plain": [
       "FACE BRICK      28762\n",
       "PRECAST PANL    21409\n",
       "UNKNOWN         13683\n",
       "SDG MIN/NONE    12055\n",
       "GLASS/THRML      6602\n",
       "STONE            6484\n",
       "CONC BLOCK       5608\n",
       "WOOD ON SHTG     4626\n",
       "STUCCO HRDCT     3003\n",
       "CEM BR/SPL B     1842\n",
       "JUMBO/COM BR     1225\n",
       "HARDIPLANK        670\n",
       "MODULAR MTL       390\n",
       "RNFR CONC         294\n",
       "PREFIN MTL        279\n",
       "EXT PLYWOOD       249\n",
       "STUCCO SYNTH      235\n",
       "MASONITE          233\n",
       "ALUM,VINYL        221\n",
       "CEDAR,RDWD        118\n",
       "CORR MTL LGT       48\n",
       "CORR MTL HVY       47\n",
       "SIDG NO SHTG        7\n",
       "ASB SHNG/SDG        6\n",
       "BOARD&BATTEN        3\n",
       "WOOD SHINGLE        2\n",
       "Name: extwall, dtype: int64"
      ]
     },
     "execution_count": 60,
     "metadata": {},
     "output_type": "execute_result"
    }
   ],
   "source": [
    "df.extwall.value_counts()"
   ]
  },
  {
   "cell_type": "markdown",
   "metadata": {},
   "source": [
    "There are too many exterior wall types and since there were no common means to group all of them, have combined any type which has summation(shown in the previous cell) less than 6000 as category CONC/OTHERS."
   ]
  },
  {
   "cell_type": "code",
   "execution_count": 61,
   "metadata": {},
   "outputs": [
    {
     "name": "stdout",
     "output_type": "stream",
     "text": [
      "               incdate               incend       incidenttype_rm  inspectabl  \\\n",
      "0  2014-06-11 17:41:01  2014-06-11 17:52:41           321 EMSCall           1   \n",
      "1  2013-01-10 07:15:54  2013-01-10 07:27:39  300 EMS Rescue_Other           0   \n",
      "2  2013-01-10 07:15:54  2013-01-10 07:27:39  300 EMS Rescue_Other           1   \n",
      "3  2013-01-10 07:15:54  2013-01-10 07:27:39  300 EMS Rescue_Other           1   \n",
      "4  2013-01-10 07:15:54  2013-01-10 07:27:39  300 EMS Rescue_Other           0   \n",
      "\n",
      "   alarm  lockbox              instime  fireload  sprinkleredbuilding  \\\n",
      "0      0        0  2018-01-23 00:00:00         1                    0   \n",
      "1      0        0  2010-02-17 00:00:00         1                    0   \n",
      "2      0        0  1800-01-01 00:00:00         2                    0   \n",
      "3     10        0  2016-01-07 00:00:00         2                    0   \n",
      "4      0        0  2014-01-03 00:00:00         2                    0   \n",
      "\n",
      "   health704  ...       extwall  amt_netbldgvalue  grossarea  cnt_units  \\\n",
      "0          0  ...    CONC BLOCK           65000.0     2000.0        1.0   \n",
      "1          0  ...    CONC BLOCK          527800.0    10184.0        0.0   \n",
      "2          0  ...    CONC BLOCK          527800.0    10184.0        0.0   \n",
      "3          0  ...    CONC BLOCK          527800.0    10184.0        0.0   \n",
      "4          0  ...    CONC BLOCK          527800.0    10184.0        0.0   \n",
      "\n",
      "   bldggrade_desc  foundation_desc  cnt_otherfixtures  propertyuse_desc  \\\n",
      "0         AVERAGE      SLAB-OTHERS                2.0        Commercial   \n",
      "1            GOOD         SLAB-COM               12.0            Office   \n",
      "2            GOOD         SLAB-COM               12.0            Office   \n",
      "3            GOOD         SLAB-COM               12.0            Office   \n",
      "4            GOOD         SLAB-COM               12.0            Office   \n",
      "\n",
      "   incidtime  count  \n",
      "0   00:11:40   5608  \n",
      "1   00:11:45   5608  \n",
      "2   00:11:45   5608  \n",
      "3   00:11:45   5608  \n",
      "4   00:11:45   5608  \n",
      "\n",
      "[5 rows x 64 columns]\n"
     ]
    }
   ],
   "source": [
    "dcopy = df.copy()\n",
    "df1 = df.groupby(['extwall']).extwall.count().reset_index(name='count')\n",
    "df1.drop(df1[df1['count'] >6000].index,inplace=True)\n",
    "common=df.merge(df1,on=['extwall'])\n",
    "print(common.head())"
   ]
  },
  {
   "cell_type": "code",
   "execution_count": 62,
   "metadata": {},
   "outputs": [
    {
     "name": "stdout",
     "output_type": "stream",
     "text": [
      "                    incdate               incend             incidenttype_rm  \\\n",
      "2       2016-01-01 00:49:01  2016-01-01 00:56:40                 321 EMSCall   \n",
      "5       2013-11-02 14:21:57  2013-11-02 14:35:45                 321 EMSCall   \n",
      "6       2013-11-02 14:21:57  2013-11-02 14:35:45                 321 EMSCall   \n",
      "7       2014-01-10 20:06:05  2014-01-10 20:13:21                    100 Fire   \n",
      "8       2014-01-10 20:06:05  2014-01-10 20:13:21                    100 Fire   \n",
      "9       2014-08-26 03:02:53  2014-08-26 12:38:51                    100 Fire   \n",
      "10      2014-08-26 03:02:53  2014-08-26 12:38:51                    100 Fire   \n",
      "23      2013-04-03 03:57:10  2013-04-03 04:31:39  700 Sprinkler_Alarm_Issues   \n",
      "24      2013-07-21 22:34:56  2013-07-21 22:46:32  700 Sprinkler_Alarm_Issues   \n",
      "25      2013-08-09 19:42:18  2013-08-09 20:09:09  700 Sprinkler_Alarm_Issues   \n",
      "26      2013-12-24 01:33:56  2013-12-24 05:09:18  700 Sprinkler_Alarm_Issues   \n",
      "27      2013-12-24 21:16:07  2013-12-24 21:39:34                    100 Fire   \n",
      "31      2015-09-19 12:03:32  2015-09-19 12:25:49  700 Sprinkler_Alarm_Issues   \n",
      "32      2015-10-31 19:16:50  2015-10-31 19:37:41                 321 EMSCall   \n",
      "33      2016-03-13 21:00:46  2016-03-13 21:16:20                    100 Fire   \n",
      "34      2016-04-22 13:00:22  2016-04-22 13:10:17  700 Sprinkler_Alarm_Issues   \n",
      "35      2016-05-07 02:00:25  2016-05-07 02:13:00  700 Sprinkler_Alarm_Issues   \n",
      "36      2014-05-04 01:10:30  2014-05-04 01:24:13                 321 EMSCall   \n",
      "37      2014-11-17 01:10:21  2014-11-17 01:24:21                    100 Fire   \n",
      "38      2015-04-21 20:08:25  2015-04-21 20:21:36  700 Sprinkler_Alarm_Issues   \n",
      "50      2013-01-03 10:10:17  2013-01-03 10:29:18                 321 EMSCall   \n",
      "51      2013-01-04 10:07:28  2013-01-04 10:24:40                    100 Fire   \n",
      "52      2013-01-12 07:40:44  2013-01-12 07:51:58                    100 Fire   \n",
      "53      2013-01-15 13:13:35  2013-01-15 13:21:33  700 Sprinkler_Alarm_Issues   \n",
      "54      2013-01-23 18:30:28  2013-01-23 18:50:43                    100 Fire   \n",
      "276     2016-06-24 00:47:49  2016-06-24 00:56:34                    100 Fire   \n",
      "277     2016-06-24 06:22:30  2016-06-24 06:37:22                 321 EMSCall   \n",
      "282     2016-06-16 16:11:06  2016-06-16 16:14:24                    100 Fire   \n",
      "283     2016-06-16 20:34:00  2016-06-16 20:42:29                 321 EMSCall   \n",
      "284     2016-06-18 04:52:05  2016-06-18 05:03:10        300 EMS Rescue_Other   \n",
      "...                     ...                  ...                         ...   \n",
      "172959  2015-09-12 16:54:36  2015-09-12 17:14:53           600 Miscellaneous   \n",
      "172960  2015-09-12 16:54:36  2015-09-12 17:14:53           600 Miscellaneous   \n",
      "172962  2015-09-12 23:39:24  2015-09-12 23:45:56        300 EMS Rescue_Other   \n",
      "172963  2015-09-12 23:39:24  2015-09-12 23:45:56        300 EMS Rescue_Other   \n",
      "172964  2015-09-13 03:49:07  2015-09-13 04:00:53        300 EMS Rescue_Other   \n",
      "172966  2015-09-14 06:37:14  2015-09-14 06:52:00        300 EMS Rescue_Other   \n",
      "172967  2015-09-14 06:37:14  2015-09-14 06:52:00        300 EMS Rescue_Other   \n",
      "172968  2015-09-14 06:37:14  2015-09-14 06:52:00        300 EMS Rescue_Other   \n",
      "172969  2015-09-11 09:28:48  2015-09-11 09:40:37                 321 EMSCall   \n",
      "172970  2015-09-11 09:28:48  2015-09-11 09:40:37                 321 EMSCall   \n",
      "172971  2015-09-11 09:28:48  2015-09-11 09:40:37                 321 EMSCall   \n",
      "172972  2015-09-11 09:28:48  2015-09-11 09:40:37                 321 EMSCall   \n",
      "172973  2015-09-11 09:28:48  2015-09-11 09:40:37                 321 EMSCall   \n",
      "172974  2015-09-11 09:28:48  2015-09-11 09:40:37                 321 EMSCall   \n",
      "172975  2015-09-11 09:28:48  2015-09-11 09:40:37                 321 EMSCall   \n",
      "172976  2015-09-11 09:28:48  2015-09-11 09:40:37                 321 EMSCall   \n",
      "172977  2015-09-11 09:28:48  2015-09-11 09:40:37                 321 EMSCall   \n",
      "172978  2015-09-11 09:28:48  2015-09-11 09:40:37                 321 EMSCall   \n",
      "172979  2015-09-11 09:28:48  2015-09-11 09:40:37                 321 EMSCall   \n",
      "172980  2015-09-11 09:28:48  2015-09-11 09:40:37                 321 EMSCall   \n",
      "172981  2015-09-11 09:28:48  2015-09-11 09:40:37                 321 EMSCall   \n",
      "172982  2015-09-11 09:28:48  2015-09-11 09:40:37                 321 EMSCall   \n",
      "172983  2015-09-11 09:28:48  2015-09-11 09:40:37                 321 EMSCall   \n",
      "172984  2015-09-11 09:28:48  2015-09-11 09:40:37                 321 EMSCall   \n",
      "172985  2015-09-11 09:28:48  2015-09-11 09:40:37                 321 EMSCall   \n",
      "172986  2015-09-11 09:28:48  2015-09-11 09:40:37                 321 EMSCall   \n",
      "172987  2015-09-11 09:28:48  2015-09-11 09:40:37                 321 EMSCall   \n",
      "172988  2015-09-11 09:28:48  2015-09-11 09:40:37                 321 EMSCall   \n",
      "172989  2015-09-11 09:28:48  2015-09-11 09:40:37                 321 EMSCall   \n",
      "172990  2015-09-11 09:28:48  2015-09-11 09:40:37                 321 EMSCall   \n",
      "\n",
      "        inspectabl  alarm  lockbox              instime  fireload  \\\n",
      "2                1      9        1  2017-11-06 00:00:00         2   \n",
      "5                1     10        0  2017-10-03 00:00:00         2   \n",
      "6                1     10        0  2017-10-03 00:00:00         2   \n",
      "7                1     10        0  2017-10-03 00:00:00         2   \n",
      "8                1     10        0  2017-10-03 00:00:00         2   \n",
      "9                1     10        0  2017-10-03 00:00:00         2   \n",
      "10               1     10        0  2017-10-03 00:00:00         2   \n",
      "23               1      6        1  2016-06-02 00:00:00         2   \n",
      "24               1      6        1  2016-06-02 00:00:00         2   \n",
      "25               1      6        1  2016-06-02 00:00:00         2   \n",
      "26               1      6        1  2016-06-02 00:00:00         2   \n",
      "27               1      6        1  2016-06-02 00:00:00         2   \n",
      "31               1      6        1  2016-06-02 00:00:00         2   \n",
      "32               1      6        1  2016-06-02 00:00:00         2   \n",
      "33               1      6        1  2016-06-02 00:00:00         2   \n",
      "34               1      6        1  2016-06-02 00:00:00         2   \n",
      "35               1      6        1  2016-06-02 00:00:00         2   \n",
      "36               1      6        1  2016-06-02 00:00:00         2   \n",
      "37               1      6        1  2016-06-02 00:00:00         2   \n",
      "38               1      6        1  2016-06-02 00:00:00         2   \n",
      "50               1      4        1  2017-06-20 00:00:00         2   \n",
      "51               1      4        1  2017-06-20 00:00:00         2   \n",
      "52               1      4        1  2017-06-20 00:00:00         2   \n",
      "53               1      4        1  2017-06-20 00:00:00         2   \n",
      "54               1      4        1  2017-06-20 00:00:00         2   \n",
      "276              1      4        1  2017-06-20 00:00:00         2   \n",
      "277              1      4        1  2017-06-20 00:00:00         2   \n",
      "282              1      4        1  2017-06-20 00:00:00         2   \n",
      "283              1      4        1  2017-06-20 00:00:00         2   \n",
      "284              1      4        1  2017-06-20 00:00:00         2   \n",
      "...            ...    ...      ...                  ...       ...   \n",
      "172959           1      4        1  2018-01-12 00:00:00         2   \n",
      "172960           0      0        0  2007-01-26 00:00:00         0   \n",
      "172962           1      0        0  2017-11-16 00:00:00         2   \n",
      "172963           0      0        0  2006-02-21 00:00:00         0   \n",
      "172964           1      9        1  2017-11-07 00:00:00         2   \n",
      "172966           1      4        1  2017-02-02 00:00:00         2   \n",
      "172967           1      0        0  2016-11-30 00:00:00         0   \n",
      "172968           1      0        0  2016-11-30 00:00:00         0   \n",
      "172969           1      4        1  2018-01-22 00:00:00         2   \n",
      "172970           1      0        0  2017-03-20 00:00:00         0   \n",
      "172971           1      0        0  2016-12-14 00:00:00         0   \n",
      "172972           0      0        0  2017-02-03 00:00:00         0   \n",
      "172973           1      0        0  2017-03-20 00:00:00         0   \n",
      "172974           1      0        0  2017-09-22 00:00:00         0   \n",
      "172975           1      0        0  2018-01-25 00:00:00         0   \n",
      "172976           1      0        0  2017-03-20 00:00:00         0   \n",
      "172977           1      0        0  2017-03-20 00:00:00         0   \n",
      "172978           1      0        0  2017-03-20 00:00:00         0   \n",
      "172979           1      0        0  2017-03-20 00:00:00         2   \n",
      "172980           1      0        0  2017-12-02 00:00:00         2   \n",
      "172981           1      0        0  2017-03-20 00:00:00         0   \n",
      "172982           1      0        0  2017-03-20 00:00:00         0   \n",
      "172983           1      0        0  2017-03-20 00:00:00         0   \n",
      "172984           1      0        0  2017-03-20 00:00:00         0   \n",
      "172985           1      0        0  2017-03-20 00:00:00         0   \n",
      "172986           1      0        0  2017-11-15 00:00:00         0   \n",
      "172987           1      0        0  2017-07-31 00:00:00         0   \n",
      "172988           1      0        0  2017-03-20 00:00:00         0   \n",
      "172989           1      0        0  2017-03-20 00:00:00         0   \n",
      "172990           1      0        0  2017-03-20 00:00:00         0   \n",
      "\n",
      "        sprinkleredbuilding  health704    ...      storyheight       extwall  \\\n",
      "2                         1          0    ...        2.0 STORY    FACE BRICK   \n",
      "5                         0          0    ...        2.0 STORY    FACE BRICK   \n",
      "6                         0          0    ...        2.0 STORY    FACE BRICK   \n",
      "7                         0          0    ...        2.0 STORY    FACE BRICK   \n",
      "8                         0          0    ...        2.0 STORY    FACE BRICK   \n",
      "9                         0          0    ...        2.0 STORY    FACE BRICK   \n",
      "10                        0          0    ...        2.0 STORY    FACE BRICK   \n",
      "23                        1          0    ...       >= 2.5 STY    FACE BRICK   \n",
      "24                        1          0    ...       >= 2.5 STY    FACE BRICK   \n",
      "25                        1          0    ...       >= 2.5 STY    FACE BRICK   \n",
      "26                        1          0    ...       >= 2.5 STY    FACE BRICK   \n",
      "27                        1          0    ...       >= 2.5 STY    FACE BRICK   \n",
      "31                        1          0    ...       >= 2.5 STY    FACE BRICK   \n",
      "32                        1          0    ...       >= 2.5 STY    FACE BRICK   \n",
      "33                        1          0    ...       >= 2.5 STY    FACE BRICK   \n",
      "34                        1          0    ...       >= 2.5 STY    FACE BRICK   \n",
      "35                        1          0    ...       >= 2.5 STY    FACE BRICK   \n",
      "36                        1          0    ...       >= 2.5 STY    FACE BRICK   \n",
      "37                        1          0    ...       >= 2.5 STY    FACE BRICK   \n",
      "38                        1          0    ...       >= 2.5 STY    FACE BRICK   \n",
      "50                        1          0    ...       >= 2.5 STY    FACE BRICK   \n",
      "51                        1          0    ...       >= 2.5 STY    FACE BRICK   \n",
      "52                        1          0    ...       >= 2.5 STY    FACE BRICK   \n",
      "53                        1          0    ...       >= 2.5 STY    FACE BRICK   \n",
      "54                        1          0    ...       >= 2.5 STY    FACE BRICK   \n",
      "276                       1          0    ...       >= 2.5 STY    FACE BRICK   \n",
      "277                       1          0    ...       >= 2.5 STY    FACE BRICK   \n",
      "282                       1          0    ...       >= 2.5 STY    FACE BRICK   \n",
      "283                       1          0    ...       >= 2.5 STY    FACE BRICK   \n",
      "284                       1          0    ...       >= 2.5 STY    FACE BRICK   \n",
      "...                     ...        ...    ...              ...           ...   \n",
      "172959                    1          0    ...       >= 2.5 STY  PRECAST PANL   \n",
      "172960                    0          0    ...       >= 2.5 STY  PRECAST PANL   \n",
      "172962                    0          1    ...          1 STORY    FACE BRICK   \n",
      "172963                    0          0    ...          1 STORY    FACE BRICK   \n",
      "172964                    1          0    ...        2.0 STORY    FACE BRICK   \n",
      "172966                    1          0    ...       >= 2.5 STY    FACE BRICK   \n",
      "172967                    0          0    ...       >= 2.5 STY    FACE BRICK   \n",
      "172968                    0          0    ...       >= 2.5 STY    FACE BRICK   \n",
      "172969                    1          2    ...       >= 2.5 STY   GLASS/THRML   \n",
      "172970                    0          0    ...       >= 2.5 STY   GLASS/THRML   \n",
      "172971                    0          0    ...       >= 2.5 STY   GLASS/THRML   \n",
      "172972                    0          0    ...       >= 2.5 STY   GLASS/THRML   \n",
      "172973                    0          0    ...       >= 2.5 STY   GLASS/THRML   \n",
      "172974                    0          0    ...       >= 2.5 STY   GLASS/THRML   \n",
      "172975                    0          0    ...       >= 2.5 STY   GLASS/THRML   \n",
      "172976                    0          0    ...       >= 2.5 STY   GLASS/THRML   \n",
      "172977                    0          0    ...       >= 2.5 STY   GLASS/THRML   \n",
      "172978                    0          0    ...       >= 2.5 STY   GLASS/THRML   \n",
      "172979                    0          0    ...       >= 2.5 STY   GLASS/THRML   \n",
      "172980                    0          0    ...       >= 2.5 STY   GLASS/THRML   \n",
      "172981                    0          0    ...       >= 2.5 STY   GLASS/THRML   \n",
      "172982                    0          0    ...       >= 2.5 STY   GLASS/THRML   \n",
      "172983                    0          0    ...       >= 2.5 STY   GLASS/THRML   \n",
      "172984                    0          0    ...       >= 2.5 STY   GLASS/THRML   \n",
      "172985                    0          0    ...       >= 2.5 STY   GLASS/THRML   \n",
      "172986                    0          0    ...       >= 2.5 STY   GLASS/THRML   \n",
      "172987                    0          0    ...       >= 2.5 STY   GLASS/THRML   \n",
      "172988                    0          0    ...       >= 2.5 STY   GLASS/THRML   \n",
      "172989                    0          0    ...       >= 2.5 STY   GLASS/THRML   \n",
      "172990                    0          0    ...       >= 2.5 STY   GLASS/THRML   \n",
      "\n",
      "        amt_netbldgvalue  grossarea  cnt_units  bldggrade_desc  \\\n",
      "2               275500.0     5120.0        4.0         AVERAGE   \n",
      "5              1152200.0    12802.0        0.0         AVERAGE   \n",
      "6              1152200.0    12802.0        0.0         AVERAGE   \n",
      "7              1152200.0    12802.0        0.0         AVERAGE   \n",
      "8              1152200.0    12802.0        0.0         AVERAGE   \n",
      "9              1152200.0    12802.0        0.0         AVERAGE   \n",
      "10             1152200.0    12802.0        0.0         AVERAGE   \n",
      "23            20673500.0   321850.0      227.0            GOOD   \n",
      "24            20673500.0   321850.0      227.0            GOOD   \n",
      "25            20673500.0   321850.0      227.0            GOOD   \n",
      "26            20673500.0   321850.0      227.0            GOOD   \n",
      "27            20673500.0   321850.0      227.0            GOOD   \n",
      "31            20673500.0   321850.0      227.0            GOOD   \n",
      "32            20673500.0   321850.0      227.0            GOOD   \n",
      "33            20673500.0   321850.0      227.0            GOOD   \n",
      "34            20673500.0   321850.0      227.0            GOOD   \n",
      "35            20673500.0   321850.0      227.0            GOOD   \n",
      "36            20673500.0   321850.0      227.0            GOOD   \n",
      "37            20673500.0   321850.0      227.0            GOOD   \n",
      "38            20673500.0   321850.0      227.0            GOOD   \n",
      "50            15209800.0   272082.0      175.0         AVERAGE   \n",
      "51            15209800.0   272082.0      175.0         AVERAGE   \n",
      "52            15209800.0   272082.0      175.0         AVERAGE   \n",
      "53            15209800.0   272082.0      175.0         AVERAGE   \n",
      "54            15209800.0   272082.0      175.0         AVERAGE   \n",
      "276           15209800.0   272082.0      175.0         AVERAGE   \n",
      "277           15209800.0   272082.0      175.0         AVERAGE   \n",
      "282           15209800.0   272082.0      175.0         AVERAGE   \n",
      "283           15209800.0   272082.0      175.0         AVERAGE   \n",
      "284           15209800.0   272082.0      175.0         AVERAGE   \n",
      "...                  ...        ...        ...             ...   \n",
      "172959        14520200.0   128544.0        1.0       VERY GOOD   \n",
      "172960        14520200.0   128544.0        1.0       VERY GOOD   \n",
      "172962          158700.0     1560.0        1.0            GOOD   \n",
      "172963          158700.0     1560.0        1.0            GOOD   \n",
      "172964          389100.0     7679.0        5.0         AVERAGE   \n",
      "172966         6216600.0    80284.0        0.0       VERY GOOD   \n",
      "172967         6216600.0    80284.0        0.0       VERY GOOD   \n",
      "172968         6216600.0    80284.0        0.0       VERY GOOD   \n",
      "172969        43713000.0   288747.0      374.0          CUSTOM   \n",
      "172970        43713000.0   288747.0      374.0          CUSTOM   \n",
      "172971        43713000.0   288747.0      374.0          CUSTOM   \n",
      "172972        43713000.0   288747.0      374.0          CUSTOM   \n",
      "172973        43713000.0   288747.0      374.0          CUSTOM   \n",
      "172974        43713000.0   288747.0      374.0          CUSTOM   \n",
      "172975        43713000.0   288747.0      374.0          CUSTOM   \n",
      "172976        43713000.0   288747.0      374.0          CUSTOM   \n",
      "172977        43713000.0   288747.0      374.0          CUSTOM   \n",
      "172978        43713000.0   288747.0      374.0          CUSTOM   \n",
      "172979        43713000.0   288747.0      374.0          CUSTOM   \n",
      "172980        43713000.0   288747.0      374.0          CUSTOM   \n",
      "172981        43713000.0   288747.0      374.0          CUSTOM   \n",
      "172982        43713000.0   288747.0      374.0          CUSTOM   \n",
      "172983        43713000.0   288747.0      374.0          CUSTOM   \n",
      "172984        43713000.0   288747.0      374.0          CUSTOM   \n",
      "172985        43713000.0   288747.0      374.0          CUSTOM   \n",
      "172986        43713000.0   288747.0      374.0          CUSTOM   \n",
      "172987        43713000.0   288747.0      374.0          CUSTOM   \n",
      "172988        43713000.0   288747.0      374.0          CUSTOM   \n",
      "172989        43713000.0   288747.0      374.0          CUSTOM   \n",
      "172990        43713000.0   288747.0      374.0          CUSTOM   \n",
      "\n",
      "        foundation_desc  cnt_otherfixtures  propertyuse_desc  incidtime  \n",
      "2              SLAB-RES               32.0       Residential   00:07:39  \n",
      "5           SLAB-OTHERS               16.0         Govt-Inst   00:13:48  \n",
      "6           SLAB-OTHERS               16.0         Govt-Inst   00:13:48  \n",
      "7           SLAB-OTHERS               16.0         Govt-Inst   00:07:16  \n",
      "8           SLAB-OTHERS               16.0         Govt-Inst   00:07:16  \n",
      "9           SLAB-OTHERS               16.0         Govt-Inst   09:35:58  \n",
      "10          SLAB-OTHERS               16.0         Govt-Inst   09:35:58  \n",
      "23          SLAB-OTHERS              833.0       Residential   00:34:29  \n",
      "24          SLAB-OTHERS              833.0       Residential   00:11:36  \n",
      "25          SLAB-OTHERS              833.0       Residential   00:26:51  \n",
      "26          SLAB-OTHERS              833.0       Residential   03:35:22  \n",
      "27          SLAB-OTHERS              833.0       Residential   00:23:27  \n",
      "31          SLAB-OTHERS              833.0       Residential   00:22:17  \n",
      "32          SLAB-OTHERS              833.0       Residential   00:20:51  \n",
      "33          SLAB-OTHERS              833.0       Residential   00:15:34  \n",
      "34          SLAB-OTHERS              833.0       Residential   00:09:55  \n",
      "35          SLAB-OTHERS              833.0       Residential   00:12:35  \n",
      "36          SLAB-OTHERS              833.0       Residential   00:13:43  \n",
      "37          SLAB-OTHERS              833.0       Residential   00:14:00  \n",
      "38          SLAB-OTHERS              833.0       Residential   00:13:11  \n",
      "50          SLAB-OTHERS              525.0       Residential   00:19:01  \n",
      "51          SLAB-OTHERS              525.0       Residential   00:17:12  \n",
      "52          SLAB-OTHERS              525.0       Residential   00:11:14  \n",
      "53          SLAB-OTHERS              525.0       Residential   00:07:58  \n",
      "54          SLAB-OTHERS              525.0       Residential   00:20:15  \n",
      "276         SLAB-OTHERS              525.0       Residential   00:08:45  \n",
      "277         SLAB-OTHERS              525.0       Residential   00:14:52  \n",
      "282         SLAB-OTHERS              525.0       Residential   00:03:18  \n",
      "283         SLAB-OTHERS              525.0       Residential   00:08:29  \n",
      "284         SLAB-OTHERS              525.0       Residential   00:11:05  \n",
      "...                 ...                ...               ...        ...  \n",
      "172959      SLAB-OTHERS               64.0         Govt-Inst   00:20:17  \n",
      "172960      SLAB-OTHERS               64.0         Govt-Inst   00:20:17  \n",
      "172962         SLAB-COM                4.0        Commercial   00:06:32  \n",
      "172963         SLAB-COM                4.0        Commercial   00:06:32  \n",
      "172964         SLAB-RES               36.0       Residential   00:11:46  \n",
      "172966         SLAB-COM               38.0            Office   00:14:46  \n",
      "172967         SLAB-COM               38.0            Office   00:14:46  \n",
      "172968         SLAB-COM               38.0            Office   00:14:46  \n",
      "172969        HIGH RISE             1224.0       Hotel/Motel   00:11:49  \n",
      "172970        HIGH RISE             1224.0       Hotel/Motel   00:11:49  \n",
      "172971        HIGH RISE             1224.0       Hotel/Motel   00:11:49  \n",
      "172972        HIGH RISE             1224.0       Hotel/Motel   00:11:49  \n",
      "172973        HIGH RISE             1224.0       Hotel/Motel   00:11:49  \n",
      "172974        HIGH RISE             1224.0       Hotel/Motel   00:11:49  \n",
      "172975        HIGH RISE             1224.0       Hotel/Motel   00:11:49  \n",
      "172976        HIGH RISE             1224.0       Hotel/Motel   00:11:49  \n",
      "172977        HIGH RISE             1224.0       Hotel/Motel   00:11:49  \n",
      "172978        HIGH RISE             1224.0       Hotel/Motel   00:11:49  \n",
      "172979        HIGH RISE             1224.0       Hotel/Motel   00:11:49  \n",
      "172980        HIGH RISE             1224.0       Hotel/Motel   00:11:49  \n",
      "172981        HIGH RISE             1224.0       Hotel/Motel   00:11:49  \n",
      "172982        HIGH RISE             1224.0       Hotel/Motel   00:11:49  \n",
      "172983        HIGH RISE             1224.0       Hotel/Motel   00:11:49  \n",
      "172984        HIGH RISE             1224.0       Hotel/Motel   00:11:49  \n",
      "172985        HIGH RISE             1224.0       Hotel/Motel   00:11:49  \n",
      "172986        HIGH RISE             1224.0       Hotel/Motel   00:11:49  \n",
      "172987        HIGH RISE             1224.0       Hotel/Motel   00:11:49  \n",
      "172988        HIGH RISE             1224.0       Hotel/Motel   00:11:49  \n",
      "172989        HIGH RISE             1224.0       Hotel/Motel   00:11:49  \n",
      "172990        HIGH RISE             1224.0       Hotel/Motel   00:11:49  \n",
      "\n",
      "[88995 rows x 63 columns]\n"
     ]
    }
   ],
   "source": [
    "newdf= df[(~df.extwall.isin(common.extwall))]\n",
    "common.extwall = \"CONC/OTHERS\"\n",
    "print(newdf)\n",
    "df = pd.concat([newdf,common])"
   ]
  },
  {
   "cell_type": "code",
   "execution_count": 63,
   "metadata": {},
   "outputs": [
    {
     "data": {
      "text/plain": [
       "FACE BRICK      28762\n",
       "PRECAST PANL    21409\n",
       "CONC/OTHERS     19106\n",
       "UNKNOWN         13683\n",
       "SDG MIN/NONE    12055\n",
       "GLASS/THRML      6602\n",
       "STONE            6484\n",
       "Name: extwall, dtype: int64"
      ]
     },
     "execution_count": 63,
     "metadata": {},
     "output_type": "execute_result"
    }
   ],
   "source": [
    "df.extwall.value_counts()"
   ]
  },
  {
   "cell_type": "code",
   "execution_count": 64,
   "metadata": {
    "collapsed": true
   },
   "outputs": [],
   "source": [
    "df.drop(['count',], axis = 1, inplace = True)"
   ]
  },
  {
   "cell_type": "code",
   "execution_count": 65,
   "metadata": {
    "collapsed": true
   },
   "outputs": [],
   "source": [
    "# Since GLASS/THRML and STONE are still lesser in number compared to main category of FACE BRICK, combining them as GLASS/STONE\n",
    "cleanup_nums = {\"extwall\":  {\"GLASS/THRML\": \"GLASS/STONE\", \"STONE\":\"GLASS/STONE\"}}\n",
    "df.replace(cleanup_nums, inplace=True)"
   ]
  },
  {
   "cell_type": "code",
   "execution_count": 66,
   "metadata": {},
   "outputs": [
    {
     "data": {
      "image/png": "[encoded data removed]",
      "text/plain": [
       "<matplotlib.figure.Figure at 0x14fe521ee80>"
      ]
     },
     "metadata": {},
     "output_type": "display_data"
    }
   ],
   "source": [
    "import seaborn as sns\n",
    "ax = sns.countplot(x=\"extwall\", data=df, palette=\"Set2\")\n",
    "total = float(len(df.index))\n",
    "for p in ax.patches:\n",
    "    height = p.get_height()\n",
    "    ax.text(p.get_x(), height+18, '%2.1f'%(height*100/total))\n",
    "plt.xticks(rotation=60)\n",
    "plt.title('Distribution of Exterior Wall Types')\n",
    "plt.show()"
   ]
  },
  {
   "cell_type": "markdown",
   "metadata": {},
   "source": [
    "### Tax Spec Dis"
   ]
  },
  {
   "cell_type": "code",
   "execution_count": 67,
   "metadata": {},
   "outputs": [
    {
     "data": {
      "text/plain": [
       "DOWNTOWN DISTRICT 3    37231\n",
       "UNKNOWN                30382\n",
       "DOWNTOWN DISTRICT 2    27648\n",
       "UNIVERSITY AREA         8298\n",
       "DOWNTOWN DISTRICT 1     2365\n",
       "DOWNTOWN DISTRICT 4     2164\n",
       "FIRE SERVICE E            13\n",
       "Name: taxspecdis, dtype: int64"
      ]
     },
     "execution_count": 67,
     "metadata": {},
     "output_type": "execute_result"
    }
   ],
   "source": [
    "df['taxspecdis'].value_counts()"
   ]
  },
  {
   "cell_type": "code",
   "execution_count": 68,
   "metadata": {
    "collapsed": true
   },
   "outputs": [],
   "source": [
    "cleanup_nums = {\"taxspecdis\":  {\"UNIVERSITY AREA\": \"DOWNTOWN DISTRICT\", \"DOWNTOWN DISTRICT 1\":\"DOWNTOWN DISTRICT\",\n",
    "                               \"DOWNTOWN DISTRICT 4\":\"DOWNTOWN DISTRICT\",\"FIRE SERVICE E\":\"DOWNTOWN DISTRICT\"}}\n",
    "df.replace(cleanup_nums, inplace=True)"
   ]
  },
  {
   "cell_type": "code",
   "execution_count": 69,
   "metadata": {},
   "outputs": [
    {
     "data": {
      "image/png": "[encoded data removed]",
      "text/plain": [
       "<matplotlib.figure.Figure at 0x14fe521e400>"
      ]
     },
     "metadata": {},
     "output_type": "display_data"
    }
   ],
   "source": [
    "# Grouped plot of tax specification district\n",
    "import seaborn as sns\n",
    "ax = sns.countplot(x=\"taxspecdis\", data=df, palette=\"Set2\")\n",
    "total = float(len(df.index))\n",
    "for p in ax.patches:\n",
    "    height = p.get_height()\n",
    "    ax.text(p.get_x(), height+18, '%2.1f'%(height*100/total))\n",
    "plt.xticks(rotation=60)\n",
    "plt.title('Distribution of Tax Spec Types')\n",
    "plt.show()"
   ]
  },
  {
   "cell_type": "markdown",
   "metadata": {},
   "source": [
    "### Vacant or Improved"
   ]
  },
  {
   "cell_type": "markdown",
   "metadata": {},
   "source": [
    "Using label encoder to transform vacant or improved land as 0 - Vacant , 1 - Improved"
   ]
  },
  {
   "cell_type": "code",
   "execution_count": 70,
   "metadata": {
    "collapsed": true
   },
   "outputs": [],
   "source": [
    "from sklearn.preprocessing import LabelEncoder\n",
    "\n",
    "lb = LabelEncoder()\n",
    "df[\"vacorimp\"] = lb.fit_transform(df[\"vacantorim\"])\n",
    "df.drop(['vacantorim'],axis = 1, inplace = True)"
   ]
  },
  {
   "cell_type": "code",
   "execution_count": 71,
   "metadata": {},
   "outputs": [
    {
     "data": {
      "text/plain": [
       "0    64369\n",
       "1    43732\n",
       "Name: vacorimp, dtype: int64"
      ]
     },
     "execution_count": 71,
     "metadata": {},
     "output_type": "execute_result"
    }
   ],
   "source": [
    "df['vacorimp'].value_counts()"
   ]
  },
  {
   "cell_type": "markdown",
   "metadata": {},
   "source": [
    "#### Ins Time - This is not used in the current model but can be included when the model is rerun with datetime values"
   ]
  },
  {
   "cell_type": "markdown",
   "metadata": {},
   "source": [
    "df['instime'].value_counts()"
   ]
  },
  {
   "cell_type": "markdown",
   "metadata": {},
   "source": [
    "df['instime'] = pd.to_datetime(df['instime'])"
   ]
  },
  {
   "cell_type": "markdown",
   "metadata": {},
   "source": [
    "currentTime = datetime.now()\n",
    "print(currentTime)"
   ]
  },
  {
   "cell_type": "markdown",
   "metadata": {},
   "source": [
    "import time\n",
    "fmt = '%Y-%m-%d'\n",
    "df['insptime'] = pd.to_datetime(currentTime, format = fmt) - df['instime']"
   ]
  },
  {
   "cell_type": "markdown",
   "metadata": {},
   "source": [
    "df['insptime']"
   ]
  },
  {
   "cell_type": "markdown",
   "metadata": {},
   "source": [
    "### Building Age"
   ]
  },
  {
   "cell_type": "markdown",
   "metadata": {},
   "source": [
    "Calculate age of building based on year built as Current Year - Year built. Creating this feature as older buildings might have more chances of catching fire or on similar assumptions. :)"
   ]
  },
  {
   "cell_type": "code",
   "execution_count": 72,
   "metadata": {
    "collapsed": true
   },
   "outputs": [],
   "source": [
    "from datetime import datetime\n",
    "currentYear = datetime.now().year"
   ]
  },
  {
   "cell_type": "code",
   "execution_count": 73,
   "metadata": {
    "collapsed": true
   },
   "outputs": [],
   "source": [
    "df['building_age'] = currentYear - df['yearbuilt']"
   ]
  },
  {
   "cell_type": "code",
   "execution_count": 74,
   "metadata": {
    "collapsed": true
   },
   "outputs": [],
   "source": [
    "# Due to data issues, some dont have year built and those are considered as new buildings with age 1\n",
    "df['building_age'] = df['building_age'].replace(2018,1)"
   ]
  },
  {
   "cell_type": "code",
   "execution_count": 75,
   "metadata": {},
   "outputs": [
    {
     "data": {
      "image/png": "[encoded data removed]",
      "text/plain": [
       "<matplotlib.figure.Figure at 0x14fe5580dd8>"
      ]
     },
     "metadata": {},
     "output_type": "display_data"
    }
   ],
   "source": [
    "color = sns.color_palette()\n",
    "cnt_srs = df['building_age'].value_counts()\n",
    "plt.figure(figsize=(15,10))\n",
    "sns.barplot(cnt_srs.index, cnt_srs.values, alpha=0.8, color=color[3])\n",
    "plt.xticks(rotation='vertical')\n",
    "plt.xlabel('Building Age', fontsize=12)\n",
    "plt.ylabel('Number of Occurrences', fontsize=12)\n",
    "plt.show()"
   ]
  },
  {
   "cell_type": "code",
   "execution_count": 76,
   "metadata": {},
   "outputs": [
    {
     "data": {
      "text/plain": [
       "<matplotlib.axes._subplots.AxesSubplot at 0x14fe55ecba8>"
      ]
     },
     "execution_count": 76,
     "metadata": {},
     "output_type": "execute_result"
    },
    {
     "data": {
      "image/png": "[encoded data removed]",
      "text/plain": [
       "<matplotlib.figure.Figure at 0x14fe4e714e0>"
      ]
     },
     "metadata": {},
     "output_type": "display_data"
    }
   ],
   "source": [
    "df['building_age'].hist(bins = 20)"
   ]
  },
  {
   "cell_type": "code",
   "execution_count": 77,
   "metadata": {},
   "outputs": [
    {
     "data": {
      "text/plain": [
       "<matplotlib.axes._subplots.AxesSubplot at 0x14fe4e71860>"
      ]
     },
     "execution_count": 77,
     "metadata": {},
     "output_type": "execute_result"
    },
    {
     "data": {
      "image/png": "[encoded data removed]",
      "text/plain": [
       "<matplotlib.figure.Figure at 0x14fe53be8d0>"
      ]
     },
     "metadata": {},
     "output_type": "display_data"
    }
   ],
   "source": [
    "sns.distplot(df.building_age)\n",
    "#df.building_age2 = np.log1p(df.building_age)\n",
    "# Standardizing the attributes\n",
    "#from sklearn.preprocessing import MinMaxScaler\n",
    "\n",
    "#Scaler = MinMaxScaler()\n",
    "#df['building_age3'] = Scaler.fit_transform(df[['building_age']])"
   ]
  },
  {
   "cell_type": "markdown",
   "metadata": {},
   "source": [
    "Drop some more fields after initial preprocessing and transformation"
   ]
  },
  {
   "cell_type": "code",
   "execution_count": 78,
   "metadata": {
    "collapsed": true
   },
   "outputs": [],
   "source": [
    "df.drop(['codeuse','yearbuilt','incidtime','instime'],axis = 1, inplace = True)"
   ]
  },
  {
   "cell_type": "markdown",
   "metadata": {},
   "source": [
    "### Assigned Frequency"
   ]
  },
  {
   "cell_type": "code",
   "execution_count": 79,
   "metadata": {},
   "outputs": [
    {
     "data": {
      "text/plain": [
       "365     59609\n",
       "1095    23873\n",
       "0       22744\n",
       "720      1149\n",
       "182       452\n",
       "1096       76\n",
       "1097       75\n",
       "366        33\n",
       "1          33\n",
       "20         31\n",
       "730        12\n",
       "1094        6\n",
       "1085        3\n",
       "1035        3\n",
       "3365        2\n",
       "Name: assignedfrequency, dtype: int64"
      ]
     },
     "execution_count": 79,
     "metadata": {},
     "output_type": "execute_result"
    }
   ],
   "source": [
    "df['assignedfrequency'].value_counts()"
   ]
  },
  {
   "cell_type": "code",
   "execution_count": 80,
   "metadata": {
    "collapsed": true
   },
   "outputs": [],
   "source": [
    "# Combine assigned frequency values along with 720 as Others as the two main possible values are 365 and 1095\n",
    "values = ([1035,3365,1085,730,1094,20,1,366,1096,1097,182,720,0])\n",
    "df['assignedfrequency'] = np.where(df['assignedfrequency'].isin(values) , 'Others' ,df['assignedfrequency'])\n",
    "df.replace({\"assignedfrequency\": {\"365\":\"Yearly\",\"1095\":\"Three Yearly\"}}, inplace=True)"
   ]
  },
  {
   "cell_type": "code",
   "execution_count": 81,
   "metadata": {
    "scrolled": true
   },
   "outputs": [
    {
     "data": {
      "text/plain": [
       "<matplotlib.axes._subplots.AxesSubplot at 0x14fbeaa8940>"
      ]
     },
     "execution_count": 81,
     "metadata": {},
     "output_type": "execute_result"
    },
    {
     "data": {
      "image/png": "[encoded data removed]",
      "text/plain": [
       "<matplotlib.figure.Figure at 0x14fe55f8780>"
      ]
     },
     "metadata": {},
     "output_type": "display_data"
    }
   ],
   "source": [
    "# Distribution Plot for assigned frequency\n",
    "sns.countplot(df.assignedfrequency)"
   ]
  },
  {
   "cell_type": "markdown",
   "metadata": {},
   "source": [
    "### Bedrooms"
   ]
  },
  {
   "cell_type": "code",
   "execution_count": 82,
   "metadata": {},
   "outputs": [
    {
     "data": {
      "text/plain": [
       "0     93704\n",
       "1     11955\n",
       "2      2129\n",
       "64      278\n",
       "3        21\n",
       "5        10\n",
       "4         3\n",
       "7         1\n",
       "Name: bedrooms, dtype: int64"
      ]
     },
     "execution_count": 82,
     "metadata": {},
     "output_type": "execute_result"
    }
   ],
   "source": [
    "df['bedrooms'].value_counts()"
   ]
  },
  {
   "cell_type": "markdown",
   "metadata": {},
   "source": [
    "Bedrooms greater than one are less in number and hence combining together"
   ]
  },
  {
   "cell_type": "code",
   "execution_count": 83,
   "metadata": {
    "collapsed": true
   },
   "outputs": [],
   "source": [
    "values = ([7,4,5,3,64,2,1])\n",
    "df['bedrooms'] = np.where(df['bedrooms'].isin(values) , 'One or more' ,df['bedrooms'])\n",
    "df.replace({\"bedrooms\": {\"0\":\"None\"}}, inplace=True)"
   ]
  },
  {
   "cell_type": "code",
   "execution_count": 84,
   "metadata": {},
   "outputs": [
    {
     "data": {
      "text/plain": [
       "<matplotlib.axes._subplots.AxesSubplot at 0x14fbea9aac8>"
      ]
     },
     "execution_count": 84,
     "metadata": {},
     "output_type": "execute_result"
    },
    {
     "data": {
      "image/png": "[encoded data removed]",
      "text/plain": [
       "<matplotlib.figure.Figure at 0x14fbea9e588>"
      ]
     },
     "metadata": {},
     "output_type": "display_data"
    }
   ],
   "source": [
    "# Histogram of Bedrooms\n",
    "sns.countplot(df.bedrooms)"
   ]
  },
  {
   "cell_type": "markdown",
   "metadata": {},
   "source": [
    "### Alarm"
   ]
  },
  {
   "cell_type": "code",
   "execution_count": 85,
   "metadata": {},
   "outputs": [
    {
     "data": {
      "text/plain": [
       "0     55860\n",
       "4     31351\n",
       "3      5743\n",
       "6      5304\n",
       "9      4035\n",
       "10     2825\n",
       "2      1065\n",
       "7      1061\n",
       "5       450\n",
       "8       371\n",
       "1        36\n",
       "Name: alarm, dtype: int64"
      ]
     },
     "execution_count": 85,
     "metadata": {},
     "output_type": "execute_result"
    }
   ],
   "source": [
    "df['alarm'].value_counts()"
   ]
  },
  {
   "cell_type": "code",
   "execution_count": 86,
   "metadata": {
    "collapsed": true
   },
   "outputs": [],
   "source": [
    "# More than 3 alarms can be grouped as Misc category\n",
    "values = ([1,5,8,2,7,10,9,6,3])\n",
    "df['alarm'] = np.where(df['alarm'].isin(values) , 'Misc' ,df['alarm'])\n",
    "df.replace({\"alarm\": {\"0\":\"No Alarm\",\"4\":\"Four Alarms\"}}, inplace=True)"
   ]
  },
  {
   "cell_type": "code",
   "execution_count": 87,
   "metadata": {},
   "outputs": [
    {
     "data": {
      "text/plain": [
       "<matplotlib.axes._subplots.AxesSubplot at 0x14fbea8cdd8>"
      ]
     },
     "execution_count": 87,
     "metadata": {},
     "output_type": "execute_result"
    },
    {
     "data": {
      "image/png": "[encoded data removed]",
      "text/plain": [
       "<matplotlib.figure.Figure at 0x14fbea9dcc0>"
      ]
     },
     "metadata": {},
     "output_type": "display_data"
    }
   ],
   "source": [
    "# Distribution Plot for alarms\n",
    "sns.countplot(df.alarm)"
   ]
  },
  {
   "cell_type": "markdown",
   "metadata": {},
   "source": [
    "### Cnt_Otherfixtures"
   ]
  },
  {
   "cell_type": "code",
   "execution_count": 88,
   "metadata": {},
   "outputs": [
    {
     "data": {
      "text/plain": [
       "99.000000      20040\n",
       "192.297568     11504\n",
       "0.000000       11329\n",
       "79.000000      10055\n",
       "15.000000       5994\n",
       "50.000000       4358\n",
       "824.000000      4275\n",
       "1224.000000     2748\n",
       "1293.000000     2595\n",
       "1.000000        1692\n",
       "874.000000      1692\n",
       "25.000000       1636\n",
       "6.000000        1561\n",
       "16.000000       1516\n",
       "282.000000      1443\n",
       "4.000000        1442\n",
       "92.000000       1434\n",
       "38.000000       1421\n",
       "10.000000       1151\n",
       "12.000000       1142\n",
       "8.000000        1138\n",
       "104.000000      1008\n",
       "40.000000        959\n",
       "588.000000       884\n",
       "34.000000        883\n",
       "2.000000         844\n",
       "32.000000        843\n",
       "134.000000       721\n",
       "30.000000        654\n",
       "24.000000        611\n",
       "               ...  \n",
       "445.000000        30\n",
       "438.000000        28\n",
       "75.000000         25\n",
       "490.000000        21\n",
       "591.000000        20\n",
       "833.000000        20\n",
       "89.000000         18\n",
       "678.000000        18\n",
       "456.000000        17\n",
       "227.000000        17\n",
       "258.000000        16\n",
       "108.000000        15\n",
       "140.000000        11\n",
       "44.000000         10\n",
       "971.000000         9\n",
       "144.000000         8\n",
       "74.000000          8\n",
       "48.000000          7\n",
       "52.000000          5\n",
       "45.000000          5\n",
       "114.000000         4\n",
       "58.000000          3\n",
       "39.000000          3\n",
       "192.000000         3\n",
       "318.000000         3\n",
       "129.000000         2\n",
       "56.000000          2\n",
       "186.000000         2\n",
       "1206.000000        1\n",
       "1517.000000        1\n",
       "Name: cnt_otherfixtures, Length: 121, dtype: int64"
      ]
     },
     "execution_count": 88,
     "metadata": {},
     "output_type": "execute_result"
    }
   ],
   "source": [
    "df['cnt_otherfixtures'].value_counts()"
   ]
  },
  {
   "cell_type": "markdown",
   "metadata": {},
   "source": [
    "Since the count of other fixtures is widely varying, grouping them based on count into 4 main bins for ease in modeling"
   ]
  },
  {
   "cell_type": "code",
   "execution_count": 89,
   "metadata": {
    "collapsed": true
   },
   "outputs": [],
   "source": [
    "df['cnt_otherfixtures'] = np.where(df['cnt_otherfixtures'].gt(-1) & df['cnt_otherfixtures'].lt(51) , 50 ,df['cnt_otherfixtures'])\n",
    "df['cnt_otherfixtures'] = np.where(df['cnt_otherfixtures'].gt(51) & df['cnt_otherfixtures'].lt(99) , 79 ,df['cnt_otherfixtures'])\n",
    "df['cnt_otherfixtures'] = np.where(df['cnt_otherfixtures'].gt(100) & df['cnt_otherfixtures'].lt(5000) , 500 ,df['cnt_otherfixtures'])"
   ]
  },
  {
   "cell_type": "code",
   "execution_count": 90,
   "metadata": {},
   "outputs": [
    {
     "data": {
      "text/plain": [
       "<matplotlib.axes._subplots.AxesSubplot at 0x14f965f1780>"
      ]
     },
     "execution_count": 90,
     "metadata": {},
     "output_type": "execute_result"
    },
    {
     "data": {
      "image/png": "[encoded data removed]",
      "text/plain": [
       "<matplotlib.figure.Figure at 0x14fbea977b8>"
      ]
     },
     "metadata": {},
     "output_type": "display_data"
    }
   ],
   "source": [
    "sns.distplot(df['cnt_otherfixtures'])"
   ]
  },
  {
   "cell_type": "code",
   "execution_count": 91,
   "metadata": {},
   "outputs": [
    {
     "data": {
      "text/plain": [
       "50.0     43415\n",
       "500.0    31260\n",
       "99.0     20040\n",
       "79.0     13386\n",
       "Name: cnt_otherfixtures, dtype: int64"
      ]
     },
     "execution_count": 91,
     "metadata": {},
     "output_type": "execute_result"
    }
   ],
   "source": [
    "df['cnt_otherfixtures'].value_counts()"
   ]
  },
  {
   "cell_type": "markdown",
   "metadata": {},
   "source": [
    "### Nbr_Stories"
   ]
  },
  {
   "cell_type": "code",
   "execution_count": 92,
   "metadata": {},
   "outputs": [
    {
     "data": {
      "text/plain": [
       "1     54553\n",
       "0     30910\n",
       "2      8123\n",
       "3      3923\n",
       "6      2381\n",
       "5      1318\n",
       "4      1264\n",
       "8       824\n",
       "10      683\n",
       "12      497\n",
       "27      459\n",
       "7       447\n",
       "19      395\n",
       "13      377\n",
       "11      342\n",
       "20      234\n",
       "41      225\n",
       "22      162\n",
       "33      159\n",
       "51      150\n",
       "16      140\n",
       "35      112\n",
       "14      108\n",
       "15       78\n",
       "31       74\n",
       "17       51\n",
       "37       51\n",
       "40       32\n",
       "25       28\n",
       "9         1\n",
       "Name: nbrstories, dtype: int64"
      ]
     },
     "execution_count": 92,
     "metadata": {},
     "output_type": "execute_result"
    }
   ],
   "source": [
    "df['nbrstories'].value_counts()"
   ]
  },
  {
   "cell_type": "code",
   "execution_count": 93,
   "metadata": {
    "collapsed": true
   },
   "outputs": [],
   "source": [
    "# Apart from 0 and 1, other number of stories are minimal, combine all together\n",
    "df['nbrstories'] = np.where(df['nbrstories'].gt(1) , 2 ,df['nbrstories'])"
   ]
  },
  {
   "cell_type": "markdown",
   "metadata": {},
   "source": [
    "### Occupancy Load"
   ]
  },
  {
   "cell_type": "code",
   "execution_count": 94,
   "metadata": {},
   "outputs": [
    {
     "data": {
      "text/plain": [
       "10      17421\n",
       "1       13893\n",
       "20       7673\n",
       "50       6360\n",
       "0        5995\n",
       "300      4338\n",
       "65       4187\n",
       "9        3502\n",
       "5        3448\n",
       "15       3155\n",
       "49       3028\n",
       "2        2117\n",
       "100      2103\n",
       "30       2062\n",
       "2000     2054\n",
       "200      1907\n",
       "40       1592\n",
       "25       1355\n",
       "5000     1099\n",
       "1500      958\n",
       "99        863\n",
       "45        821\n",
       "4         813\n",
       "60        742\n",
       "500       741\n",
       "1200      651\n",
       "400       601\n",
       "150       572\n",
       "35        526\n",
       "3         500\n",
       "        ...  \n",
       "2800        5\n",
       "720         5\n",
       "119         5\n",
       "632         4\n",
       "110         4\n",
       "148         3\n",
       "257         3\n",
       "62          3\n",
       "38          3\n",
       "138         3\n",
       "51          3\n",
       "235         3\n",
       "133         3\n",
       "538         3\n",
       "360         2\n",
       "1162        2\n",
       "550         2\n",
       "337         2\n",
       "225         2\n",
       "101         2\n",
       "103         2\n",
       "58          1\n",
       "108         1\n",
       "345         1\n",
       "172         1\n",
       "294         1\n",
       "317         1\n",
       "102         1\n",
       "109         1\n",
       "170         1\n",
       "Name: occupancyload, Length: 235, dtype: int64"
      ]
     },
     "execution_count": 94,
     "metadata": {},
     "output_type": "execute_result"
    }
   ],
   "source": [
    "df['occupancyload'].value_counts()"
   ]
  },
  {
   "cell_type": "code",
   "execution_count": 95,
   "metadata": {
    "collapsed": true
   },
   "outputs": [],
   "source": [
    "# Since the occupancy load feature is widely varying, grouping based on count into 4 main bins for ease in modeling\n",
    "df['occupancyload'] = np.where(df['occupancyload'].gt(500) , 500 ,df['occupancyload'])\n",
    "df['occupancyload'] = np.where(df['occupancyload'].gt(200) , 200 ,df['occupancyload'])\n",
    "df['occupancyload'] = np.where(df['occupancyload'].gt(-1) & df['occupancyload'].lt(10) , 5 ,df['occupancyload'])\n",
    "df['occupancyload'] = np.where(df['occupancyload'].gt(21) & df['occupancyload'].lt(49) , 21 ,df['occupancyload'])\n",
    "df['occupancyload'] = np.where(df['occupancyload'].gt(49) & df['occupancyload'].lt(200) , 130 ,df['occupancyload'])\n",
    "values = ([17,18,19,11,13,14,16,12,49,15,20,21])\n",
    "df['occupancyload'] = np.where(df['occupancyload'].isin(values), 20 ,df['occupancyload'])"
   ]
  },
  {
   "cell_type": "code",
   "execution_count": 96,
   "metadata": {},
   "outputs": [
    {
     "data": {
      "text/plain": [
       "<matplotlib.axes._subplots.AxesSubplot at 0x14f965e46a0>"
      ]
     },
     "execution_count": 96,
     "metadata": {},
     "output_type": "execute_result"
    },
    {
     "data": {
      "image/png": "[encoded data removed]",
      "text/plain": [
       "<matplotlib.figure.Figure at 0x14f965f16d8>"
      ]
     },
     "metadata": {},
     "output_type": "display_data"
    }
   ],
   "source": [
    "# Distribution plot for occupancy load\n",
    "sns.distplot(df.occupancyload)"
   ]
  },
  {
   "cell_type": "markdown",
   "metadata": {},
   "source": [
    "Assigned Fequency, Alarm and Bedrooms are converted to object types for categorical modeling"
   ]
  },
  {
   "cell_type": "code",
   "execution_count": 97,
   "metadata": {},
   "outputs": [
    {
     "data": {
      "text/plain": [
       "2        None\n",
       "5        None\n",
       "6        None\n",
       "7        None\n",
       "8        None\n",
       "9        None\n",
       "10       None\n",
       "23       None\n",
       "24       None\n",
       "25       None\n",
       "26       None\n",
       "27       None\n",
       "31       None\n",
       "32       None\n",
       "33       None\n",
       "34       None\n",
       "35       None\n",
       "36       None\n",
       "37       None\n",
       "38       None\n",
       "50       None\n",
       "51       None\n",
       "52       None\n",
       "53       None\n",
       "54       None\n",
       "276      None\n",
       "277      None\n",
       "282      None\n",
       "283      None\n",
       "284      None\n",
       "         ... \n",
       "19076    None\n",
       "19077    None\n",
       "19078    None\n",
       "19079    None\n",
       "19080    None\n",
       "19081    None\n",
       "19082    None\n",
       "19083    None\n",
       "19084    None\n",
       "19085    None\n",
       "19086    None\n",
       "19087    None\n",
       "19088    None\n",
       "19089    None\n",
       "19090    None\n",
       "19091    None\n",
       "19092    None\n",
       "19093    None\n",
       "19094    None\n",
       "19095    None\n",
       "19096    None\n",
       "19097    None\n",
       "19098    None\n",
       "19099    None\n",
       "19100    None\n",
       "19101    None\n",
       "19102    None\n",
       "19103    None\n",
       "19104    None\n",
       "19105    None\n",
       "Name: bedrooms, Length: 108101, dtype: object"
      ]
     },
     "execution_count": 97,
     "metadata": {},
     "output_type": "execute_result"
    }
   ],
   "source": [
    "df['assignedfrequency'].astype('object')\n",
    "df['alarm'].astype('object')\n",
    "df['bedrooms'].astype('object')"
   ]
  },
  {
   "cell_type": "markdown",
   "metadata": {},
   "source": [
    "### Fire Load"
   ]
  },
  {
   "cell_type": "code",
   "execution_count": 98,
   "metadata": {},
   "outputs": [
    {
     "data": {
      "text/plain": [
       "2    51997\n",
       "0    42880\n",
       "1    11470\n",
       "3     1641\n",
       "4      113\n",
       "Name: fireload, dtype: int64"
      ]
     },
     "execution_count": 98,
     "metadata": {},
     "output_type": "execute_result"
    }
   ],
   "source": [
    "df['fireload'].value_counts()"
   ]
  },
  {
   "cell_type": "code",
   "execution_count": 99,
   "metadata": {
    "collapsed": true
   },
   "outputs": [],
   "source": [
    "values = ([1,3,4])\n",
    "df['fireload'] = np.where(df['fireload'].isin(values) , 1 ,df['fireload'])\n",
    "\n",
    "df.replace({\"fireload\":{0:\"Zero\",1:\"One\",2:\"Two\"}}, inplace=True)"
   ]
  },
  {
   "cell_type": "code",
   "execution_count": 100,
   "metadata": {},
   "outputs": [
    {
     "data": {
      "text/plain": [
       "<matplotlib.axes._subplots.AxesSubplot at 0x14f965bc908>"
      ]
     },
     "execution_count": 100,
     "metadata": {},
     "output_type": "execute_result"
    },
    {
     "data": {
      "image/png": "[encoded data removed]",
      "text/plain": [
       "<matplotlib.figure.Figure at 0x14f965d5400>"
      ]
     },
     "metadata": {},
     "output_type": "display_data"
    }
   ],
   "source": [
    "df['fireload'] = df.fireload.astype(object)\n",
    "sns.countplot(df['fireload'])"
   ]
  },
  {
   "cell_type": "markdown",
   "metadata": {},
   "source": [
    "### Units"
   ]
  },
  {
   "cell_type": "code",
   "execution_count": 101,
   "metadata": {},
   "outputs": [
    {
     "data": {
      "text/plain": [
       "1      53849\n",
       "0      37523\n",
       "700     4275\n",
       "374     2748\n",
       "438     2595\n",
       "170      884\n",
       "4        770\n",
       "42       721\n",
       "8        462\n",
       "336      350\n",
       "154      327\n",
       "175      325\n",
       "181      324\n",
       "150      308\n",
       "90       278\n",
       "274      255\n",
       "82       248\n",
       "60       247\n",
       "104      192\n",
       "76       172\n",
       "141      148\n",
       "10       118\n",
       "80        99\n",
       "54        85\n",
       "40        66\n",
       "22        61\n",
       "45        60\n",
       "5         57\n",
       "24        53\n",
       "72        46\n",
       "18        45\n",
       "32        42\n",
       "120       36\n",
       "192       31\n",
       "142       30\n",
       "133       29\n",
       "145       28\n",
       "13        28\n",
       "6         28\n",
       "12        27\n",
       "86        21\n",
       "100       21\n",
       "197       20\n",
       "163       18\n",
       "152       17\n",
       "16         9\n",
       "237        9\n",
       "7          6\n",
       "30         4\n",
       "15         2\n",
       "2          2\n",
       "62         2\n",
       "Name: units, dtype: int64"
      ]
     },
     "execution_count": 101,
     "metadata": {},
     "output_type": "execute_result"
    }
   ],
   "source": [
    "df['units'].value_counts() "
   ]
  },
  {
   "cell_type": "markdown",
   "metadata": {},
   "source": [
    "Units greater than one are marked as 2, and overall becomes 3 categories of units"
   ]
  },
  {
   "cell_type": "code",
   "execution_count": 102,
   "metadata": {
    "scrolled": true
   },
   "outputs": [
    {
     "data": {
      "text/plain": [
       "<matplotlib.axes._subplots.AxesSubplot at 0x14f965d5d68>"
      ]
     },
     "execution_count": 102,
     "metadata": {},
     "output_type": "execute_result"
    },
    {
     "data": {
      "image/png": "[encoded data removed]",
      "text/plain": [
       "<matplotlib.figure.Figure at 0x14f965eb9e8>"
      ]
     },
     "metadata": {},
     "output_type": "display_data"
    }
   ],
   "source": [
    "df['units'] = np.where(df['units'].gt(1), 2 ,df['units'])\n",
    "\n",
    "# Plot the number of units as histogram\n",
    "sns.countplot(df['units'])"
   ]
  },
  {
   "cell_type": "markdown",
   "metadata": {},
   "source": [
    "### Assign Fire Values"
   ]
  },
  {
   "cell_type": "markdown",
   "metadata": {},
   "source": [
    "#### Any row with incident type as \"100 Fire\" is marked as 1 - for the newly created feature \"Fire\", Else it is marked as \"0 - No Fire\". This will be used as the decision variable in further modeling to identify if a building had previous fire history or not."
   ]
  },
  {
   "cell_type": "code",
   "execution_count": 103,
   "metadata": {
    "collapsed": true
   },
   "outputs": [],
   "source": [
    "df['fire'] = np.where(df[\"incidenttype_rm\"].str.contains(\"100 Fire\"),1,0)"
   ]
  },
  {
   "cell_type": "code",
   "execution_count": 104,
   "metadata": {
    "scrolled": true
   },
   "outputs": [
    {
     "data": {
      "text/plain": [
       "0    82499\n",
       "1    25602\n",
       "Name: fire, dtype: int64"
      ]
     },
     "execution_count": 104,
     "metadata": {},
     "output_type": "execute_result"
    }
   ],
   "source": [
    "df['fire'].value_counts()"
   ]
  },
  {
   "cell_type": "code",
   "execution_count": 105,
   "metadata": {},
   "outputs": [
    {
     "data": {
      "image/png": "[encoded data removed]",
      "text/plain": [
       "<matplotlib.figure.Figure at 0x14f965a6be0>"
      ]
     },
     "metadata": {},
     "output_type": "display_data"
    }
   ],
   "source": [
    "df.fire.value_counts().plot(x=None,y=None, kind='pie', autopct='%1.2f%%')\n",
    "plt.title(\"Pie Distribution of Fires and Non Fires\")\n",
    "plt.show()"
   ]
  },
  {
   "cell_type": "code",
   "execution_count": 106,
   "metadata": {
    "scrolled": false
   },
   "outputs": [
    {
     "name": "stdout",
     "output_type": "stream",
     "text": [
      "<class 'pandas.core.frame.DataFrame'>\n",
      "Int64Index: 108101 entries, 2 to 19105\n",
      "Data columns (total 61 columns):\n",
      "aheatingty               108101 non-null object\n",
      "alarm                    108101 non-null object\n",
      "amt_netbldgvalue         108101 non-null float64\n",
      "assignedfrequency        108101 non-null object\n",
      "bedrooms                 108101 non-null object\n",
      "bldggrade_desc           108101 non-null object\n",
      "bldgheight               108101 non-null int64\n",
      "bldglen                  108101 non-null int64\n",
      "bldgwidth                108101 non-null int64\n",
      "cnt_otherfixtures        108101 non-null float64\n",
      "cnt_units                108101 non-null float64\n",
      "extwall                  108101 non-null object\n",
      "fire704                  108101 non-null int64\n",
      "fireload                 108101 non-null object\n",
      "firestation              108101 non-null int64\n",
      "floorcrowedind           108101 non-null int64\n",
      "floorhighpileind         108101 non-null int64\n",
      "flooropenpitind          108101 non-null int64\n",
      "floorunsafeind           108101 non-null int64\n",
      "foundation_desc          108101 non-null object\n",
      "fullbaths                108101 non-null int64\n",
      "fullstreet               108101 non-null object\n",
      "grossarea                108101 non-null float64\n",
      "halfbaths                108101 non-null int64\n",
      "hall                     108101 non-null int64\n",
      "hazmatind                108101 non-null int64\n",
      "health704                108101 non-null int64\n",
      "heatedarea               108101 non-null float64\n",
      "heatedfuel               108101 non-null object\n",
      "highrisk                 108101 non-null int64\n",
      "incdate                  108101 non-null object\n",
      "incend                   108101 non-null object\n",
      "incidenttype_rm          108101 non-null object\n",
      "inspectabl               108101 non-null int64\n",
      "lockbox                  108101 non-null int64\n",
      "nbrbuildings             108101 non-null int64\n",
      "nbrofsprinklersystems    108101 non-null int64\n",
      "nbrstories               108101 non-null int64\n",
      "nfpapropuse              108101 non-null int64\n",
      "num_street               108101 non-null int64\n",
      "numfirepla               108101 non-null int64\n",
      "occupancyload            108101 non-null int64\n",
      "propertyuse_desc         108101 non-null object\n",
      "react704                 108101 non-null int64\n",
      "roofbarjoistind          108101 non-null int64\n",
      "roofsteelind             108101 non-null int64\n",
      "roofunsafeind            108101 non-null int64\n",
      "roofwoodind              108101 non-null int64\n",
      "rootconcreteind          108101 non-null int64\n",
      "sprinkleredbuilding      108101 non-null int64\n",
      "stairwayopenind          108101 non-null int64\n",
      "storyheight              108101 non-null object\n",
      "taxspecdis               108101 non-null object\n",
      "taxsqft                  108101 non-null int64\n",
      "units                    108101 non-null int64\n",
      "vitalfacility            108101 non-null int64\n",
      "wallcrackedind           108101 non-null int64\n",
      "wallunsafeind            108101 non-null int64\n",
      "vacorimp                 108101 non-null int64\n",
      "building_age             108101 non-null int64\n",
      "fire                     108101 non-null int32\n",
      "dtypes: float64(5), int32(1), int64(39), object(16)\n",
      "memory usage: 55.7+ MB\n"
     ]
    }
   ],
   "source": [
    "df.info()"
   ]
  },
  {
   "cell_type": "markdown",
   "metadata": {},
   "source": [
    "### Check Correlation"
   ]
  },
  {
   "cell_type": "markdown",
   "metadata": {},
   "source": [
    "#### In regression, \"multicollinearity\" refers to predictors that are correlated with other predictors.  Multicollinearity occurs when the model includes multiple factors that are correlated not just to response variable, but also to each other. In other words, it results when the model has factors that are a bit redundant. Multicollinearity increases the standard errors of the coefficients. Increased standard errors in turn means that coefficients for some independent variables may be found not to be significantly different from 0. In other words, by overinflating the standard errors, multicollinearity makes some variables statistically insignificant when they should be significant."
   ]
  },
  {
   "cell_type": "code",
   "execution_count": 107,
   "metadata": {
    "scrolled": false
   },
   "outputs": [
    {
     "data": {
      "text/plain": [
       "<matplotlib.axes._subplots.AxesSubplot at 0x14f965b30b8>"
      ]
     },
     "execution_count": 107,
     "metadata": {},
     "output_type": "execute_result"
    },
    {
     "data": {
      "image/png": "[encoded data removed]",
      "text/plain": [
       "<matplotlib.figure.Figure at 0x14f965bb2b0>"
      ]
     },
     "metadata": {},
     "output_type": "display_data"
    }
   ],
   "source": [
    "# Calculate correlations\n",
    "corrMatt = df.corr()\n",
    "mask = np.array(corrMatt)\n",
    "mask[np.tril_indices_from(mask)] = False\n",
    "fig,ax= plt.subplots()\n",
    "fig.set_size_inches(20,8)\n",
    "sns.heatmap(corrMatt, mask=mask,vmax=0.9, square=True)"
   ]
  },
  {
   "cell_type": "markdown",
   "metadata": {},
   "source": [
    "The above heat map will indicate variables which are highly correlated with each other. The x and y axis contains features in the model and the bar on right corner denotes the collinearity value. As a general norm, anything about 0.70 is to be removed for better accuracy scores in the model. Based on this idea, some features which are redundant are removed from the model before further processing."
   ]
  },
  {
   "cell_type": "code",
   "execution_count": 108,
   "metadata": {
    "collapsed": true
   },
   "outputs": [],
   "source": [
    "df.drop(['incidenttype_rm','bldgheight','bldglen','bldgwidth','firestation','hall','nfpapropuse','incend',\n",
    "               'amt_netbldgvalue','heatedarea','cnt_units'],axis = 1, inplace = True)"
   ]
  },
  {
   "cell_type": "markdown",
   "metadata": {},
   "source": [
    "### Get dummy values"
   ]
  },
  {
   "cell_type": "markdown",
   "metadata": {},
   "source": [
    "Dummy coding allows to turn categories into something a regression can treat as having a high (1) and low (0) score. Any binary variable can be thought of as having directionality, because if it is higher, it is category 1, but if it is lower, it is category 0. This allows the regression look at directionality by comparing two sides, rather than expecting each unit to correspond with some kind of increase. "
   ]
  },
  {
   "cell_type": "code",
   "execution_count": 109,
   "metadata": {
    "collapsed": true
   },
   "outputs": [],
   "source": [
    "dfdumm = pd.get_dummies(df, columns=[\"aheatingty\",\"alarm\",\"assignedfrequency\",\"bedrooms\",\"bldggrade_desc\",\"fireload\",\"foundation_desc\",\n",
    "                                     \"heatedfuel\",\"propertyuse_desc\",\"storyheight\",\"taxspecdis\",\"extwall\"],\n",
    "                      prefix=[\"heat\",\"alrm\",\"freq\",\"bedr\",\"bldg\",\"fload\",\"foundn\",\"heatfuel\",\n",
    "                              \"propuse\",\"storyh\",\"taxdis\",\"wall\"])"
   ]
  },
  {
   "cell_type": "code",
   "execution_count": 110,
   "metadata": {},
   "outputs": [
    {
     "name": "stdout",
     "output_type": "stream",
     "text": [
      "<class 'pandas.core.frame.DataFrame'>\n",
      "Int64Index: 108101 entries, 2 to 19105\n",
      "Data columns (total 84 columns):\n",
      "cnt_otherfixtures             108101 non-null float64\n",
      "fire704                       108101 non-null int64\n",
      "floorcrowedind                108101 non-null int64\n",
      "floorhighpileind              108101 non-null int64\n",
      "flooropenpitind               108101 non-null int64\n",
      "floorunsafeind                108101 non-null int64\n",
      "fullbaths                     108101 non-null int64\n",
      "fullstreet                    108101 non-null object\n",
      "grossarea                     108101 non-null float64\n",
      "halfbaths                     108101 non-null int64\n",
      "hazmatind                     108101 non-null int64\n",
      "health704                     108101 non-null int64\n",
      "highrisk                      108101 non-null int64\n",
      "incdate                       108101 non-null object\n",
      "inspectabl                    108101 non-null int64\n",
      "lockbox                       108101 non-null int64\n",
      "nbrbuildings                  108101 non-null int64\n",
      "nbrofsprinklersystems         108101 non-null int64\n",
      "nbrstories                    108101 non-null int64\n",
      "num_street                    108101 non-null int64\n",
      "numfirepla                    108101 non-null int64\n",
      "occupancyload                 108101 non-null int64\n",
      "react704                      108101 non-null int64\n",
      "roofbarjoistind               108101 non-null int64\n",
      "roofsteelind                  108101 non-null int64\n",
      "roofunsafeind                 108101 non-null int64\n",
      "roofwoodind                   108101 non-null int64\n",
      "rootconcreteind               108101 non-null int64\n",
      "sprinkleredbuilding           108101 non-null int64\n",
      "stairwayopenind               108101 non-null int64\n",
      "taxsqft                       108101 non-null int64\n",
      "units                         108101 non-null int64\n",
      "vitalfacility                 108101 non-null int64\n",
      "wallcrackedind                108101 non-null int64\n",
      "wallunsafeind                 108101 non-null int64\n",
      "vacorimp                      108101 non-null int64\n",
      "building_age                  108101 non-null int64\n",
      "fire                          108101 non-null int32\n",
      "heat_AC-PCKD ROOF             108101 non-null uint8\n",
      "heat_AIR-DUCTED               108101 non-null uint8\n",
      "heat_HEAT MISC                108101 non-null uint8\n",
      "alrm_Four Alarms              108101 non-null uint8\n",
      "alrm_Misc                     108101 non-null uint8\n",
      "alrm_No Alarm                 108101 non-null uint8\n",
      "freq_Others                   108101 non-null uint8\n",
      "freq_Three Yearly             108101 non-null uint8\n",
      "freq_Yearly                   108101 non-null uint8\n",
      "bedr_None                     108101 non-null uint8\n",
      "bedr_One or more              108101 non-null uint8\n",
      "bldg_AVERAGE                  108101 non-null uint8\n",
      "bldg_CUSTOM                   108101 non-null uint8\n",
      "bldg_EXCELLENT                108101 non-null uint8\n",
      "bldg_GOOD                     108101 non-null uint8\n",
      "bldg_VERY GOOD                108101 non-null uint8\n",
      "fload_One                     108101 non-null uint8\n",
      "fload_Two                     108101 non-null uint8\n",
      "fload_Zero                    108101 non-null uint8\n",
      "foundn_HIGH RISE              108101 non-null uint8\n",
      "foundn_SLAB-COM               108101 non-null uint8\n",
      "foundn_SLAB-OTHERS            108101 non-null uint8\n",
      "foundn_SLAB-RES               108101 non-null uint8\n",
      "heatfuel_ELECTRIC             108101 non-null uint8\n",
      "heatfuel_GAS                  108101 non-null uint8\n",
      "heatfuel_NONE                 108101 non-null uint8\n",
      "heatfuel_OIL/WD/COAL          108101 non-null uint8\n",
      "propuse_Commercial            108101 non-null uint8\n",
      "propuse_Govt-Inst             108101 non-null uint8\n",
      "propuse_Hotel/Motel           108101 non-null uint8\n",
      "propuse_Office                108101 non-null uint8\n",
      "propuse_Residential           108101 non-null uint8\n",
      "propuse_Warehouse             108101 non-null uint8\n",
      "storyh_1 STORY                108101 non-null uint8\n",
      "storyh_2.0 STORY              108101 non-null uint8\n",
      "storyh_>= 2.5 STY             108101 non-null uint8\n",
      "taxdis_DOWNTOWN DISTRICT      108101 non-null uint8\n",
      "taxdis_DOWNTOWN DISTRICT 2    108101 non-null uint8\n",
      "taxdis_DOWNTOWN DISTRICT 3    108101 non-null uint8\n",
      "taxdis_UNKNOWN                108101 non-null uint8\n",
      "wall_CONC/OTHERS              108101 non-null uint8\n",
      "wall_FACE BRICK               108101 non-null uint8\n",
      "wall_GLASS/STONE              108101 non-null uint8\n",
      "wall_PRECAST PANL             108101 non-null uint8\n",
      "wall_SDG MIN/NONE             108101 non-null uint8\n",
      "wall_UNKNOWN                  108101 non-null uint8\n",
      "dtypes: float64(2), int32(1), int64(33), object(2), uint8(46)\n",
      "memory usage: 41.5+ MB\n"
     ]
    }
   ],
   "source": [
    "dfdumm.info()"
   ]
  },
  {
   "cell_type": "code",
   "execution_count": 111,
   "metadata": {},
   "outputs": [
    {
     "data": {
      "text/plain": [
       "hazmatind             fire704                 0.874110\n",
       "health704             fire704                 0.706460\n",
       "                      hazmatind               0.759875\n",
       "react704              health704               0.784680\n",
       "alrm_No Alarm         sprinkleredbuilding    -0.825670\n",
       "freq_Others           inspectabl             -0.808450\n",
       "bedr_One or more      bedr_None              -1.000000\n",
       "bldg_CUSTOM           heat_AC-PCKD ROOF       0.755574\n",
       "fload_Zero            fload_Two              -0.780595\n",
       "foundn_HIGH RISE      grossarea               0.706186\n",
       "heatfuel_NONE         heat_HEAT MISC          0.780993\n",
       "                      foundn_SLAB-RES         0.825558\n",
       "heatfuel_OIL/WD/COAL  heat_AC-PCKD ROOF       0.858687\n",
       "storyh_>= 2.5 STY     foundn_HIGH RISE        0.812174\n",
       "wall_UNKNOWN          heat_AC-PCKD ROOF       0.719853\n",
       "                      bldg_CUSTOM             0.774582\n",
       "                      heatfuel_OIL/WD/COAL    0.828750\n",
       "                      storyh_2.0 STORY        0.793200\n",
       "dtype: float64"
      ]
     },
     "execution_count": 111,
     "metadata": {},
     "output_type": "execute_result"
    }
   ],
   "source": [
    "# Check for multicollinearity using correlation values\n",
    "cor = dfdumm.corr()\n",
    "cor.loc[:,:] = np.tril(cor, k=-1) # below main lower triangle of an array\n",
    "cor = cor.stack()\n",
    "cor[(cor > 0.70) | (cor < -0.70)]"
   ]
  },
  {
   "cell_type": "markdown",
   "metadata": {},
   "source": [
    "The above code validates correlation between variables once again in the model and anything greater than 70% is dropped off from further processing."
   ]
  },
  {
   "cell_type": "code",
   "execution_count": 112,
   "metadata": {
    "collapsed": true
   },
   "outputs": [],
   "source": [
    "dfdumm.drop(['grossarea','hazmatind','alrm_No Alarm','bedr_One or more','bedr_None',\n",
    "       'heatfuel_OIL/WD/COAL','heatfuel_NONE','propuse_Hotel/Motel','react704','freq_Others',\n",
    "        'bldg_CUSTOM','fload_Zero','foundn_HIGH RISE','storyh_2.0 STORY',\n",
    "       'storyh_>= 2.5 STY','health704','fire704','wall_UNKNOWN'],\n",
    "       axis = 1, inplace = True)"
   ]
  },
  {
   "cell_type": "markdown",
   "metadata": {},
   "source": [
    "Plotting heat map once again to verify if the data looks good for final split up before modeling"
   ]
  },
  {
   "cell_type": "code",
   "execution_count": 113,
   "metadata": {
    "scrolled": true
   },
   "outputs": [
    {
     "data": {
      "text/plain": [
       "<matplotlib.axes._subplots.AxesSubplot at 0x14f9655f8d0>"
      ]
     },
     "execution_count": 113,
     "metadata": {},
     "output_type": "execute_result"
    },
    {
     "data": {
      "image/png": "[encoded data removed]",
      "text/plain": [
       "<matplotlib.figure.Figure at 0x14f965a5240>"
      ]
     },
     "metadata": {},
     "output_type": "display_data"
    }
   ],
   "source": [
    "# Calculate correlations and plot heatmap\n",
    "corrMatt = dfdumm.corr()\n",
    "mask = np.array(corrMatt)\n",
    "mask[np.tril_indices_from(mask)] = False\n",
    "fig,ax= plt.subplots()\n",
    "fig.set_size_inches(20,10)\n",
    "sns.heatmap(corrMatt, mask=mask,vmax=0.9, square=True)"
   ]
  },
  {
   "cell_type": "markdown",
   "metadata": {},
   "source": [
    "#### The below 5 lines of code can be used if test / train split has to be done using arbitrary split and not based on time (months/years). A 75%, 25% split would allot 75% as training data and 25% as test data arbitrarily. However, it is important to verify balanced weight for target variable - Fire (0/1) in both training and test sets. Sometimes the splits yielded all non fire values in the test set which is not favorable to use in a model."
   ]
  },
  {
   "cell_type": "raw",
   "metadata": {},
   "source": [
    "# Separate fire to make it the dependent variable for further modeling\n",
    "X = dfdumm.drop(\"fire\", axis=1, inplace = False)\n",
    "Y = dfdumm['fire']"
   ]
  },
  {
   "cell_type": "raw",
   "metadata": {},
   "source": [
    "### Verify Correlations again"
   ]
  },
  {
   "cell_type": "raw",
   "metadata": {},
   "source": [
    "# Check for multicollinearity using correlation values\n",
    "cor = X.corr()\n",
    "cor.loc[:,:] = np.tril(cor, k=-1) # below main lower triangle of an array\n",
    "cor = cor.stack()\n",
    "cor[(cor > 0.70) | (cor < -0.70)]"
   ]
  },
  {
   "cell_type": "raw",
   "metadata": {},
   "source": [
    "X.drop(['grossarea','hazmatind','alrm_No Alarm','bedr_One or more','bedr_None',\n",
    "       'heatfuel_OIL/WD/COAL','heatfuel_NONE','propuse_Hotel/Motel','react704','freq_Others',\n",
    "        'bldg_CUSTOM','fload_Zero','wall_UNKNOWN','foundn_HIGH RISE','storyh_2.0 STORY',\n",
    "       'storyh_>= 2.5 STY','health704','fire704'],\n",
    "       axis = 1, inplace = True)"
   ]
  },
  {
   "cell_type": "raw",
   "metadata": {},
   "source": [
    "### Split into test and train"
   ]
  },
  {
   "cell_type": "raw",
   "metadata": {
    "collapsed": true
   },
   "source": [
    "# Splitting the data into training and testing - 75% and 25%\n",
    "from sklearn.model_selection import train_test_split\n",
    "x_train, x_test, y_train, y_test = train_test_split(X, Y, test_size=.25, random_state=1523)"
   ]
  },
  {
   "cell_type": "markdown",
   "metadata": {},
   "source": [
    "### Divide into training and test data"
   ]
  },
  {
   "cell_type": "markdown",
   "metadata": {},
   "source": [
    "Since the predictor variable is less in number (about 25%), compared to other category, training and test split is being carried out based on time periods. A cut off date is chosen and any incident beyond that falls into test category and any incident which had occurred before that time period is a training category. Initially 12 months was chosen as cut off date and the class imbalance of No Fire data was too vast for the model to handle. And after multiple iterations of months, the number 36 was chosen for cut off date and the date was fixed as '2015-05-07'."
   ]
  },
  {
   "cell_type": "code",
   "execution_count": 116,
   "metadata": {},
   "outputs": [
    {
     "data": {
      "text/plain": [
       "'2015-05-07 22:36:02'"
      ]
     },
     "execution_count": 116,
     "metadata": {},
     "output_type": "execute_result"
    }
   ],
   "source": [
    "from dateutil.relativedelta import relativedelta\n",
    "cutoff = datetime.now() - relativedelta(months=36)\n",
    "cutoffdate = cutoff.strftime(\"%Y-%m-%d %H:%M:%S\")\n",
    "\n",
    "cutoffdate\n",
    "\n",
    "#np.where((dfdumm[\"incdate\"].str.contains(\"2018\"))& (dfdumm['fire'] == 0))"
   ]
  },
  {
   "cell_type": "code",
   "execution_count": 117,
   "metadata": {
    "collapsed": true
   },
   "outputs": [],
   "source": [
    "testdata = dfdumm[dfdumm['incdate'] > cutoffdate]\n",
    "\n",
    "traindata = dfdumm[dfdumm['incdate'] <= cutoffdate]"
   ]
  },
  {
   "cell_type": "code",
   "execution_count": 118,
   "metadata": {},
   "outputs": [
    {
     "name": "stdout",
     "output_type": "stream",
     "text": [
      "<class 'pandas.core.frame.DataFrame'>\n",
      "Int64Index: 63901 entries, 5 to 19105\n",
      "Data columns (total 66 columns):\n",
      "cnt_otherfixtures             63901 non-null float64\n",
      "floorcrowedind                63901 non-null int64\n",
      "floorhighpileind              63901 non-null int64\n",
      "flooropenpitind               63901 non-null int64\n",
      "floorunsafeind                63901 non-null int64\n",
      "fullbaths                     63901 non-null int64\n",
      "fullstreet                    63901 non-null object\n",
      "halfbaths                     63901 non-null int64\n",
      "highrisk                      63901 non-null int64\n",
      "incdate                       63901 non-null object\n",
      "inspectabl                    63901 non-null int64\n",
      "lockbox                       63901 non-null int64\n",
      "nbrbuildings                  63901 non-null int64\n",
      "nbrofsprinklersystems         63901 non-null int64\n",
      "nbrstories                    63901 non-null int64\n",
      "num_street                    63901 non-null int64\n",
      "numfirepla                    63901 non-null int64\n",
      "occupancyload                 63901 non-null int64\n",
      "roofbarjoistind               63901 non-null int64\n",
      "roofsteelind                  63901 non-null int64\n",
      "roofunsafeind                 63901 non-null int64\n",
      "roofwoodind                   63901 non-null int64\n",
      "rootconcreteind               63901 non-null int64\n",
      "sprinkleredbuilding           63901 non-null int64\n",
      "stairwayopenind               63901 non-null int64\n",
      "taxsqft                       63901 non-null int64\n",
      "units                         63901 non-null int64\n",
      "vitalfacility                 63901 non-null int64\n",
      "wallcrackedind                63901 non-null int64\n",
      "wallunsafeind                 63901 non-null int64\n",
      "vacorimp                      63901 non-null int64\n",
      "building_age                  63901 non-null int64\n",
      "fire                          63901 non-null int32\n",
      "heat_AC-PCKD ROOF             63901 non-null uint8\n",
      "heat_AIR-DUCTED               63901 non-null uint8\n",
      "heat_HEAT MISC                63901 non-null uint8\n",
      "alrm_Four Alarms              63901 non-null uint8\n",
      "alrm_Misc                     63901 non-null uint8\n",
      "freq_Three Yearly             63901 non-null uint8\n",
      "freq_Yearly                   63901 non-null uint8\n",
      "bldg_AVERAGE                  63901 non-null uint8\n",
      "bldg_EXCELLENT                63901 non-null uint8\n",
      "bldg_GOOD                     63901 non-null uint8\n",
      "bldg_VERY GOOD                63901 non-null uint8\n",
      "fload_One                     63901 non-null uint8\n",
      "fload_Two                     63901 non-null uint8\n",
      "foundn_SLAB-COM               63901 non-null uint8\n",
      "foundn_SLAB-OTHERS            63901 non-null uint8\n",
      "foundn_SLAB-RES               63901 non-null uint8\n",
      "heatfuel_ELECTRIC             63901 non-null uint8\n",
      "heatfuel_GAS                  63901 non-null uint8\n",
      "propuse_Commercial            63901 non-null uint8\n",
      "propuse_Govt-Inst             63901 non-null uint8\n",
      "propuse_Office                63901 non-null uint8\n",
      "propuse_Residential           63901 non-null uint8\n",
      "propuse_Warehouse             63901 non-null uint8\n",
      "storyh_1 STORY                63901 non-null uint8\n",
      "taxdis_DOWNTOWN DISTRICT      63901 non-null uint8\n",
      "taxdis_DOWNTOWN DISTRICT 2    63901 non-null uint8\n",
      "taxdis_DOWNTOWN DISTRICT 3    63901 non-null uint8\n",
      "taxdis_UNKNOWN                63901 non-null uint8\n",
      "wall_CONC/OTHERS              63901 non-null uint8\n",
      "wall_FACE BRICK               63901 non-null uint8\n",
      "wall_GLASS/STONE              63901 non-null uint8\n",
      "wall_PRECAST PANL             63901 non-null uint8\n",
      "wall_SDG MIN/NONE             63901 non-null uint8\n",
      "dtypes: float64(1), int32(1), int64(29), object(2), uint8(33)\n",
      "memory usage: 18.3+ MB\n"
     ]
    }
   ],
   "source": [
    "traindata.info()"
   ]
  },
  {
   "cell_type": "markdown",
   "metadata": {},
   "source": [
    "Once the split is done, INCDATE is no longer useful for the model and hence can be removed from the dataframe of test and training set."
   ]
  },
  {
   "cell_type": "code",
   "execution_count": 119,
   "metadata": {
    "collapsed": true
   },
   "outputs": [],
   "source": [
    "traindata.drop(['incdate'],axis = 1,inplace = True)\n",
    "testdata.drop(['incdate'],axis = 1,inplace = True)"
   ]
  },
  {
   "cell_type": "markdown",
   "metadata": {},
   "source": [
    "Divide the train and test data further to x and y variables, anything except Fire is in x_train or x_test"
   ]
  },
  {
   "cell_type": "code",
   "execution_count": 120,
   "metadata": {
    "collapsed": true
   },
   "outputs": [],
   "source": [
    "#converting to array and reshaping the data to prep for model\n",
    "fireVarTrain =traindata['fire']\n",
    "del traindata['fire']\n",
    "\n",
    "x_train = traindata\n",
    "y_train = fireVarTrain.values\n",
    "\n",
    "#converting to array and reshaping the data to prep for model\n",
    "fireVarTest = testdata['fire']\n",
    "del testdata['fire']\n",
    "\n",
    "x_test = testdata\n",
    "y_test = fireVarTest.values"
   ]
  },
  {
   "cell_type": "code",
   "execution_count": 121,
   "metadata": {},
   "outputs": [
    {
     "data": {
      "text/plain": [
       "Counter({0: 49000, 1: 14901})"
      ]
     },
     "execution_count": 121,
     "metadata": {},
     "output_type": "execute_result"
    }
   ],
   "source": [
    "# Check the count of y_train or y_test to ensure there is a reasonable split of Fire and no Fire incidents\n",
    "from collections import Counter\n",
    "Counter(y_train)"
   ]
  },
  {
   "cell_type": "code",
   "execution_count": 122,
   "metadata": {},
   "outputs": [
    {
     "name": "stdout",
     "output_type": "stream",
     "text": [
      "(63901, 64)\n",
      "(63901,)\n",
      "(44200, 64)\n",
      "(44200,)\n"
     ]
    }
   ],
   "source": [
    "print(x_train.shape)\n",
    "print(y_train.shape)\n",
    "print(x_test.shape)\n",
    "print(y_test.shape)"
   ]
  },
  {
   "cell_type": "markdown",
   "metadata": {},
   "source": [
    "!! Check train data one last time to ensure there are no categorical values !!"
   ]
  },
  {
   "cell_type": "code",
   "execution_count": 123,
   "metadata": {
    "scrolled": false
   },
   "outputs": [
    {
     "name": "stdout",
     "output_type": "stream",
     "text": [
      "<class 'pandas.core.frame.DataFrame'>\n",
      "Int64Index: 63901 entries, 5 to 19105\n",
      "Data columns (total 64 columns):\n",
      "cnt_otherfixtures             63901 non-null float64\n",
      "floorcrowedind                63901 non-null int64\n",
      "floorhighpileind              63901 non-null int64\n",
      "flooropenpitind               63901 non-null int64\n",
      "floorunsafeind                63901 non-null int64\n",
      "fullbaths                     63901 non-null int64\n",
      "fullstreet                    63901 non-null object\n",
      "halfbaths                     63901 non-null int64\n",
      "highrisk                      63901 non-null int64\n",
      "inspectabl                    63901 non-null int64\n",
      "lockbox                       63901 non-null int64\n",
      "nbrbuildings                  63901 non-null int64\n",
      "nbrofsprinklersystems         63901 non-null int64\n",
      "nbrstories                    63901 non-null int64\n",
      "num_street                    63901 non-null int64\n",
      "numfirepla                    63901 non-null int64\n",
      "occupancyload                 63901 non-null int64\n",
      "roofbarjoistind               63901 non-null int64\n",
      "roofsteelind                  63901 non-null int64\n",
      "roofunsafeind                 63901 non-null int64\n",
      "roofwoodind                   63901 non-null int64\n",
      "rootconcreteind               63901 non-null int64\n",
      "sprinkleredbuilding           63901 non-null int64\n",
      "stairwayopenind               63901 non-null int64\n",
      "taxsqft                       63901 non-null int64\n",
      "units                         63901 non-null int64\n",
      "vitalfacility                 63901 non-null int64\n",
      "wallcrackedind                63901 non-null int64\n",
      "wallunsafeind                 63901 non-null int64\n",
      "vacorimp                      63901 non-null int64\n",
      "building_age                  63901 non-null int64\n",
      "heat_AC-PCKD ROOF             63901 non-null uint8\n",
      "heat_AIR-DUCTED               63901 non-null uint8\n",
      "heat_HEAT MISC                63901 non-null uint8\n",
      "alrm_Four Alarms              63901 non-null uint8\n",
      "alrm_Misc                     63901 non-null uint8\n",
      "freq_Three Yearly             63901 non-null uint8\n",
      "freq_Yearly                   63901 non-null uint8\n",
      "bldg_AVERAGE                  63901 non-null uint8\n",
      "bldg_EXCELLENT                63901 non-null uint8\n",
      "bldg_GOOD                     63901 non-null uint8\n",
      "bldg_VERY GOOD                63901 non-null uint8\n",
      "fload_One                     63901 non-null uint8\n",
      "fload_Two                     63901 non-null uint8\n",
      "foundn_SLAB-COM               63901 non-null uint8\n",
      "foundn_SLAB-OTHERS            63901 non-null uint8\n",
      "foundn_SLAB-RES               63901 non-null uint8\n",
      "heatfuel_ELECTRIC             63901 non-null uint8\n",
      "heatfuel_GAS                  63901 non-null uint8\n",
      "propuse_Commercial            63901 non-null uint8\n",
      "propuse_Govt-Inst             63901 non-null uint8\n",
      "propuse_Office                63901 non-null uint8\n",
      "propuse_Residential           63901 non-null uint8\n",
      "propuse_Warehouse             63901 non-null uint8\n",
      "storyh_1 STORY                63901 non-null uint8\n",
      "taxdis_DOWNTOWN DISTRICT      63901 non-null uint8\n",
      "taxdis_DOWNTOWN DISTRICT 2    63901 non-null uint8\n",
      "taxdis_DOWNTOWN DISTRICT 3    63901 non-null uint8\n",
      "taxdis_UNKNOWN                63901 non-null uint8\n",
      "wall_CONC/OTHERS              63901 non-null uint8\n",
      "wall_FACE BRICK               63901 non-null uint8\n",
      "wall_GLASS/STONE              63901 non-null uint8\n",
      "wall_PRECAST PANL             63901 non-null uint8\n",
      "wall_SDG MIN/NONE             63901 non-null uint8\n",
      "dtypes: float64(1), int64(29), object(1), uint8(33)\n",
      "memory usage: 17.6+ MB\n"
     ]
    }
   ],
   "source": [
    "x_train.info()"
   ]
  },
  {
   "cell_type": "markdown",
   "metadata": {},
   "source": [
    "#### Make a copy of train and test data for later use to append street number and name after fire risk prediction. For now, drop these two values and add them later in the model"
   ]
  },
  {
   "cell_type": "code",
   "execution_count": 124,
   "metadata": {
    "collapsed": true
   },
   "outputs": [],
   "source": [
    "x_train1 = x_train.copy()\n",
    "y_train1 = y_train.copy()\n",
    "x_test1 = x_test.copy()\n",
    "y_test1 = y_test.copy()"
   ]
  },
  {
   "cell_type": "code",
   "execution_count": 125,
   "metadata": {
    "collapsed": true
   },
   "outputs": [],
   "source": [
    "x_train.drop(['num_street','fullstreet'],axis = 1,inplace = True)\n",
    "x_test.drop(['num_street','fullstreet'],axis = 1,inplace = True)"
   ]
  },
  {
   "cell_type": "markdown",
   "metadata": {},
   "source": [
    "### SMOTE sampling"
   ]
  },
  {
   "cell_type": "markdown",
   "metadata": {},
   "source": [
    "SMOTE algorithm (Synthetic Minority Oversampling Technique) -  Used to handle imbalanced class distribution of Fire variable\n",
    "At a high level, SMOTE creates synthetic observations of the minority class by:\n",
    "\n",
    "   Finding the k-nearest-neighbors for minority class observations (finding similar observations)\n",
    "   Randomly choosing one of the k-nearest-neighbors and using it to create a similar, but randomly tweaked, new observation.\n",
    "\n",
    "After upsampling to a class ratio of 1.0, we should have a balanced dataset."
   ]
  },
  {
   "cell_type": "code",
   "execution_count": 126,
   "metadata": {},
   "outputs": [
    {
     "name": "stderr",
     "output_type": "stream",
     "text": [
      "C:\\Users\\96926\\AppData\\Local\\Continuum\\anaconda3\\lib\\site-packages\\sklearn\\utils\\deprecation.py:77: DeprecationWarning: Function _ratio_float is deprecated; Use a float for 'ratio' is deprecated from version 0.2. The support will be removed in 0.4. Use a dict, str, or a callable instead.\n",
      "  warnings.warn(msg, category=DeprecationWarning)\n"
     ]
    }
   ],
   "source": [
    "from imblearn.over_sampling import SMOTE\n",
    "sm = SMOTE(random_state=12, ratio = 1.0)\n",
    "x_train_res, y_train_res = sm.fit_sample(x_train, y_train)\n",
    "y_train = pd.DataFrame(y_train_res,columns=['fire'])\n",
    "x_train = pd.DataFrame(x_train_res, columns=x_train.columns)"
   ]
  },
  {
   "cell_type": "markdown",
   "metadata": {},
   "source": [
    "### Naive Bayes"
   ]
  },
  {
   "cell_type": "markdown",
   "metadata": {},
   "source": [
    "#### Naive Bayes classifier calculates the probabilities for every factor, then it selects the outcome with highest probability. This classifier assumes the features are independent, i.e, the presence of a particular feature in a class is unrelated to the presence of any other feature."
   ]
  },
  {
   "cell_type": "code",
   "execution_count": 127,
   "metadata": {},
   "outputs": [
    {
     "name": "stdout",
     "output_type": "stream",
     "text": [
      "Model: Gaussian Naive Bayes\n",
      "Precision = 0.4640350014400843\n",
      "Recall    = 0.606326530612245\n",
      "F1 Score  = 0.48510055245006056\n",
      "Accuracy  = 0.487734693877551\n"
     ]
    }
   ],
   "source": [
    "# 10 fold cross validaton for GaussianNB\n",
    "\n",
    "print (\"Model: Gaussian Naive Bayes\")\n",
    "nb = GaussianNB() \n",
    "\n",
    "precision_nb = cross_val_score(nb, x_train, np.ravel(y_train), cv=5, scoring='precision')\n",
    "print (\"Precision = {}\".format(precision_nb.mean()))\n",
    "recall_nb = cross_val_score(nb, x_train, np.ravel(y_train), cv=5, scoring='recall')\n",
    "print (\"Recall    = {}\".format(recall_nb.mean()))\n",
    "f1score_nb = cross_val_score(nb, x_train, np.ravel(y_train), cv=5, scoring='f1')\n",
    "print (\"F1 Score  = {}\".format(f1score_nb.mean()))\n",
    "accuracy_nb = cross_val_score(nb, x_train, np.ravel(y_train), cv=5, scoring='accuracy')\n",
    "print (\"Accuracy  = {}\".format(accuracy_nb.mean()))"
   ]
  },
  {
   "cell_type": "code",
   "execution_count": 128,
   "metadata": {
    "scrolled": true
   },
   "outputs": [
    {
     "name": "stdout",
     "output_type": "stream",
     "text": [
      "[[ 6667 26832]\n",
      " [ 1957  8744]]\n",
      "             precision    recall  f1-score   support\n",
      "\n",
      "          0       0.77      0.20      0.32     33499\n",
      "          1       0.25      0.82      0.38     10701\n",
      "\n",
      "avg / total       0.65      0.35      0.33     44200\n",
      "\n",
      "0.348665158371\n",
      "Training score is  0.517795918367\n",
      "Testing score is  0.348665158371\n"
     ]
    }
   ],
   "source": [
    "# Naive Bayes to fit training and test data\n",
    "\n",
    "naiveb = GaussianNB()\n",
    "\n",
    "#naiveb.fit(x_train, y_train)\n",
    "naiveb.partial_fit(x_train,y_train,np.unique(y_train))\n",
    "\n",
    "nb_pred = naiveb.predict(x_test)\n",
    "\n",
    "print (metrics.confusion_matrix(y_test, nb_pred))\n",
    "print (metrics.classification_report(y_test, nb_pred))\n",
    "print(metrics.accuracy_score(y_test, nb_pred, normalize = True))\n",
    "\n",
    "print(\"Training score is \",naiveb.score(x_train, y_train))\n",
    "print(\"Testing score is \",naiveb.score(x_test, y_test))"
   ]
  },
  {
   "cell_type": "markdown",
   "metadata": {},
   "source": [
    "### Logistic Regression"
   ]
  },
  {
   "cell_type": "markdown",
   "metadata": {},
   "source": [
    "#### Logistic regression is a statistical method for analyzing a dataset in which there are one or more independent variables that determine an outcome. The outcome is measured with a dichotomous variable (in which there are only two possible outcomes). In logistic regression, the dependent variable is binary or dichotomous. "
   ]
  },
  {
   "cell_type": "code",
   "execution_count": 129,
   "metadata": {},
   "outputs": [
    {
     "name": "stdout",
     "output_type": "stream",
     "text": [
      "Model: Logistic Regression\n",
      "Precision = 0.4599644220996947\n",
      "Recall    = 0.5593673469387755\n",
      "F1 Score  = 0.5010089590446354\n",
      "Accuracy  = 0.4333775510204082\n"
     ]
    }
   ],
   "source": [
    "# 10 fold cross validaton for Logistic Regression\n",
    "\n",
    "print (\"Model: Logistic Regression\")\n",
    "lr = LogisticRegression(class_weight = 'balanced')\n",
    "\n",
    "precision_lr = cross_val_score(lr, x_train, y_train, cv=10, scoring='precision', n_jobs=-1)\n",
    "print (\"Precision = {}\".format(precision_lr.mean()))\n",
    "recall_lr = cross_val_score(lr, x_train, y_train, cv=10, scoring='recall', n_jobs=-1)\n",
    "print (\"Recall    = {}\".format(recall_lr.mean()))\n",
    "f1score_lr = cross_val_score(lr, x_train, y_train, cv=10, scoring='f1', n_jobs=-1)\n",
    "print (\"F1 Score  = {}\".format(f1score_lr.mean()))\n",
    "accuracy_lr = cross_val_score(lr, x_train,y_train, cv=10, scoring='accuracy', n_jobs=-1)\n",
    "print (\"Accuracy  = {}\".format(accuracy_lr.mean()))"
   ]
  },
  {
   "cell_type": "code",
   "execution_count": 130,
   "metadata": {},
   "outputs": [
    {
     "name": "stdout",
     "output_type": "stream",
     "text": [
      "[[19337 14162]\n",
      " [ 5637  5064]]\n",
      "             precision    recall  f1-score   support\n",
      "\n",
      "          0       0.77      0.58      0.66     33499\n",
      "          1       0.26      0.47      0.34     10701\n",
      "\n",
      "avg / total       0.65      0.55      0.58     44200\n",
      "\n",
      "24401\n",
      "Training score is  0.587744897959\n",
      "Testing score is  0.552058823529\n"
     ]
    }
   ],
   "source": [
    "# Logistic Regression to fit training and test data\n",
    "\n",
    "logreg = LogisticRegression(class_weight = 'balanced')\n",
    "\n",
    "logreg.fit(x_train, y_train)\n",
    "\n",
    "lr_pred = logreg.predict(x_test)\n",
    "\n",
    "print (metrics.confusion_matrix(y_test, lr_pred))\n",
    "print (metrics.classification_report(y_test, lr_pred))\n",
    "print(metrics.accuracy_score(y_test, lr_pred, normalize = False))\n",
    "\n",
    "print(\"Training score is \",logreg.score(x_train, y_train))\n",
    "print(\"Testing score is \",logreg.score(x_test, y_test))"
   ]
  },
  {
   "cell_type": "markdown",
   "metadata": {
    "collapsed": true
   },
   "source": [
    "### Decision Trees"
   ]
  },
  {
   "cell_type": "markdown",
   "metadata": {},
   "source": [
    "#### Decision Trees (DTs) are a non-parametric supervised learning method used for classification and regression. The goal is to create a model that predicts the value of a target variable by learning simple decision rules inferred from the data features. Decision tree learning uses a decision tree (as a predictive model) to go from observations about an item (represented in the branches) to conclusions about the item's target value (represented in the leaves). It is one of the predictive modelling approaches used in statistics, data mining and machine learning."
   ]
  },
  {
   "cell_type": "code",
   "execution_count": 131,
   "metadata": {},
   "outputs": [
    {
     "name": "stdout",
     "output_type": "stream",
     "text": [
      "Model: Decision Trees\n",
      "Precision = 0.4670490048382468\n",
      "Recall    = 0.5933061224489796\n",
      "F1 Score  = 0.5199832953235325\n",
      "Accuracy  = 0.4435102040816326\n"
     ]
    }
   ],
   "source": [
    "# 10 fold cross validaton for Decision Trees\n",
    "\n",
    "print (\"Model: Decision Trees\")\n",
    "dt = DecisionTreeClassifier(criterion='entropy',class_weight = 'balanced')\n",
    "\n",
    "precision_dt = cross_val_score(dt, x_train, np.ravel(y_train), cv=10, scoring='precision', n_jobs=-1)\n",
    "print (\"Precision = {}\".format(precision_dt.mean()))\n",
    "recall_dt = cross_val_score(dt, x_train, np.ravel(y_train), cv=10, scoring='recall', n_jobs=-1)\n",
    "print (\"Recall    = {}\".format(recall_dt.mean()))\n",
    "f1score_dt = cross_val_score(dt, x_train, np.ravel(y_train), cv=10, scoring='f1', n_jobs=-1)\n",
    "print (\"F1 Score  = {}\".format(f1score_dt.mean()))\n",
    "accuracy_dt = cross_val_score(dt, x_train, np.ravel(y_train), cv=10, scoring='accuracy', n_jobs=-1)\n",
    "print (\"Accuracy  = {}\".format(accuracy_dt.mean()))"
   ]
  },
  {
   "cell_type": "code",
   "execution_count": 132,
   "metadata": {},
   "outputs": [
    {
     "name": "stdout",
     "output_type": "stream",
     "text": [
      "[[17370 16129]\n",
      " [ 4534  6167]]\n",
      "             precision    recall  f1-score   support\n",
      "\n",
      "          0       0.79      0.52      0.63     33499\n",
      "          1       0.28      0.58      0.37     10701\n",
      "\n",
      "avg / total       0.67      0.53      0.57     44200\n",
      "\n",
      "23537\n",
      "Training score is  0.649163265306\n",
      "Testing score is  0.532511312217\n"
     ]
    }
   ],
   "source": [
    "# Decision Tree to fit training and test data\n",
    "\n",
    "infoGain_clf = DecisionTreeClassifier(criterion='entropy',class_weight = 'balanced')\n",
    "\n",
    "infoGain_clf.fit(x_train, y_train)\n",
    "\n",
    "dt_pred = infoGain_clf.predict(x_test)\n",
    "\n",
    "print (metrics.confusion_matrix(y_test, dt_pred))\n",
    "print (metrics.classification_report(y_test, dt_pred))\n",
    "\n",
    "print (metrics.accuracy_score(y_test, dt_pred,normalize=False))\n",
    "\n",
    "print(\"Training score is \",infoGain_clf.score(x_train, y_train))\n",
    "print(\"Testing score is \",infoGain_clf.score(x_test, y_test))\n"
   ]
  },
  {
   "cell_type": "code",
   "execution_count": 133,
   "metadata": {
    "scrolled": true
   },
   "outputs": [
    {
     "name": "stdout",
     "output_type": "stream",
     "text": [
      "['cnt_otherfixtures', 'floorcrowedind', 'floorhighpileind', 'flooropenpitind', 'floorunsafeind', 'fullbaths', 'halfbaths', 'highrisk', 'inspectabl', 'lockbox', 'nbrbuildings', 'nbrofsprinklersystems', 'nbrstories', 'numfirepla', 'occupancyload', 'roofbarjoistind', 'roofsteelind', 'roofunsafeind', 'roofwoodind', 'rootconcreteind', 'sprinkleredbuilding', 'stairwayopenind', 'taxsqft', 'units', 'vitalfacility', 'wallcrackedind', 'wallunsafeind', 'vacorimp', 'building_age', 'heat_AC-PCKD ROOF', 'heat_AIR-DUCTED', 'heat_HEAT MISC', 'alrm_Four Alarms', 'alrm_Misc', 'freq_Three Yearly', 'freq_Yearly', 'bldg_AVERAGE', 'bldg_EXCELLENT', 'bldg_GOOD', 'bldg_VERY GOOD', 'fload_One', 'fload_Two', 'foundn_SLAB-COM', 'foundn_SLAB-OTHERS', 'foundn_SLAB-RES', 'heatfuel_ELECTRIC', 'heatfuel_GAS', 'propuse_Commercial', 'propuse_Govt-Inst', 'propuse_Office', 'propuse_Residential', 'propuse_Warehouse', 'storyh_1 STORY', 'taxdis_DOWNTOWN DISTRICT', 'taxdis_DOWNTOWN DISTRICT 2', 'taxdis_DOWNTOWN DISTRICT 3', 'taxdis_UNKNOWN', 'wall_CONC/OTHERS', 'wall_FACE BRICK', 'wall_GLASS/STONE', 'wall_PRECAST PANL', 'wall_SDG MIN/NONE']\n"
     ]
    }
   ],
   "source": [
    "data_features_names = list(x_train.columns.values)\n",
    "print(data_features_names)"
   ]
  },
  {
   "cell_type": "markdown",
   "metadata": {},
   "source": [
    "### Random Forest"
   ]
  },
  {
   "cell_type": "markdown",
   "metadata": {},
   "source": [
    "#### Random forest classifier creates a set of decision trees from randomly selected subset of training set. It then aggregates the votes from different decision trees to decide the final class of the test object. This works well because a single decision tree may be prone to a noise, but aggregate of many decision trees reduce the effect of noise giving more accurate results."
   ]
  },
  {
   "cell_type": "code",
   "execution_count": 134,
   "metadata": {},
   "outputs": [
    {
     "name": "stdout",
     "output_type": "stream",
     "text": [
      "Model: Random Forest\n",
      "Precision = 0.4627772824953075\n",
      "Recall    = 0.601\n",
      "F1 Score  = 0.5248111150561143\n",
      "Accuracy  = 0.4366020408163265\n"
     ]
    }
   ],
   "source": [
    "# 10 fold cross validaton for Random Forest\n",
    "\n",
    "print (\"Model: Random Forest\")\n",
    "rf = RandomForestClassifier(n_estimators=10, min_samples_split=2,class_weight = 'balanced')\n",
    "\n",
    "precision_rf = cross_val_score(rf, x_train, np.ravel(y_train), cv=10, scoring='precision', n_jobs=-1)\n",
    "print (\"Precision = {}\".format(precision_rf.mean()))\n",
    "recall_rf = cross_val_score(rf, x_train, np.ravel(y_train), cv=10, scoring='recall', n_jobs=-1)\n",
    "print (\"Recall    = {}\".format(recall_rf.mean()))\n",
    "f1score_rf = cross_val_score(rf, x_train, np.ravel(y_train), cv=10, scoring='f1', n_jobs=-1)\n",
    "print (\"F1 Score  = {}\".format(f1score_rf.mean()))\n",
    "accuracy_rf = cross_val_score(rf, x_train, np.ravel(y_train), cv=10, scoring='accuracy', n_jobs=-1)\n",
    "print (\"Accuracy  = {}\".format(accuracy_rf.mean()))"
   ]
  },
  {
   "cell_type": "code",
   "execution_count": 135,
   "metadata": {
    "scrolled": true
   },
   "outputs": [
    {
     "name": "stdout",
     "output_type": "stream",
     "text": [
      "[[19189 14310]\n",
      " [ 5354  5347]]\n",
      "             precision    recall  f1-score   support\n",
      "\n",
      "          0       0.78      0.57      0.66     33499\n",
      "          1       0.27      0.50      0.35     10701\n",
      "\n",
      "avg / total       0.66      0.56      0.59     44200\n",
      "\n",
      "Training score is  0.648520408163\n",
      "Testing score is  0.555113122172\n"
     ]
    }
   ],
   "source": [
    "# Random Forest to fit training and test data\n",
    "\n",
    "randomf = RandomForestClassifier(n_estimators=10, min_samples_split=2,class_weight = 'balanced')\n",
    "\n",
    "randomf.fit(x_train, y_train)\n",
    "\n",
    "rf_pred = randomf.predict(x_test)\n",
    "\n",
    "print (metrics.confusion_matrix(y_test, rf_pred))\n",
    "print (metrics.classification_report(y_test, rf_pred))\n",
    "\n",
    "print(\"Training score is \",randomf.score(x_train, y_train))\n",
    "print(\"Testing score is \",randomf.score(x_test, y_test))"
   ]
  },
  {
   "cell_type": "markdown",
   "metadata": {},
   "source": [
    "### KNN Classifier"
   ]
  },
  {
   "cell_type": "markdown",
   "metadata": {},
   "source": [
    "#### KNN is a non-parametric, lazy learning algorithm. Its purpose is to use a database in which the data points are separated into several classes to predict the classification of a new sample point. KNN can be used for classification — the output is a class membership (predicts a class — a discrete value). An object is classified by a majority vote of its neighbors, with the object being assigned to the class most common among its k nearest neighbors. "
   ]
  },
  {
   "cell_type": "code",
   "execution_count": 136,
   "metadata": {
    "collapsed": true
   },
   "outputs": [],
   "source": [
    "from sklearn.preprocessing import MinMaxScaler\n",
    "scaler = MinMaxScaler(feature_range=(0, 1))\n",
    "x_train_resc = scaler.fit_transform(x_train)"
   ]
  },
  {
   "cell_type": "code",
   "execution_count": 137,
   "metadata": {},
   "outputs": [
    {
     "name": "stdout",
     "output_type": "stream",
     "text": [
      "Model: K Nearest Neighbor\n",
      "Precision = 0.4599568251438303\n",
      "Recall    = 0.5746938775510204\n",
      "F1 Score  = 0.5071626175914614\n",
      "Accuracy  = 0.4351836734693878\n"
     ]
    }
   ],
   "source": [
    "# 10 fold cross validaton for KNN Classifier\n",
    "\n",
    "print (\"Model: K Nearest Neighbor\")\n",
    "nn = KNeighborsClassifier(n_neighbors = 3, metric='euclidean')\n",
    "\n",
    "precision_nn = cross_val_score(nn, x_train_resc, np.ravel(y_train), cv=10, scoring='precision', n_jobs=-1)\n",
    "print (\"Precision = {}\".format(precision_nn.mean()))\n",
    "recall_nn = cross_val_score(nn, x_train_resc, np.ravel(y_train), cv=10, scoring='recall', n_jobs=-1)\n",
    "print (\"Recall    = {}\".format(recall_nn.mean()))\n",
    "f1score_nn = cross_val_score(nn, x_train_resc, np.ravel(y_train), cv=10, scoring='f1', n_jobs=-1)\n",
    "print (\"F1 Score  = {}\".format(f1score_nn.mean()))\n",
    "accuracy_nn = cross_val_score(nn, x_train_resc, np.ravel(y_train), cv=10, scoring='accuracy', n_jobs=-1)\n",
    "print (\"Accuracy  = {}\".format(accuracy_nn.mean()))"
   ]
  },
  {
   "cell_type": "code",
   "execution_count": 138,
   "metadata": {},
   "outputs": [
    {
     "name": "stdout",
     "output_type": "stream",
     "text": [
      "[[21872 11627]\n",
      " [ 6883  3818]]\n",
      "             precision    recall  f1-score   support\n",
      "\n",
      "          0       0.76      0.65      0.70     33499\n",
      "          1       0.25      0.36      0.29     10701\n",
      "\n",
      "avg / total       0.64      0.58      0.60     44200\n",
      "\n",
      "Training score is  0.585642857143\n",
      "Testing score is  0.581221719457\n"
     ]
    }
   ],
   "source": [
    "# KNN to fit training and test data\n",
    "\n",
    "knnclass = KNeighborsClassifier(n_neighbors = 3, metric='euclidean')\n",
    "\n",
    "knnclass.fit(x_train_resc, y_train)\n",
    "\n",
    "kn_pred = knnclass.predict(x_test)\n",
    "\n",
    "print (metrics.confusion_matrix(y_test, kn_pred))\n",
    "print (metrics.classification_report(y_test, kn_pred))\n",
    "\n",
    "print(\"Training score is \",knnclass.score(x_train_resc, y_train))\n",
    "print(\"Testing score is \",knnclass.score(x_test, y_test))"
   ]
  },
  {
   "cell_type": "markdown",
   "metadata": {},
   "source": [
    "### K Best Features"
   ]
  },
  {
   "cell_type": "code",
   "execution_count": 139,
   "metadata": {
    "collapsed": true
   },
   "outputs": [],
   "source": [
    "from sklearn.feature_selection import SelectKBest\n",
    "kbest = SelectKBest(k=10)\n",
    "xtrain = kbest.fit_transform(x_train,np.ravel(y_train))\n",
    "\n",
    "mask = kbest.get_support()\n",
    "new_features = x_train.columns[mask]"
   ]
  },
  {
   "cell_type": "code",
   "execution_count": 140,
   "metadata": {
    "scrolled": false
   },
   "outputs": [
    {
     "name": "stdout",
     "output_type": "stream",
     "text": [
      "Index(['units', 'heat_AC-PCKD ROOF', 'propuse_Commercial', 'propuse_Govt-Inst',\n",
      "       'propuse_Residential', 'taxdis_DOWNTOWN DISTRICT 2', 'wall_FACE BRICK',\n",
      "       'wall_GLASS/STONE', 'wall_PRECAST PANL', 'wall_SDG MIN/NONE'],\n",
      "      dtype='object')\n"
     ]
    }
   ],
   "source": [
    "print(new_features)"
   ]
  },
  {
   "cell_type": "markdown",
   "metadata": {},
   "source": [
    "### AdaBoost Classifier"
   ]
  },
  {
   "cell_type": "markdown",
   "metadata": {},
   "source": [
    "#### Ada-boost, like Random Forest Classifier is another ensemble classifier. (Ensemble classifier are made up of multiple classifier algorithms and whose output is combined result of output of those classifier algorithms). Ada Boost retrains the algorithm iteratively by choosing the training set based on accuracy of previous training. The weight-age of each trained classifier at any iteration depends on the accuracy achieved."
   ]
  },
  {
   "cell_type": "code",
   "execution_count": 141,
   "metadata": {},
   "outputs": [
    {
     "name": "stdout",
     "output_type": "stream",
     "text": [
      "AdaBoostClassifier(algorithm='SAMME.R', base_estimator=None,\n",
      "          learning_rate=1.0, n_estimators=70, random_state=432)\n",
      "[[19669 13830]\n",
      " [ 5667  5034]]\n"
     ]
    }
   ],
   "source": [
    "from sklearn.ensemble import AdaBoostClassifier\n",
    "from sklearn.metrics import cohen_kappa_score\n",
    "\n",
    "model_adaboost = AdaBoostClassifier(n_estimators = 70, random_state=432, algorithm='SAMME.R')\n",
    "print(model_adaboost)\n",
    "model_adaboost.fit(x_train, y_train)\n",
    "pred_adaboost = model_adaboost.predict(x_test)\n",
    "real_adaboost = y_test\n",
    "cm_ada = confusion_matrix(real_adaboost, pred_adaboost)\n",
    "print(cm_ada)\n",
    "\n",
    "kappa_ada = cohen_kappa_score(real_adaboost, pred_adaboost)"
   ]
  },
  {
   "cell_type": "code",
   "execution_count": 142,
   "metadata": {},
   "outputs": [
    {
     "name": "stdout",
     "output_type": "stream",
     "text": [
      "Accuracy = 0.5588914027149321 \n",
      "\n",
      "kappa score = 0.045710060166259225 \n",
      "\n",
      "AUC Score = 0.5287875901010832 \n",
      "\n",
      "recall = 0.4704233249229044 \n",
      "\n",
      "precision = 0.26685750636132316 \n",
      "\n"
     ]
    }
   ],
   "source": [
    "#compute ROC curve and area under the curve\n",
    "\n",
    "fpr, tpr, thresholds = metrics.roc_curve(y_test, pred_adaboost, pos_label=1)\n",
    "roc_auc = metrics.auc(fpr, tpr)\n",
    "\n",
    "acc_ada = 'Accuracy = {0} \\n'.format(float(cm_ada[0][0] + cm_ada[1][1]) / len(real_adaboost))\n",
    "kapp_ada = 'kappa score = {0} \\n'.format(kappa_ada)\n",
    "auc_ada = 'AUC Score = {0} \\n'.format(metrics.auc(fpr, tpr))\n",
    "recall_ada = 'recall = {0} \\n'.format(tpr[1])\n",
    "precis_ada = 'precision = {0} \\n'.format(float(cm_ada[1][1]) / (cm_ada[1][1] + cm_ada[0][1]))\n",
    "\n",
    "print(acc_ada)\n",
    "print(kapp_ada)\n",
    "print(auc_ada)\n",
    "print(recall_ada)\n",
    "print(precis_ada)"
   ]
  },
  {
   "cell_type": "markdown",
   "metadata": {},
   "source": [
    "### Gradient Boosting Classifier"
   ]
  },
  {
   "cell_type": "markdown",
   "metadata": {},
   "source": [
    "#### Gradient boosting is a machine learning technique for regression and classification problems, which produces a prediction model in the form of an ensemble of weak prediction models, typically decision trees. It builds the model in a stage-wise fashion like other boosting methods do, and it generalizes them by allowing optimization of an arbitrary differentiable loss function."
   ]
  },
  {
   "cell_type": "code",
   "execution_count": 143,
   "metadata": {},
   "outputs": [
    {
     "data": {
      "text/plain": [
       "GradientBoostingClassifier(criterion='friedman_mse', init=None,\n",
       "              learning_rate=0.1, loss='deviance', max_depth=5,\n",
       "              max_features=None, max_leaf_nodes=None,\n",
       "              min_impurity_decrease=0.0, min_impurity_split=None,\n",
       "              min_samples_leaf=1, min_samples_split=2,\n",
       "              min_weight_fraction_leaf=0.0, n_estimators=400,\n",
       "              presort='auto', random_state=None, subsample=1.0, verbose=0,\n",
       "              warm_start=False)"
      ]
     },
     "execution_count": 143,
     "metadata": {},
     "output_type": "execute_result"
    }
   ],
   "source": [
    "from sklearn import ensemble\n",
    "clf = ensemble.GradientBoostingClassifier(n_estimators = 400,max_depth = 5, min_samples_split = 2,\n",
    "                                        learning_rate = 0.1)\n",
    "clf.fit(x_train,y_train)"
   ]
  },
  {
   "cell_type": "code",
   "execution_count": 144,
   "metadata": {},
   "outputs": [
    {
     "name": "stdout",
     "output_type": "stream",
     "text": [
      "[[17848 15651]\n",
      " [ 4763  5938]]\n"
     ]
    }
   ],
   "source": [
    "gbpred = clf.predict(x_test)\n",
    "real = y_test\n",
    "cm = confusion_matrix(real, gbpred)\n",
    "print (confusion_matrix(real, gbpred))"
   ]
  },
  {
   "cell_type": "code",
   "execution_count": 145,
   "metadata": {
    "scrolled": false
   },
   "outputs": [
    {
     "name": "stdout",
     "output_type": "stream",
     "text": [
      "[[17848 15651]\n",
      " [ 4763  5938]]\n",
      "             precision    recall  f1-score   support\n",
      "\n",
      "          0       0.79      0.53      0.64     33499\n",
      "          1       0.28      0.55      0.37     10701\n",
      "\n",
      "avg / total       0.66      0.54      0.57     44200\n",
      "\n",
      "Training score is  0.647602040816\n",
      "Testing score is  0.53814479638\n"
     ]
    }
   ],
   "source": [
    "print (metrics.confusion_matrix(y_test, gbpred))\n",
    "print (metrics.classification_report(y_test, gbpred))\n",
    "\n",
    "print(\"Training score is \", clf.score(x_train, y_train))\n",
    "print(\"Testing score is \", clf.score(x_test, y_test))"
   ]
  },
  {
   "cell_type": "markdown",
   "metadata": {},
   "source": [
    "### XGBoost Classifier"
   ]
  },
  {
   "cell_type": "markdown",
   "metadata": {},
   "source": [
    "### Benefits of XGBoost and Why this was chosen as the final best model\n",
    "###### Regularization: Standard GBM implementation has no regularization like XGBoost, therefore it also helps to reduce overfitting.\n",
    "###### Parallel Processing: XGBoost implements parallel processing and is blazingly faster as compared to GBM.\n",
    "###### High Flexibility: XGBoost allow users to define custom optimization objectives and evaluation criteria.\n",
    "###### Handling Missing Values : XGBoost has an in-built routine to handle missing values.\n",
    "###### Tree Pruning: A GBM would stop splitting a node when it encounters a negative loss in the split. Thus it is more of a greedy algorithm. XGBoost on the other hand make splits upto the max_depth specified and then start pruning the tree backwards and remove splits beyond which there is no positive gain.\n",
    "###### Built-in Cross-Validation : XGBoost allows user to run a cross-validation at each iteration of the boosting process and thus it is easy to get the exact optimum number of boosting iterations in a single run."
   ]
  },
  {
   "cell_type": "code",
   "execution_count": 146,
   "metadata": {},
   "outputs": [
    {
     "name": "stdout",
     "output_type": "stream",
     "text": [
      "[[18266 15233]\n",
      " [ 4846  5855]]\n"
     ]
    }
   ],
   "source": [
    "import xgboost as xgb\n",
    "from xgboost import XGBClassifier\n",
    "from sklearn.ensemble import ExtraTreesClassifier\n",
    "\n",
    "model = XGBClassifier( learning_rate =0.13,\n",
    "        n_estimators=1500,\n",
    "        max_depth=5,min_child_weight=1,\n",
    "        gamma=0,\n",
    "        subsample=0.8,\n",
    "        colsample_bytree=0.8,\n",
    "        objective= 'binary:logistic',\n",
    "        nthread=4,\n",
    "        seed=27)\n",
    "model.fit(x_train, y_train)\n",
    "xgpred = model.predict(x_test)\n",
    "real = y_test\n",
    "cm = confusion_matrix(real, xgpred)\n",
    "print (confusion_matrix(real, xgpred))"
   ]
  },
  {
   "cell_type": "code",
   "execution_count": 147,
   "metadata": {
    "scrolled": true
   },
   "outputs": [
    {
     "name": "stdout",
     "output_type": "stream",
     "text": [
      "[[18266 15233]\n",
      " [ 4846  5855]]\n",
      "             precision    recall  f1-score   support\n",
      "\n",
      "          0       0.79      0.55      0.65     33499\n",
      "          1       0.28      0.55      0.37     10701\n",
      "\n",
      "avg / total       0.67      0.55      0.58     44200\n",
      "\n",
      "Training score is  0.648632653061\n",
      "Testing score is  0.5457239819\n"
     ]
    }
   ],
   "source": [
    "print (metrics.confusion_matrix(y_test, xgpred))\n",
    "print (metrics.classification_report(y_test, xgpred))\n",
    "\n",
    "print(\"Training score is \",model.score(x_train, y_train))\n",
    "print(\"Testing score is \",model.score(x_test, y_test))"
   ]
  },
  {
   "cell_type": "code",
   "execution_count": 148,
   "metadata": {
    "scrolled": true
   },
   "outputs": [
    {
     "name": "stdout",
     "output_type": "stream",
     "text": [
      "[[ 0.8403458   0.15965419]\n",
      " [ 0.74423677  0.25576323]\n",
      " [ 0.74423677  0.25576323]\n",
      " ..., \n",
      " [ 0.48309898  0.51690102]\n",
      " [ 0.44733131  0.55266869]\n",
      " [ 0.31990707  0.68009293]]\n"
     ]
    }
   ],
   "source": [
    "#Getting the probability scores\n",
    "fpr, tpr, _ = metrics.roc_curve(y_test, xgpred, pos_label=1)\n",
    "roc_auc = metrics.auc(fpr, tpr)\n",
    "\n",
    "predictions = model.predict_proba(x_test)\n",
    "print (predictions)"
   ]
  },
  {
   "cell_type": "code",
   "execution_count": 149,
   "metadata": {
    "scrolled": true
   },
   "outputs": [
    {
     "name": "stdout",
     "output_type": "stream",
     "text": [
      "<class 'pandas.core.frame.DataFrame'>\n",
      "Int64Index: 44200 entries, 2 to 19103\n",
      "Data columns (total 64 columns):\n",
      "cnt_otherfixtures             44200 non-null float64\n",
      "floorcrowedind                44200 non-null int64\n",
      "floorhighpileind              44200 non-null int64\n",
      "flooropenpitind               44200 non-null int64\n",
      "floorunsafeind                44200 non-null int64\n",
      "fullbaths                     44200 non-null int64\n",
      "fullstreet                    44200 non-null object\n",
      "halfbaths                     44200 non-null int64\n",
      "highrisk                      44200 non-null int64\n",
      "inspectabl                    44200 non-null int64\n",
      "lockbox                       44200 non-null int64\n",
      "nbrbuildings                  44200 non-null int64\n",
      "nbrofsprinklersystems         44200 non-null int64\n",
      "nbrstories                    44200 non-null int64\n",
      "num_street                    44200 non-null int64\n",
      "numfirepla                    44200 non-null int64\n",
      "occupancyload                 44200 non-null int64\n",
      "roofbarjoistind               44200 non-null int64\n",
      "roofsteelind                  44200 non-null int64\n",
      "roofunsafeind                 44200 non-null int64\n",
      "roofwoodind                   44200 non-null int64\n",
      "rootconcreteind               44200 non-null int64\n",
      "sprinkleredbuilding           44200 non-null int64\n",
      "stairwayopenind               44200 non-null int64\n",
      "taxsqft                       44200 non-null int64\n",
      "units                         44200 non-null int64\n",
      "vitalfacility                 44200 non-null int64\n",
      "wallcrackedind                44200 non-null int64\n",
      "wallunsafeind                 44200 non-null int64\n",
      "vacorimp                      44200 non-null int64\n",
      "building_age                  44200 non-null int64\n",
      "heat_AC-PCKD ROOF             44200 non-null uint8\n",
      "heat_AIR-DUCTED               44200 non-null uint8\n",
      "heat_HEAT MISC                44200 non-null uint8\n",
      "alrm_Four Alarms              44200 non-null uint8\n",
      "alrm_Misc                     44200 non-null uint8\n",
      "freq_Three Yearly             44200 non-null uint8\n",
      "freq_Yearly                   44200 non-null uint8\n",
      "bldg_AVERAGE                  44200 non-null uint8\n",
      "bldg_EXCELLENT                44200 non-null uint8\n",
      "bldg_GOOD                     44200 non-null uint8\n",
      "bldg_VERY GOOD                44200 non-null uint8\n",
      "fload_One                     44200 non-null uint8\n",
      "fload_Two                     44200 non-null uint8\n",
      "foundn_SLAB-COM               44200 non-null uint8\n",
      "foundn_SLAB-OTHERS            44200 non-null uint8\n",
      "foundn_SLAB-RES               44200 non-null uint8\n",
      "heatfuel_ELECTRIC             44200 non-null uint8\n",
      "heatfuel_GAS                  44200 non-null uint8\n",
      "propuse_Commercial            44200 non-null uint8\n",
      "propuse_Govt-Inst             44200 non-null uint8\n",
      "propuse_Office                44200 non-null uint8\n",
      "propuse_Residential           44200 non-null uint8\n",
      "propuse_Warehouse             44200 non-null uint8\n",
      "storyh_1 STORY                44200 non-null uint8\n",
      "taxdis_DOWNTOWN DISTRICT      44200 non-null uint8\n",
      "taxdis_DOWNTOWN DISTRICT 2    44200 non-null uint8\n",
      "taxdis_DOWNTOWN DISTRICT 3    44200 non-null uint8\n",
      "taxdis_UNKNOWN                44200 non-null uint8\n",
      "wall_CONC/OTHERS              44200 non-null uint8\n",
      "wall_FACE BRICK               44200 non-null uint8\n",
      "wall_GLASS/STONE              44200 non-null uint8\n",
      "wall_PRECAST PANL             44200 non-null uint8\n",
      "wall_SDG MIN/NONE             44200 non-null uint8\n",
      "dtypes: float64(1), int64(29), object(1), uint8(33)\n",
      "memory usage: 12.2+ MB\n"
     ]
    }
   ],
   "source": [
    "x_test1.info()"
   ]
  },
  {
   "cell_type": "markdown",
   "metadata": {},
   "source": [
    "Include street number and full street back to test set for associating it with risk scores"
   ]
  },
  {
   "cell_type": "code",
   "execution_count": 150,
   "metadata": {
    "collapsed": true
   },
   "outputs": [],
   "source": [
    "x_test['num_street'] = x_test1['num_street'].copy()\n",
    "x_test['fullstreet'] = x_test1['fullstreet'].copy()"
   ]
  },
  {
   "cell_type": "markdown",
   "metadata": {},
   "source": [
    "#### Predict risk scores and probability of fire using XGBoost predictions and print the result to an Excel file"
   ]
  },
  {
   "cell_type": "code",
   "execution_count": 151,
   "metadata": {
    "collapsed": true
   },
   "outputs": [],
   "source": [
    "#Addresses with fire and risk score\n",
    "risk = []\n",
    "for row in predictions:\n",
    "    risk.append(row[1])\n",
    "\n",
    "cols = {\"Fire\":xgpred,\"RiskScore\":risk,\"Unit_Number\":x_test['num_street'],\"Address\":x_test['fullstreet']}\n",
    "\n",
    "Results = pd.DataFrame(cols)\n",
    "\n",
    "#Writing results to the regularly updating Results.csv\n",
    "Results.to_csv(\"Results_Final.csv\")"
   ]
  },
  {
   "cell_type": "code",
   "execution_count": 152,
   "metadata": {},
   "outputs": [
    {
     "data": {
      "image/png": "[encoded data removed]",
      "text/plain": [
       "<matplotlib.figure.Figure at 0x14fe50c60b8>"
      ]
     },
     "metadata": {},
     "output_type": "display_data"
    }
   ],
   "source": [
    "# #Plotting the ROC curve to assess model performance\n",
    "plt.figure()\n",
    "lw = 2\n",
    "plt.plot(fpr, tpr, color='darkorange',\n",
    "     lw=lw, label='ROC curve (area = %0.2f)' % roc_auc)\n",
    "plt.plot([0, 1], [0, 1], color='navy', lw=lw, linestyle='--')\n",
    "plt.xlim([-0.02, 1.0])\n",
    "plt.ylim([0.0, 1.05])\n",
    "plt.xlabel('False Positive Rate')\n",
    "plt.ylabel('True Positive Rate')\n",
    "plt.title('ROC curve')\n",
    "plt.legend(loc=\"lower right\")\n",
    "plt.show()"
   ]
  },
  {
   "cell_type": "code",
   "execution_count": 153,
   "metadata": {},
   "outputs": [
    {
     "data": {
      "text/plain": [
       "<matplotlib.axes._subplots.AxesSubplot at 0x14fe5289668>"
      ]
     },
     "execution_count": 153,
     "metadata": {},
     "output_type": "execute_result"
    },
    {
     "data": {
      "image/png": "[encoded data removed]",
      "text/plain": [
       "<matplotlib.figure.Figure at 0x14fe50f76a0>"
      ]
     },
     "metadata": {},
     "output_type": "display_data"
    }
   ],
   "source": [
    "importances = pd.DataFrame({'feature':x_train.columns,'importance':np.round(model.feature_importances_,3)})\n",
    "\n",
    "importances = importances.sort_values('importance',ascending=False).set_index('feature')\n",
    "importances.plot.bar(figsize=(20,5))"
   ]
  },
  {
   "cell_type": "markdown",
   "metadata": {},
   "source": [
    "### Listing top features using Extra Trees"
   ]
  },
  {
   "cell_type": "markdown",
   "metadata": {},
   "source": [
    "An extra-trees classifier : This class implements a meta estimator that fits a number of randomized decision trees (a.k.a. extra-trees) on various sub-samples of the dataset and use averaging to improve the predictive accuracy and control over-fitting.\n",
    "\n",
    "The attribute \"feature_importances_\" lists out feature importances where the higher value denotes important features."
   ]
  },
  {
   "cell_type": "code",
   "execution_count": 154,
   "metadata": {},
   "outputs": [
    {
     "name": "stdout",
     "output_type": "stream",
     "text": [
      "building_age                  0.036879\n",
      "vacorimp                      0.035030\n",
      "wall_FACE BRICK               0.034011\n",
      "lockbox                       0.033589\n",
      "fload_Two                     0.029812\n",
      "taxdis_DOWNTOWN DISTRICT 3    0.028913\n",
      "wall_PRECAST PANL             0.027557\n",
      "units                         0.027426\n",
      "storyh_1 STORY                0.027051\n",
      "occupancyload                 0.025271\n",
      "bldg_VERY GOOD                0.024808\n",
      "bldg_GOOD                     0.024081\n",
      "propuse_Residential           0.023542\n",
      "nbrstories                    0.023518\n",
      "cnt_otherfixtures             0.023323\n",
      "propuse_Commercial            0.023189\n",
      "sprinkleredbuilding           0.023084\n",
      "foundn_SLAB-COM               0.022893\n",
      "foundn_SLAB-OTHERS            0.022825\n",
      "heat_AC-PCKD ROOF             0.021570\n",
      "dtype: float64\n"
     ]
    },
    {
     "data": {
      "image/png": "[encoded data removed]",
      "text/plain": [
       "<matplotlib.figure.Figure at 0x14fe7bec470>"
      ]
     },
     "metadata": {},
     "output_type": "display_data"
    }
   ],
   "source": [
    "#Tree model for getting feature importance\n",
    "clf = ExtraTreesClassifier()\n",
    "\n",
    "impute_X = np.array(x_train)\n",
    "impute_y = np.ravel(y_train)\n",
    "\n",
    "clf = clf.fit(impute_X, impute_y)\n",
    "\n",
    "\n",
    "UsedDf = x_train\n",
    "important_features = pd.Series(data=clf.feature_importances_,index=UsedDf.columns)\n",
    "important_features.sort_values(ascending=False,inplace=True)\n",
    "#top 20 features\n",
    "print (important_features[0:20])\n",
    "\n",
    "#Plotting the top 20 features\n",
    "y_pos = np.arange(len(important_features.index[0:20]))\n",
    "\n",
    "\n",
    "plt.bar(y_pos,important_features.values[0:20], alpha=0.3)\n",
    "plt.xticks(y_pos, important_features.index[0:20], rotation = (90), fontsize = 11, ha='left')\n",
    "plt.ylabel('Feature Importance Scores')\n",
    "plt.title('Feature Importance')\n",
    "\n",
    "plt.show()"
   ]
  },
  {
   "cell_type": "markdown",
   "metadata": {},
   "source": [
    "### Feature Importance"
   ]
  },
  {
   "cell_type": "code",
   "execution_count": 155,
   "metadata": {},
   "outputs": [
    {
     "name": "stdout",
     "output_type": "stream",
     "text": [
      "building_age                  0.041581\n",
      "taxdis_DOWNTOWN DISTRICT 2    0.040244\n",
      "propuse_Office                0.035531\n",
      "vacorimp                      0.031867\n",
      "propuse_Commercial            0.031283\n",
      "wall_PRECAST PANL             0.029292\n",
      "bldg_VERY GOOD                0.029279\n",
      "units                         0.028270\n",
      "storyh_1 STORY                0.026635\n",
      "fload_Two                     0.026625\n",
      "roofbarjoistind               0.026622\n",
      "wall_FACE BRICK               0.026452\n",
      "lockbox                       0.026092\n",
      "nbrstories                    0.025081\n",
      "occupancyload                 0.023891\n",
      "propuse_Residential           0.023681\n",
      "foundn_SLAB-COM               0.023222\n",
      "taxdis_UNKNOWN                0.022236\n",
      "nbrofsprinklersystems         0.021275\n",
      "wall_CONC/OTHERS              0.020551\n",
      "dtype: float64\n"
     ]
    },
    {
     "data": {
      "image/png": "[encoded data removed]",
      "text/plain": [
       "<matplotlib.figure.Figure at 0x14fe5747390>"
      ]
     },
     "metadata": {},
     "output_type": "display_data"
    }
   ],
   "source": [
    "#Tree model for getting feature importance\n",
    "from sklearn.ensemble import ExtraTreesClassifier\n",
    "clf = ExtraTreesClassifier()\n",
    "\n",
    "#imputed_fireVarTrain = fireVarTrain.fillna(method=\"ffill\")\n",
    "#imputed_traindata = traindata.fillna(method=\"ffill\")\n",
    "\n",
    "impute_X = np.array(x_train)\n",
    "impute_y = np.ravel(y_train)\n",
    "\n",
    "clf = clf.fit(impute_X, impute_y)\n",
    "\n",
    "UsedDf = x_train\n",
    "important_features = pd.Series(data=clf.feature_importances_,index=UsedDf.columns)\n",
    "important_features.sort_values(ascending=False,inplace=True)\n",
    "#top 20 features\n",
    "print (important_features[0:20])\n",
    "\n",
    "#Plotting the top 20 features\n",
    "y_pos = np.arange(len(important_features.index[0:20]))\n",
    "\n",
    "plt.bar(y_pos,important_features.values[0:20], alpha=0.3)\n",
    "plt.xticks(y_pos, important_features.index[0:20], rotation = (90), fontsize = 11, ha='left')\n",
    "plt.ylabel('Feature Importance Scores')\n",
    "plt.title('Feature Importance')\n",
    "\n",
    "plt.show()"
   ]
  },
  {
   "cell_type": "code",
   "execution_count": 156,
   "metadata": {},
   "outputs": [
    {
     "name": "stdout",
     "output_type": "stream",
     "text": [
      "Features sorted by their score:\n",
      "[(0.12709999999999999, 'building_age'), (0.0504, 'wall_FACE BRICK'), (0.044499999999999998, 'nbrofsprinklersystems'), (0.043799999999999999, 'propuse_Commercial'), (0.035700000000000003, 'cnt_otherfixtures'), (0.0281, 'occupancyload'), (0.027699999999999999, 'fullbaths'), (0.027300000000000001, 'lockbox'), (0.0253, 'roofbarjoistind'), (0.025100000000000001, 'vacorimp'), (0.0246, 'taxsqft'), (0.024, 'wall_CONC/OTHERS'), (0.023199999999999998, 'taxdis_DOWNTOWN DISTRICT 3'), (0.022700000000000001, 'bldg_VERY GOOD'), (0.021600000000000001, 'propuse_Office'), (0.021100000000000001, 'nbrstories'), (0.019699999999999999, 'alrm_Misc'), (0.018800000000000001, 'freq_Three Yearly'), (0.018200000000000001, 'bldg_AVERAGE'), (0.017999999999999999, 'fload_One'), (0.0178, 'heat_AC-PCKD ROOF'), (0.017600000000000001, 'fload_Two'), (0.016899999999999998, 'roofwoodind'), (0.016500000000000001, 'wall_PRECAST PANL'), (0.015800000000000002, 'units'), (0.0149, 'inspectabl'), (0.014, 'bldg_GOOD'), (0.0135, 'propuse_Govt-Inst'), (0.0134, 'taxdis_UNKNOWN'), (0.0132, 'storyh_1 STORY'), (0.013100000000000001, 'heatfuel_GAS'), (0.0129, 'wall_GLASS/STONE'), (0.0129, 'freq_Yearly'), (0.0124, 'taxdis_DOWNTOWN DISTRICT 2'), (0.0124, 'foundn_SLAB-OTHERS'), (0.0115, 'wall_SDG MIN/NONE'), (0.0115, 'roofsteelind'), (0.0114, 'propuse_Residential'), (0.010999999999999999, 'sprinkleredbuilding'), (0.0092999999999999992, 'propuse_Warehouse'), (0.0091999999999999998, 'heatfuel_ELECTRIC'), (0.0091999999999999998, 'bldg_EXCELLENT'), (0.0082000000000000007, 'foundn_SLAB-COM'), (0.0077999999999999996, 'rootconcreteind'), (0.0077000000000000002, 'taxdis_DOWNTOWN DISTRICT'), (0.0077000000000000002, 'stairwayopenind'), (0.0074999999999999997, 'heat_AIR-DUCTED'), (0.0074000000000000003, 'heat_HEAT MISC'), (0.0044999999999999997, 'alrm_Four Alarms'), (0.0023999999999999998, 'floorcrowedind'), (0.0020999999999999999, 'halfbaths'), (0.002, 'foundn_SLAB-RES'), (0.0016000000000000001, 'numfirepla'), (0.0015, 'highrisk'), (0.001, 'vitalfacility'), (0.00080000000000000004, 'floorhighpileind'), (0.00020000000000000001, 'roofunsafeind'), (0.00020000000000000001, 'flooropenpitind'), (0.0001, 'wallcrackedind'), (0.0, 'wallunsafeind'), (0.0, 'nbrbuildings'), (0.0, 'floorunsafeind')]\n"
     ]
    }
   ],
   "source": [
    "from sklearn.ensemble import RandomForestClassifier\n",
    "names = list(x_train)\n",
    "rf = RandomForestClassifier(n_estimators=10, max_features=25)\n",
    "rf.fit(x_train, y_train)\n",
    "print (\"Features sorted by their score:\")\n",
    "print (sorted(zip(map(lambda x: round(x, 4), rf.feature_importances_), names), \n",
    "             reverse=True))"
   ]
  },
  {
   "cell_type": "markdown",
   "metadata": {},
   "source": [
    "### ROC Curve"
   ]
  },
  {
   "cell_type": "markdown",
   "metadata": {},
   "source": [
    "#### A Receiver Operating Characteristic (ROC) Curve is a way to compare diagnostic tests. It is a plot of the true positive rate against the false positive rate. A ROC plot shows:\n",
    "\n",
    "#####     The relationship between sensitivity and specificity. For example, a decrease in sensitivity results in an increase in specificity.\n",
    "#####     Test accuracy; the closer the graph is to the top and left-hand borders, the more accurate the test. Likewise, the closer the graph to the  \n",
    "#####     diagonal, the less accurate the test. A perfect test would go straight from zero up the top-left corner and straight across the horizontal.\n",
    "#####     The likelihood ratio; given by the derivative at any particular cutpoint."
   ]
  },
  {
   "cell_type": "code",
   "execution_count": 157,
   "metadata": {},
   "outputs": [
    {
     "name": "stdout",
     "output_type": "stream",
     "text": [
      "Area under the ROC curve for Logistic Regression : 0.525234\n",
      "Area under the ROC curve for Random Forest : 0.536248\n",
      "Area under the ROC curve for KNN classification : 0.504852\n",
      "Area under the ROC curve for Naive Bayes : 0.508070\n",
      "Area under the ROC curve for Decision Tree : 0.547412\n",
      "Area under the ROC curve for AdaBoost : 0.528788\n",
      "Area under the ROC curve for XG Boost : 0.546208\n",
      "Area under the ROC curve for Gradient Boosting : 0.543847\n"
     ]
    }
   ],
   "source": [
    "\n",
    "### ROC plot preparation - roc_curve(true level,predicted outcome)\n",
    "fpr, tpr, thresholds =roc_curve(y_test, lr_pred) \n",
    "roc_auc1 = auc(fpr, tpr)\n",
    "print(\"Area under the ROC curve for Logistic Regression : %f\" % roc_auc1)\n",
    "\n",
    "fpr2, tpr2, thresholds2 =roc_curve(y_test, rf_pred)\n",
    "roc_auc2 = auc(fpr2,tpr2)\n",
    "print(\"Area under the ROC curve for Random Forest : %f\" % roc_auc2)\n",
    "\n",
    "fpr3, tpr3, thresholds3 =roc_curve(y_test, kn_pred)\n",
    "roc_auc3 = auc(fpr3, tpr3)\n",
    "print(\"Area under the ROC curve for KNN classification : %f\" % roc_auc3)\n",
    "\n",
    "fpr4, tpr4, thresholds4 =roc_curve(y_test, nb_pred)\n",
    "roc_auc4 = auc(fpr4, tpr4)\n",
    "print(\"Area under the ROC curve for Naive Bayes : %f\" % roc_auc4)\n",
    "\n",
    "fpr5, tpr5, thresholds5 =roc_curve(y_test, dt_pred)\n",
    "roc_auc5 = auc(fpr5, tpr5)\n",
    "print(\"Area under the ROC curve for Decision Tree : %f\" % roc_auc5)\n",
    "\n",
    "fpr6, tpr6, thresholds6 =roc_curve(y_test, pred_adaboost)\n",
    "roc_auc6 = auc(fpr6, tpr6)\n",
    "print(\"Area under the ROC curve for AdaBoost : %f\" % roc_auc6)\n",
    "\n",
    "fpr7, tpr7, thresholds7 =roc_curve(y_test, xgpred)\n",
    "roc_auc7 = auc(fpr7, tpr7)\n",
    "print(\"Area under the ROC curve for XG Boost : %f\" % roc_auc7)\n",
    "\n",
    "fpr8, tpr8, thresholds8 =roc_curve(y_test, gbpred)\n",
    "roc_auc8 = auc(fpr8, tpr8)\n",
    "print(\"Area under the ROC curve for Gradient Boosting : %f\" % roc_auc8)\n",
    "\n",
    "#fpr9, tpr9, thresholds9 =roc_curve(y_test, svm_pred)\n",
    "#roc_auc9 = auc(fpr9, tpr9)\n",
    "#print(\"Area under the ROC curve for SVM : %f\" % roc_auc9)"
   ]
  },
  {
   "cell_type": "code",
   "execution_count": 158,
   "metadata": {},
   "outputs": [
    {
     "data": {
      "image/png": "[encoded data removed]",
      "text/plain": [
       "<matplotlib.figure.Figure at 0x14ff63225c0>"
      ]
     },
     "metadata": {},
     "output_type": "display_data"
    }
   ],
   "source": [
    "\n",
    "### Plot ROC plots\n",
    "plt.figure()\n",
    "plt.plot(fpr,tpr,label='Logistic Regression(AUC = %0.2f)' % roc_auc1)\n",
    "plt.plot(fpr2,tpr2,label='Random Forest(AUC = %0.2f)' % roc_auc2)\n",
    "plt.plot(fpr3,tpr3,label='KNN, (AUC = %0.2f)' % roc_auc3)\n",
    "plt.plot(fpr4,tpr4,label='Naive Bayes(AUC = %0.2f)' % roc_auc4)\n",
    "\n",
    "#plt.plot(fpr5,tpr5,label='Support Vec Mach(AUC = %0.2f)' % roc_auc9)\n",
    "plt.xlim(0, 1)\n",
    "plt.ylim(0, 1.05)\n",
    "plt.plot([0, 1], [0, 1],'k--')\n",
    "plt.xlabel('False Positive Rate')\n",
    "plt.ylabel('True Positive Rate')\n",
    "plt.title('ROC for LR, RF, KNN and NB')\n",
    "plt.legend(loc=\"lower right\")\n",
    "plt.show()"
   ]
  },
  {
   "cell_type": "code",
   "execution_count": 159,
   "metadata": {
    "scrolled": true
   },
   "outputs": [
    {
     "data": {
      "image/png": "[encoded data removed]",
      "text/plain": [
       "<matplotlib.figure.Figure at 0x14ff6321ba8>"
      ]
     },
     "metadata": {},
     "output_type": "display_data"
    }
   ],
   "source": [
    "plt.figure()\n",
    "plt.plot(fpr5,tpr5,label='Decision Tree(AUC = %0.2f)' % roc_auc5)\n",
    "plt.plot(fpr6,tpr6,label='Ada Boost(AUC = %0.2f)' % roc_auc6)\n",
    "plt.plot(fpr7,tpr7,label='XG Boost(AUC = %0.2f)' % roc_auc7)\n",
    "plt.plot(fpr8,tpr8,label='Gradient Boosting(AUC = %0.2f)' % roc_auc8)\n",
    "\n",
    "plt.xlim(0, 1)\n",
    "plt.ylim(0, 1.05)\n",
    "plt.plot([0, 1], [0, 1],'k--')\n",
    "plt.xlabel('False Positive Rate')\n",
    "plt.ylabel('True Positive Rate')\n",
    "plt.title('ROC for DT, Ada Boost, XGB and GB')\n",
    "plt.legend(loc=\"lower right\")\n",
    "plt.show()"
   ]
  },
  {
   "cell_type": "markdown",
   "metadata": {},
   "source": [
    "### Model Evaluation"
   ]
  },
  {
   "cell_type": "markdown",
   "metadata": {},
   "source": [
    "The code below is to evaluate various machine learning models which have been tried in the above steps. The mean accuracy and standard deviation of all the models are compared using stratified shuffle split as parameter for cross validation and plotted as a bar chart for visual comparison."
   ]
  },
  {
   "cell_type": "code",
   "execution_count": 160,
   "metadata": {
    "collapsed": true
   },
   "outputs": [],
   "source": [
    "# stratified shuffle split of the data into 10 folds, with 20% of the data used in testing\n",
    "from sklearn.model_selection import StratifiedShuffleSplit\n",
    "sss = StratifiedShuffleSplit(n_splits=10, test_size=0.25, random_state=2)"
   ]
  },
  {
   "cell_type": "code",
   "execution_count": 161,
   "metadata": {
    "scrolled": true
   },
   "outputs": [
    {
     "data": {
      "text/plain": [
       "<matplotlib.axes._subplots.AxesSubplot at 0x14fe7c31fd0>"
      ]
     },
     "execution_count": 161,
     "metadata": {},
     "output_type": "execute_result"
    },
    {
     "data": {
      "image/png": "[encoded data removed]",
      "text/plain": [
       "<matplotlib.figure.Figure at 0x14fe7c37d30>"
      ]
     },
     "metadata": {},
     "output_type": "display_data"
    }
   ],
   "source": [
    "random_state=2\n",
    "\n",
    "# store all the classifiers in a list\n",
    "classifiers=[]\n",
    "classifiers.append(SVC(random_state=random_state))\n",
    "classifiers.append(DecisionTreeClassifier(random_state=random_state))\n",
    "classifiers.append(RandomForestClassifier(random_state=random_state))\n",
    "classifiers.append(KNeighborsClassifier())\n",
    "classifiers.append(LogisticRegression(random_state=random_state))\n",
    "classifiers.append(AdaBoostClassifier(DecisionTreeClassifier(random_state=random_state),random_state=random_state))\n",
    "classifiers.append(ExtraTreesClassifier(random_state=random_state))\n",
    "classifiers.append(GradientBoostingClassifier(random_state=random_state))\n",
    "classifiers.append(XGBClassifier(random_state=random_state))\n",
    "classifiers.append(GaussianNB())\n",
    "\n",
    "# store the cross validation accuracy results in a list\n",
    "cv_results=[]\n",
    "for classifier in classifiers:\n",
    "    cv_results.append(cross_val_score(estimator=classifier,X=x_train,y=y_train,\n",
    "                                      cv=sss,scoring='accuracy', n_jobs=-1))\n",
    "\n",
    "# store the mean accuracy and standard deviation of the accuracy for each cross validation fold in lists    \n",
    "cv_means=[]\n",
    "cv_std=[]\n",
    "for cv_result in cv_results:\n",
    "    cv_means.append(cv_result.mean())\n",
    "    cv_std.append(cv_result.std())\n",
    "\n",
    "# Combine the results lists in a dataframe\n",
    "cv_results=pd.DataFrame({'CV_mean':cv_means , 'CV_std':cv_std , 'Algorithm':['SVC','DTC','RFC','KNN','LR',\n",
    "                                                                             'ADA','XT','GBC','XGB','GNB']})\n",
    "# sort the results by score\n",
    "cv_results = cv_results.sort_values('CV_mean',ascending=False)\n",
    "\n",
    "# plot the values for swift visual assessment of classifier performance\n",
    "plt.subplots(figsize=(8,5))\n",
    "sns.barplot('Algorithm','CV_mean',data=cv_results)"
   ]
  },
  {
   "cell_type": "code",
   "execution_count": 162,
   "metadata": {},
   "outputs": [
    {
     "data": {
      "text/html": [
       "<div>\n",
       "<style>\n",
       "    .dataframe thead tr:only-child th {\n",
       "        text-align: right;\n",
       "    }\n",
       "\n",
       "    .dataframe thead th {\n",
       "        text-align: left;\n",
       "    }\n",
       "\n",
       "    .dataframe tbody tr th {\n",
       "        vertical-align: top;\n",
       "    }\n",
       "</style>\n",
       "<table border=\"1\" class=\"dataframe\">\n",
       "  <thead>\n",
       "    <tr style=\"text-align: right;\">\n",
       "      <th></th>\n",
       "      <th>Algorithm</th>\n",
       "      <th>CV_mean</th>\n",
       "      <th>CV_std</th>\n",
       "    </tr>\n",
       "  </thead>\n",
       "  <tbody>\n",
       "    <tr>\n",
       "      <th>5</th>\n",
       "      <td>ADA</td>\n",
       "      <td>0.635722</td>\n",
       "      <td>0.002430</td>\n",
       "    </tr>\n",
       "    <tr>\n",
       "      <th>6</th>\n",
       "      <td>XT</td>\n",
       "      <td>0.634547</td>\n",
       "      <td>0.002557</td>\n",
       "    </tr>\n",
       "    <tr>\n",
       "      <th>2</th>\n",
       "      <td>RFC</td>\n",
       "      <td>0.634380</td>\n",
       "      <td>0.003066</td>\n",
       "    </tr>\n",
       "    <tr>\n",
       "      <th>1</th>\n",
       "      <td>DTC</td>\n",
       "      <td>0.633751</td>\n",
       "      <td>0.002398</td>\n",
       "    </tr>\n",
       "    <tr>\n",
       "      <th>0</th>\n",
       "      <td>SVC</td>\n",
       "      <td>0.624755</td>\n",
       "      <td>0.001786</td>\n",
       "    </tr>\n",
       "    <tr>\n",
       "      <th>8</th>\n",
       "      <td>XGB</td>\n",
       "      <td>0.622265</td>\n",
       "      <td>0.001669</td>\n",
       "    </tr>\n",
       "    <tr>\n",
       "      <th>7</th>\n",
       "      <td>GBC</td>\n",
       "      <td>0.621959</td>\n",
       "      <td>0.002157</td>\n",
       "    </tr>\n",
       "    <tr>\n",
       "      <th>3</th>\n",
       "      <td>KNN</td>\n",
       "      <td>0.586669</td>\n",
       "      <td>0.014413</td>\n",
       "    </tr>\n",
       "    <tr>\n",
       "      <th>4</th>\n",
       "      <td>LR</td>\n",
       "      <td>0.583935</td>\n",
       "      <td>0.004316</td>\n",
       "    </tr>\n",
       "    <tr>\n",
       "      <th>9</th>\n",
       "      <td>GNB</td>\n",
       "      <td>0.521849</td>\n",
       "      <td>0.009701</td>\n",
       "    </tr>\n",
       "  </tbody>\n",
       "</table>\n",
       "</div>"
      ],
      "text/plain": [
       "  Algorithm   CV_mean    CV_std\n",
       "5       ADA  0.635722  0.002430\n",
       "6        XT  0.634547  0.002557\n",
       "2       RFC  0.634380  0.003066\n",
       "1       DTC  0.633751  0.002398\n",
       "0       SVC  0.624755  0.001786\n",
       "8       XGB  0.622265  0.001669\n",
       "7       GBC  0.621959  0.002157\n",
       "3       KNN  0.586669  0.014413\n",
       "4        LR  0.583935  0.004316\n",
       "9       GNB  0.521849  0.009701"
      ]
     },
     "execution_count": 162,
     "metadata": {},
     "output_type": "execute_result"
    }
   ],
   "source": [
    "cv_results"
   ]
  },
  {
   "cell_type": "code",
   "execution_count": 163,
   "metadata": {
    "collapsed": true
   },
   "outputs": [],
   "source": [
    "x_test.to_csv(\"Results_test.csv\")"
   ]
  }
 ],
 "metadata": {
  "kernelspec": {
   "display_name": "Python 2",
   "language": "python",
   "name": "python2"
  },
  "language_info": {
   "codemirror_mode": {
    "name": "ipython",
    "version": 2
   },
   "file_extension": ".py",
   "mimetype": "text/x-python",
   "name": "python",
   "nbconvert_exporter": "python",
   "pygments_lexer": "ipython2",
   "version": "2.7.13"
  }
 },
 "nbformat": 4,
 "nbformat_minor": 2
}
